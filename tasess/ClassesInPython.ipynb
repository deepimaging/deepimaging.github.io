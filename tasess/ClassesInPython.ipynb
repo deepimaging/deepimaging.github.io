{
  "nbformat": 4,
  "nbformat_minor": 0,
  "metadata": {
    "colab": {
      "name": "ClassesInPython.ipynb",
      "provenance": [],
      "collapsed_sections": []
    },
    "kernelspec": {
      "display_name": "Python 3",
      "language": "python",
      "name": "python3"
    },
    "language_info": {
      "codemirror_mode": {
        "name": "ipython",
        "version": 3
      },
      "file_extension": ".py",
      "mimetype": "text/x-python",
      "name": "python",
      "nbconvert_exporter": "python",
      "pygments_lexer": "ipython3",
      "version": "3.7.5"
    }
  },
  "cells": [
    {
      "cell_type": "markdown",
      "metadata": {
        "colab_type": "text",
        "id": "ypU81EqXeu1Z"
      },
      "source": [
        "# Object Oriented Programming\n",
        "Object oriented programming is a a paradigm which provides a means of structuring the program so that properties and behaviours are bundled into *objects*. Objects are logical subgroups which contain functions and data that are related together. You can also think of objects as things or ideas that you are trying to model through the program. For example, a bank account maybe an object, students enrolled in a class can be objects, characters in a game are objects, and as we shall see later - neural networks and their building blocks can be treated as objects."
      ]
    },
    {
      "cell_type": "markdown",
      "metadata": {
        "colab_type": "text",
        "id": "H0zKi_6GhTpN"
      },
      "source": [
        "## Classes\n",
        "Each object is an instance of a *class*. You can think of a class as a blueprint with which you can create new objects. A class should represent a clear concept and provide a well defined interface. They will generally have two components: attributes (or state or data) and methods (or behaviour). We often use class based description to think about the world. For example, when I say cat, you would begin to think about its *attributes* - what colour is the cat, which breed is it, what is the age, does it have a name and so forth. You also would think about its behaviour - is it hungry, is it sleeping, can I pet it, etc. \n",
        "\n",
        "Now, defining a class in python is easy. We simply use the `class` keyword.\n",
        "\n"
      ]
    },
    {
      "cell_type": "code",
      "metadata": {
        "colab_type": "code",
        "id": "hW8L1gSVeWvt",
        "colab": {}
      },
      "source": [
        "class Cat:\n",
        "  pass"
      ],
      "execution_count": 0,
      "outputs": []
    },
    {
      "cell_type": "markdown",
      "metadata": {
        "colab_type": "text",
        "id": "L828Kjbjk4lR"
      },
      "source": [
        "## Objects\n",
        "As we said before, the objects are particular instances of a class. For example, Cat is a class but Tom, Sylvester and Garfield are 3 instances of this class and are objects. Each class should provide a method to create new objects called an initializer. Initializer will create a new object in memory and assign initial values to the attributes (hence initializer). In python, we have `__init__` method as the initializer ([Why the double underscores, you ask?](https://stackoverflow.com/questions/8689964/why-do-some-functions-have-underscores-before-and-after-the-function-name)).\n",
        "\n",
        "In python, since we don't need to declare variables, we will directly write the `__init__` method and assign values to attributes."
      ]
    },
    {
      "cell_type": "code",
      "metadata": {
        "colab_type": "code",
        "id": "TkNHp_pAk7Pu",
        "colab": {}
      },
      "source": [
        "class Cat:\n",
        "  isHungry = False\n",
        "  def __init__(self, name, age, breed):\n",
        "    self.name = name\n",
        "    self.age = age\n",
        "    self.breed = breed"
      ],
      "execution_count": 0,
      "outputs": []
    },
    {
      "cell_type": "markdown",
      "metadata": {
        "colab_type": "text",
        "id": "0vqtItTkm7N3"
      },
      "source": [
        "What is that `self` thing? Well it represents the instance itself. It tells the computer to access its own attributes and/or methods. Let's see it in action."
      ]
    },
    {
      "cell_type": "code",
      "metadata": {
        "colab_type": "code",
        "id": "zRqkEiatm5qd",
        "outputId": "cd49a812-b14f-4e84-eb0e-08a5f64ac9eb",
        "colab": {
          "base_uri": "https://localhost:8080/",
          "height": 34
        }
      },
      "source": [
        "# we create an instance of class Cat\n",
        "catNextDoor = Cat(\"tom\", 6, \"shorthair\")\n",
        "# note that we just used the name cat and also did not pass self\n",
        "age = 8\n",
        "# we can access the attributes or methods of an object this way\n",
        "catNextDoor.age"
      ],
      "execution_count": 0,
      "outputs": [
        {
          "output_type": "execute_result",
          "data": {
            "text/plain": [
              "6"
            ]
          },
          "metadata": {
            "tags": []
          },
          "execution_count": 3
        }
      ]
    },
    {
      "cell_type": "markdown",
      "metadata": {
        "colab_type": "text",
        "id": "HhOel6uqnzbN"
      },
      "source": [
        "Let's add some methods to this class"
      ]
    },
    {
      "cell_type": "code",
      "metadata": {
        "colab_type": "code",
        "id": "gCBwwM7CnyD5",
        "colab": {}
      },
      "source": [
        "class Cat:\n",
        "  isHungry = False\n",
        "  def __init__(self, name, age, breed):\n",
        "    self.name = name\n",
        "    self.age = age\n",
        "    self.breed = breed\n",
        "\n",
        "  def showAge(self):\n",
        "    return self.age\n",
        "  \n",
        "  def setHungry(self, value):\n",
        "    self.isHungry = value\n",
        "\n",
        "    # Note how I add self to each method"
      ],
      "execution_count": 0,
      "outputs": []
    },
    {
      "cell_type": "code",
      "metadata": {
        "colab_type": "code",
        "id": "dZubaPTAoyMn",
        "outputId": "9c6a0ee0-c08a-4fa8-9014-dbfd2aa6a0e7",
        "colab": {
          "base_uri": "https://localhost:8080/",
          "height": 51
        }
      },
      "source": [
        "lazyCat = Cat(\"garfield\", 4, \"orange tabby\")\n",
        "lazyCat.setHungry(True)\n",
        "print(lazyCat.isHungry)\n",
        "lazyCat.showAge()\n",
        "# note how I do not add self to any calls"
      ],
      "execution_count": 0,
      "outputs": [
        {
          "output_type": "stream",
          "text": [
            "True\n"
          ],
          "name": "stdout"
        },
        {
          "output_type": "execute_result",
          "data": {
            "text/plain": [
              "4"
            ]
          },
          "metadata": {
            "tags": []
          },
          "execution_count": 5
        }
      ]
    },
    {
      "cell_type": "markdown",
      "metadata": {
        "colab_type": "text",
        "id": "qOFO2LFzpgbG"
      },
      "source": [
        "## Inheritance\n",
        "If we have several descriptions with some commonality between these descriptions, we can group the descriptions and their commonality using *inheritance*. It is a way of arranging objects in a hierarchy from the most general to the most specific. An object which *inherits* from another object is considered to be a *subtype* of that object. It describes an \"is a\" relationship. For example, a duck is a bird, so if we have a general bird class, the duck class will inherit attributes and methods from it. Also, the duck class will be a subtype of the bird class. It is also described as a child-parent relationship.\n",
        "\n",
        "In python, we simply change definition slightly and `__init__` function will include the `__init__` of the parent class."
      ]
    },
    {
      "cell_type": "code",
      "metadata": {
        "colab_type": "code",
        "id": "IyyUc5_SpZru",
        "colab": {}
      },
      "source": [
        "class Felines:\n",
        "  def __init__(self, type, isWild):\n",
        "    self.type = type\n",
        "    self.isWild = isWild\n",
        "\n",
        "class Cat(Felines):\n",
        "  isHungry = False\n",
        "  def __init__(self, name, age, breed, type, isWild):\n",
        "    super(Cat, self).__init__(type, isWild)\n",
        "    self.name = name\n",
        "    self.age = age\n",
        "    self.breed = breed\n",
        "\n",
        "  def showAge(self):\n",
        "    return self.age\n",
        "  \n",
        "  def setHungry(self, value):\n",
        "    self.isHungry = value"
      ],
      "execution_count": 0,
      "outputs": []
    },
    {
      "cell_type": "code",
      "metadata": {
        "colab_type": "code",
        "id": "vKcxOkGZvteT",
        "outputId": "ca7145b5-0263-4d91-a39a-6182b069db18",
        "colab": {
          "base_uri": "https://localhost:8080/",
          "height": 68
        }
      },
      "source": [
        "grannysCat = Cat(\"sylvester\", 8, \"tuxedo\", \"cat\", False)\n",
        "# now this object will attributes from Felines as well Cat\n",
        "print(grannysCat.type)\n",
        "print(grannysCat.isWild)\n",
        "grannysCat.showAge()"
      ],
      "execution_count": 0,
      "outputs": [
        {
          "output_type": "stream",
          "text": [
            "cat\n",
            "False\n"
          ],
          "name": "stdout"
        },
        {
          "output_type": "execute_result",
          "data": {
            "text/plain": [
              "8"
            ]
          },
          "metadata": {
            "tags": []
          },
          "execution_count": 7
        }
      ]
    },
    {
      "cell_type": "markdown",
      "metadata": {
        "id": "PTMmWzyI-Dgy",
        "colab_type": "text"
      },
      "source": [
        "## Resources\n",
        "More information can be found on the foolowing websites\n",
        "1. [Lecture 8](https://ocw.mit.edu/courses/electrical-engineering-and-computer-science/6-0001-introduction-to-computer-science-and-programming-in-python-fall-2016/lecture-videos/lecture-8-object-oriented-programming/) and [Lecture 9](https://ocw.mit.edu/courses/electrical-engineering-and-computer-science/6-0001-introduction-to-computer-science-and-programming-in-python-fall-2016/lecture-videos/lecture-9-python-classes-and-inheritance/) of MIT OCW 6.0001\n",
        "2. [These super cute slides](https://web.stanford.edu/class/archive/cs/cs106a/cs106a.1134/lectures/06/Slides06.pdf)\n",
        "2. [Pyhton textbook](https://python-textbok.readthedocs.io/en/1.0/Object_Oriented_Programming.html#introduction)\n",
        "3. [Understanding `super` and `__init__`](https://stackoverflow.com/questions/576169/understanding-python-super-with-init-methods)\n",
        "4. [This guide](https://dev.to/charanrajgolla/beginners-guide---object-oriented-programming)\n",
        "5. Google OOP lmao"
      ]
    },
    {
      "cell_type": "code",
      "metadata": {
        "id": "HEbiw_UO-Aa4",
        "colab_type": "code",
        "colab": {}
      },
      "source": [
        ""
      ],
      "execution_count": 0,
      "outputs": []
    }
  ]
}