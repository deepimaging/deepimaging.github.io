{
 "cells": [
  {
   "cell_type": "markdown",
   "metadata": {},
   "source": [
    "# TA session weeks 2 and 3: quick introduction to python and jupyter notebooks\n",
    "This intro assumes that you are comfortable programming in matlab. Knowing one will accelerate learning the other because in many ways python and matlab are very similar, but at the same time there are a few crucial differences. Here, we go over some of the features of python that may be useful for this course, and we draw parallels to matlab where appropriate."
   ]
  },
  {
   "cell_type": "markdown",
   "metadata": {},
   "source": [
    "## Matlab vs. Python\n",
    "Althoug matlab is a great tool for engineering, it has a few quirks that make it stand apart from other languages. So a few things to keep in mind when moving between the two:\n",
    "1. Indexing starts at zero (as it should be!)\n",
    "2. You'll need to import many more libraries, there are fewer built-ins in python, but there is a much richer set of software available to install\n",
    "3. There is no variable window and the console is less important\n",
    "\n",
    "There are many more differences, however this isn't a python class. If you have any specific issues please bring me (Colin) your questions and I'm happy to help you out. However, Google and StackOverflow are your friends"
   ]
  },
  {
   "cell_type": "markdown",
   "metadata": {},
   "source": [
    "## Jupyter notebooks\n",
    "First we'll cover jupyter notebooks"
   ]
  },
  {
   "cell_type": "markdown",
   "metadata": {},
   "source": [
    "This document is a jupyter notebook. This block of text is housed by a \"cell\", which can either contain python code or, in this case, text to annotate the code or demarcate sections. You can use shift + enter or ctrl + enter to run the cell, which will run the code or format the text. Cells housing code are similar to sections in matlab scripts denoted by \"%%\"."
   ]
  },
  {
   "cell_type": "markdown",
   "metadata": {},
   "source": [
    "There are multiple types of cells, we will use the two major ones: markdown and python\n",
    "\n",
    "This is a markdown cell, you can therefore use fun markdown syntax like *italics*, **bold**, and `code`\n",
    "\n",
    "You can also embed equations using LaTeX expressions: $$L(p, y) = \\sum_{c=1}^N y_c log(p_c)$$\n",
    "\n",
    "Unlike code cells, markdown cells aren't WYSIWYG. You can double click on a cell to see it's contents"
   ]
  },
  {
   "cell_type": "code",
   "execution_count": 1,
   "metadata": {},
   "outputs": [
    {
     "name": "stdout",
     "output_type": "stream",
     "text": [
      "hello world\n"
     ]
    }
   ],
   "source": [
    "# this is a code cell; running it will run the python code contained within; for example,\n",
    "first = 'hello'\n",
    "second = 'world'\n",
    "print(first + ' ' + second)\n",
    "# the output of the notebook cell will be anything from std out (for example print statements)\n",
    "# in addition the value of the last line in the cell is output (if it has one)"
   ]
  },
  {
   "cell_type": "code",
   "execution_count": 2,
   "metadata": {},
   "outputs": [
    {
     "data": {
      "text/plain": [
       "'hello'"
      ]
     },
     "execution_count": 2,
     "metadata": {},
     "output_type": "execute_result"
    }
   ],
   "source": [
    "first"
   ]
  },
  {
   "cell_type": "markdown",
   "metadata": {},
   "source": [
    "Variables are defined globally for the most part. So if you create one variable in a cell, you can use it later."
   ]
  },
  {
   "cell_type": "code",
   "execution_count": 3,
   "metadata": {},
   "outputs": [
    {
     "data": {
      "text/plain": [
       "'hello'"
      ]
     },
     "execution_count": 3,
     "metadata": {},
     "output_type": "execute_result"
    }
   ],
   "source": [
    "if first == 'hello':\n",
    "    second = 'hello'\n",
    "second"
   ]
  },
  {
   "cell_type": "markdown",
   "metadata": {},
   "source": [
    "Try restarting the kernel: Kernel > Restart (or the restart button next to the stop button)"
   ]
  },
  {
   "cell_type": "markdown",
   "metadata": {},
   "source": [
    "## Data structures\n",
    "Data structures that will be useful in this course are:\n",
    "- list\n",
    "- dictionaries\n",
    "- tuples\n"
   ]
  },
  {
   "cell_type": "markdown",
   "metadata": {},
   "source": [
    "### Lists\n",
    "A python list is like a cell array in matlab, it is very flexible and can contain any number and any type of elements\n"
   ]
  },
  {
   "cell_type": "code",
   "execution_count": 4,
   "metadata": {},
   "outputs": [
    {
     "name": "stdout",
     "output_type": "stream",
     "text": [
      "[]\n",
      "[]\n",
      "[1, 3, 5, 'a', 'sdf']\n"
     ]
    }
   ],
   "source": [
    "# functional declartion (not used often)\n",
    "list1 = list()\n",
    "print(list1)\n",
    "list1 = []\n",
    "print(list1)\n",
    "list1 = [1, 3, 5, 'a', 'sdf']\n",
    "print(list1)"
   ]
  },
  {
   "cell_type": "markdown",
   "metadata": {},
   "source": [
    "#### Appending to lists using the .append() function:"
   ]
  },
  {
   "cell_type": "code",
   "execution_count": 5,
   "metadata": {},
   "outputs": [
    {
     "name": "stdout",
     "output_type": "stream",
     "text": [
      "[1, 3, 5, 'a', 'sdf', 'new entry']\n"
     ]
    }
   ],
   "source": [
    "list1.append('new entry')\n",
    "print(list1)"
   ]
  },
  {
   "cell_type": "markdown",
   "metadata": {},
   "source": [
    "You can also insert an element at an arbitray position"
   ]
  },
  {
   "cell_type": "code",
   "execution_count": 6,
   "metadata": {},
   "outputs": [
    {
     "name": "stdout",
     "output_type": "stream",
     "text": [
      "[1, 123, 3, 5, 'a', 'sdf', 'new entry']\n"
     ]
    }
   ],
   "source": [
    "list1.insert(1, 123)\n",
    "print(list1)"
   ]
  },
  {
   "cell_type": "markdown",
   "metadata": {},
   "source": [
    "Or re-assign a specific element"
   ]
  },
  {
   "cell_type": "code",
   "execution_count": 7,
   "metadata": {},
   "outputs": [
    {
     "name": "stdout",
     "output_type": "stream",
     "text": [
      "[1, 123, 3, 'hello', 'a', 'sdf', 'new entry']\n"
     ]
    }
   ],
   "source": [
    "list1[3] = 'hello'\n",
    "print(list1)"
   ]
  },
  {
   "cell_type": "markdown",
   "metadata": {},
   "source": [
    "You can get the length of a list by calling `len` on it (this also works for strings, which are backed by lists...)"
   ]
  },
  {
   "cell_type": "code",
   "execution_count": 8,
   "metadata": {},
   "outputs": [
    {
     "data": {
      "text/plain": [
       "7"
      ]
     },
     "execution_count": 8,
     "metadata": {},
     "output_type": "execute_result"
    }
   ],
   "source": [
    "len(list1)"
   ]
  },
  {
   "cell_type": "markdown",
   "metadata": {},
   "source": [
    "**Indexing/Slicing**"
   ]
  },
  {
   "cell_type": "markdown",
   "metadata": {},
   "source": [
    "You can access individual elements using square brackets"
   ]
  },
  {
   "cell_type": "code",
   "execution_count": 9,
   "metadata": {},
   "outputs": [
    {
     "name": "stdout",
     "output_type": "stream",
     "text": [
      "[1, 123, 3, 'hello', 'a', 'sdf', 'new entry']\n"
     ]
    },
    {
     "data": {
      "text/plain": [
       "3"
      ]
     },
     "execution_count": 9,
     "metadata": {},
     "output_type": "execute_result"
    }
   ],
   "source": [
    "print(list1)\n",
    "list1[2]"
   ]
  },
  {
   "cell_type": "markdown",
   "metadata": {},
   "source": [
    "You can also access a \"slice\" of elements using the `:`"
   ]
  },
  {
   "cell_type": "code",
   "execution_count": 10,
   "metadata": {},
   "outputs": [
    {
     "data": {
      "text/plain": [
       "[3, 'hello', 'a', 'sdf', 'new entry']"
      ]
     },
     "execution_count": 10,
     "metadata": {},
     "output_type": "execute_result"
    }
   ],
   "source": [
    "list1[2:]"
   ]
  },
  {
   "cell_type": "code",
   "execution_count": 11,
   "metadata": {},
   "outputs": [
    {
     "data": {
      "text/plain": [
       "[1, 123, 3]"
      ]
     },
     "execution_count": 11,
     "metadata": {},
     "output_type": "execute_result"
    }
   ],
   "source": [
    "list1[:3]"
   ]
  },
  {
   "cell_type": "code",
   "execution_count": 12,
   "metadata": {},
   "outputs": [
    {
     "data": {
      "text/plain": [
       "[3, 'hello']"
      ]
     },
     "execution_count": 12,
     "metadata": {},
     "output_type": "execute_result"
    }
   ],
   "source": [
    "list1[2:4]"
   ]
  },
  {
   "cell_type": "markdown",
   "metadata": {},
   "source": [
    "List concat"
   ]
  },
  {
   "cell_type": "code",
   "execution_count": 13,
   "metadata": {},
   "outputs": [],
   "source": [
    "list2 = ['a', 3, 5, 'asdf']"
   ]
  },
  {
   "cell_type": "code",
   "execution_count": 14,
   "metadata": {},
   "outputs": [
    {
     "name": "stdout",
     "output_type": "stream",
     "text": [
      "[1, 123, 3, 'hello', 'a', 'sdf', 'new entry']\n",
      "['a', 3, 5, 'asdf']\n",
      "[1, 123, 3, 'hello', 'a', 'sdf', 'new entry', 'a', 3, 5, 'asdf']\n"
     ]
    }
   ],
   "source": [
    "print(list1)\n",
    "print(list2)\n",
    "combined_list = list1 + list2\n",
    "print(combined_list)"
   ]
  },
  {
   "cell_type": "markdown",
   "metadata": {},
   "source": [
    "**Deleting Items**\n",
    "- You can delete an item of a list using `del list[index]`\n",
    "- You can delete several items using a `del list[start:end]`"
   ]
  },
  {
   "cell_type": "markdown",
   "metadata": {},
   "source": [
    "**List comprehension**"
   ]
  },
  {
   "cell_type": "code",
   "execution_count": 15,
   "metadata": {},
   "outputs": [
    {
     "data": {
      "text/plain": [
       "[2, 4, 6]"
      ]
     },
     "execution_count": 15,
     "metadata": {},
     "output_type": "execute_result"
    }
   ],
   "source": [
    "list3 = [1,2,3]\n",
    "[i*2 for i in list3]"
   ]
  },
  {
   "cell_type": "markdown",
   "metadata": {},
   "source": [
    "You can also embed a filter in your comprehension"
   ]
  },
  {
   "cell_type": "code",
   "execution_count": 16,
   "metadata": {},
   "outputs": [
    {
     "data": {
      "text/plain": [
       "[1, 3]"
      ]
     },
     "execution_count": 16,
     "metadata": {},
     "output_type": "execute_result"
    }
   ],
   "source": [
    "[i for i in list3 if i % 2 != 0]"
   ]
  },
  {
   "cell_type": "markdown",
   "metadata": {},
   "source": [
    "### dictionaries\n",
    "Python dictionaries store (key, value) pairs such that specifying a key returns a value. In other languages they're often called hashmaps or just maps.\n",
    "\n",
    "You can `{}` to create a dict"
   ]
  },
  {
   "cell_type": "code",
   "execution_count": 17,
   "metadata": {},
   "outputs": [],
   "source": [
    "dict1 = {'spider': 8, 'cat': 4, 'octopus': 8, 'ant': 6}"
   ]
  },
  {
   "cell_type": "code",
   "execution_count": 18,
   "metadata": {},
   "outputs": [
    {
     "name": "stdout",
     "output_type": "stream",
     "text": [
      "{'spider': 8, 'cat': 4, 'octopus': 8, 'ant': 6}\n"
     ]
    }
   ],
   "source": [
    "print(dict1)"
   ]
  },
  {
   "cell_type": "markdown",
   "metadata": {},
   "source": [
    "You can then access values using the key"
   ]
  },
  {
   "cell_type": "code",
   "execution_count": 19,
   "metadata": {},
   "outputs": [
    {
     "data": {
      "text/plain": [
       "8"
      ]
     },
     "execution_count": 19,
     "metadata": {},
     "output_type": "execute_result"
    }
   ],
   "source": [
    "dict1['spider']"
   ]
  },
  {
   "cell_type": "markdown",
   "metadata": {},
   "source": [
    "You can also re-assign elements of a dict, note this is similar to adding an element as well"
   ]
  },
  {
   "cell_type": "code",
   "execution_count": 20,
   "metadata": {},
   "outputs": [
    {
     "data": {
      "text/plain": [
       "{'spider': 12, 'cat': 4, 'octopus': 8, 'ant': 6, 'frog': 4}"
      ]
     },
     "execution_count": 20,
     "metadata": {},
     "output_type": "execute_result"
    }
   ],
   "source": [
    "# replaceing an element\n",
    "dict1['spider'] = 12\n",
    "# adding a new element\n",
    "dict1['frog'] = 4\n",
    "dict1"
   ]
  },
  {
   "cell_type": "code",
   "execution_count": 21,
   "metadata": {},
   "outputs": [
    {
     "name": "stdout",
     "output_type": "stream",
     "text": [
      "dict_keys(['spider', 'cat', 'octopus', 'ant', 'frog'])\n"
     ]
    },
    {
     "data": {
      "text/plain": [
       "dict_values([12, 4, 8, 6, 4])"
      ]
     },
     "execution_count": 21,
     "metadata": {},
     "output_type": "execute_result"
    }
   ],
   "source": [
    "# you can get all the keys by calling keys()\n",
    "print(dict1.keys())\n",
    "# similarly there is a function for values()\n",
    "dict1.values()"
   ]
  },
  {
   "cell_type": "markdown",
   "metadata": {},
   "source": [
    "### Aside\n",
    "In many languages the ordering of dicts/hashmaps/maps is not guaranteed, in python it is. The order of elements will always be the order of insertion"
   ]
  },
  {
   "cell_type": "code",
   "execution_count": 22,
   "metadata": {},
   "outputs": [],
   "source": [
    "# the keys don't have to be strings, most objects will do (with an exception)\n",
    "dict1[2] = 2"
   ]
  },
  {
   "cell_type": "code",
   "execution_count": 23,
   "metadata": {},
   "outputs": [
    {
     "data": {
      "text/plain": [
       "{'spider': 12, 'cat': 4, 'octopus': 8, 'ant': 6, 'frog': 4, 2: 2}"
      ]
     },
     "execution_count": 23,
     "metadata": {},
     "output_type": "execute_result"
    }
   ],
   "source": [
    "dict1"
   ]
  },
  {
   "cell_type": "markdown",
   "metadata": {},
   "source": [
    "We can't use lists as a key because they don't have a hash function (as they're mutable so the hash would have to be recomputed upon item assignment, making it useless)"
   ]
  },
  {
   "cell_type": "code",
   "execution_count": 24,
   "metadata": {},
   "outputs": [
    {
     "ename": "TypeError",
     "evalue": "unhashable type: 'list'",
     "output_type": "error",
     "traceback": [
      "\u001b[1;31m---------------------------------------------------------------------------\u001b[0m",
      "\u001b[1;31mTypeError\u001b[0m                                 Traceback (most recent call last)",
      "\u001b[1;32m<ipython-input-24-50ec1306f2a4>\u001b[0m in \u001b[0;36m<module>\u001b[1;34m\u001b[0m\n\u001b[0;32m      1\u001b[0m \u001b[0mlist_key\u001b[0m \u001b[1;33m=\u001b[0m \u001b[1;33m[\u001b[0m\u001b[1;34m'a'\u001b[0m\u001b[1;33m,\u001b[0m \u001b[1;36m2\u001b[0m\u001b[1;33m]\u001b[0m\u001b[1;33m\u001b[0m\u001b[1;33m\u001b[0m\u001b[0m\n\u001b[1;32m----> 2\u001b[1;33m \u001b[0mdict1\u001b[0m\u001b[1;33m[\u001b[0m\u001b[0mlist_key\u001b[0m\u001b[1;33m]\u001b[0m \u001b[1;33m=\u001b[0m \u001b[1;36m2\u001b[0m\u001b[1;33m\u001b[0m\u001b[1;33m\u001b[0m\u001b[0m\n\u001b[0m",
      "\u001b[1;31mTypeError\u001b[0m: unhashable type: 'list'"
     ]
    }
   ],
   "source": [
    "list_key = ['a', 2]\n",
    "dict1[list_key] = 2"
   ]
  },
  {
   "cell_type": "code",
   "execution_count": 25,
   "metadata": {},
   "outputs": [
    {
     "data": {
      "text/plain": [
       "6"
      ]
     },
     "execution_count": 25,
     "metadata": {},
     "output_type": "execute_result"
    }
   ],
   "source": [
    "len(dict1)"
   ]
  },
  {
   "cell_type": "markdown",
   "metadata": {},
   "source": [
    "### Tuples\n",
    "Tuples are  immutable lists."
   ]
  },
  {
   "cell_type": "code",
   "execution_count": 26,
   "metadata": {},
   "outputs": [],
   "source": [
    "tuple1 = (1, 'a', 3)"
   ]
  },
  {
   "cell_type": "code",
   "execution_count": 27,
   "metadata": {},
   "outputs": [
    {
     "data": {
      "text/plain": [
       "(1, 'a', 3)"
      ]
     },
     "execution_count": 27,
     "metadata": {},
     "output_type": "execute_result"
    }
   ],
   "source": [
    "tuple1"
   ]
  },
  {
   "cell_type": "code",
   "execution_count": 28,
   "metadata": {},
   "outputs": [
    {
     "ename": "TypeError",
     "evalue": "'tuple' object does not support item assignment",
     "output_type": "error",
     "traceback": [
      "\u001b[1;31m---------------------------------------------------------------------------\u001b[0m",
      "\u001b[1;31mTypeError\u001b[0m                                 Traceback (most recent call last)",
      "\u001b[1;32m<ipython-input-28-04f08d78b2fb>\u001b[0m in \u001b[0;36m<module>\u001b[1;34m\u001b[0m\n\u001b[1;32m----> 1\u001b[1;33m \u001b[0mtuple1\u001b[0m\u001b[1;33m[\u001b[0m\u001b[1;36m2\u001b[0m\u001b[1;33m]\u001b[0m \u001b[1;33m=\u001b[0m \u001b[1;34m'something'\u001b[0m\u001b[1;33m\u001b[0m\u001b[1;33m\u001b[0m\u001b[0m\n\u001b[0m",
      "\u001b[1;31mTypeError\u001b[0m: 'tuple' object does not support item assignment"
     ]
    }
   ],
   "source": [
    "tuple1[2] = 'something'"
   ]
  },
  {
   "cell_type": "code",
   "execution_count": 29,
   "metadata": {},
   "outputs": [
    {
     "data": {
      "text/plain": [
       "3"
      ]
     },
     "execution_count": 29,
     "metadata": {},
     "output_type": "execute_result"
    }
   ],
   "source": [
    "len(tuple1)"
   ]
  },
  {
   "cell_type": "code",
   "execution_count": 30,
   "metadata": {},
   "outputs": [
    {
     "ename": "AttributeError",
     "evalue": "'tuple' object has no attribute 'append'",
     "output_type": "error",
     "traceback": [
      "\u001b[1;31m---------------------------------------------------------------------------\u001b[0m",
      "\u001b[1;31mAttributeError\u001b[0m                            Traceback (most recent call last)",
      "\u001b[1;32m<ipython-input-30-b7cff2e9134e>\u001b[0m in \u001b[0;36m<module>\u001b[1;34m\u001b[0m\n\u001b[1;32m----> 1\u001b[1;33m \u001b[0mtuple1\u001b[0m\u001b[1;33m.\u001b[0m\u001b[0mappend\u001b[0m\u001b[1;33m(\u001b[0m\u001b[1;33m)\u001b[0m\u001b[1;33m\u001b[0m\u001b[1;33m\u001b[0m\u001b[0m\n\u001b[0m",
      "\u001b[1;31mAttributeError\u001b[0m: 'tuple' object has no attribute 'append'"
     ]
    }
   ],
   "source": [
    "tuple1.append()"
   ]
  },
  {
   "cell_type": "markdown",
   "metadata": {},
   "source": [
    "Tuples can be dictionary keys (lists cannot)."
   ]
  },
  {
   "cell_type": "code",
   "execution_count": 31,
   "metadata": {},
   "outputs": [],
   "source": [
    "dict1[tuple1] = 'something'"
   ]
  },
  {
   "cell_type": "code",
   "execution_count": 32,
   "metadata": {},
   "outputs": [
    {
     "name": "stdout",
     "output_type": "stream",
     "text": [
      "{'spider': 12, 'cat': 4, 'octopus': 8, 'ant': 6, 'frog': 4, 2: 2, (1, 'a', 3): 'something'}\n"
     ]
    }
   ],
   "source": [
    "print(dict1)"
   ]
  },
  {
   "cell_type": "markdown",
   "metadata": {},
   "source": [
    "### Additional Notes"
   ]
  },
  {
   "cell_type": "markdown",
   "metadata": {},
   "source": [
    "#### for loops\n",
    "You can loop over any object that is \"iterable\", this can be a `range` object, a list, dict, or even a string!"
   ]
  },
  {
   "cell_type": "code",
   "execution_count": 33,
   "metadata": {},
   "outputs": [
    {
     "name": "stdout",
     "output_type": "stream",
     "text": [
      "0\n",
      "1\n",
      "2\n"
     ]
    }
   ],
   "source": [
    "for i in range(3):\n",
    "    print(i)"
   ]
  },
  {
   "cell_type": "code",
   "execution_count": 34,
   "metadata": {},
   "outputs": [
    {
     "name": "stdout",
     "output_type": "stream",
     "text": [
      "1\n",
      "123\n",
      "3\n",
      "hello\n",
      "a\n",
      "sdf\n",
      "new entry\n"
     ]
    }
   ],
   "source": [
    "for i in list1:\n",
    "    print(i)"
   ]
  },
  {
   "cell_type": "code",
   "execution_count": 35,
   "metadata": {},
   "outputs": [
    {
     "name": "stdout",
     "output_type": "stream",
     "text": [
      "spider\n",
      "cat\n",
      "octopus\n",
      "ant\n",
      "frog\n",
      "2\n",
      "(1, 'a', 3)\n",
      "dict_keys(['spider', 'cat', 'octopus', 'ant', 'frog', 2, (1, 'a', 3)])\n"
     ]
    }
   ],
   "source": [
    "for i in dict1:\n",
    "    print(i)\n",
    "print(dict1.keys())"
   ]
  },
  {
   "cell_type": "code",
   "execution_count": 36,
   "metadata": {},
   "outputs": [
    {
     "name": "stdout",
     "output_type": "stream",
     "text": [
      "h\n",
      "e\n",
      "l\n",
      "l\n",
      "o\n"
     ]
    }
   ],
   "source": [
    "for i in 'hello':\n",
    "    print(i)"
   ]
  },
  {
   "cell_type": "markdown",
   "metadata": {},
   "source": [
    "## Important Note\n",
    "Whitespace is critical in python. For all our sakes please configure your editor to use 4 spaces instead of tabs."
   ]
  },
  {
   "cell_type": "markdown",
   "metadata": {},
   "source": [
    "#### Variable referencing: in python, but not matlab\n",
    "\n",
    "Python uses \"pass by assignment\" instead of strict pass by reference or pass by value. Practically this means mutable objects are passed by reference while immutable objects are passed by value."
   ]
  },
  {
   "cell_type": "markdown",
   "metadata": {},
   "source": [
    "This means that sometimes you might inadvertently change an object's value!"
   ]
  },
  {
   "cell_type": "code",
   "execution_count": 37,
   "metadata": {},
   "outputs": [
    {
     "name": "stdout",
     "output_type": "stream",
     "text": [
      "[7, 1, 2]\n"
     ]
    }
   ],
   "source": [
    "# lists are mutable and passed by reference, so creating a copy isn't as simple as assignment\n",
    "test_list = [0, 1, 2]\n",
    "list_copy = test_list\n",
    "list_copy[0] = 7\n",
    "print(test_list)"
   ]
  },
  {
   "cell_type": "code",
   "execution_count": 38,
   "metadata": {},
   "outputs": [
    {
     "name": "stdout",
     "output_type": "stream",
     "text": [
      "129\n"
     ]
    }
   ],
   "source": [
    "# ints are easy, and actually copy the underlying value on assignement\n",
    "test_int = 129\n",
    "int_copy = test_int\n",
    "int_copy = 0\n",
    "print(test_int)"
   ]
  },
  {
   "cell_type": "code",
   "execution_count": 39,
   "metadata": {},
   "outputs": [
    {
     "name": "stdout",
     "output_type": "stream",
     "text": [
      "['testing', 1, 2]\n",
      "[7, 1, 2]\n"
     ]
    }
   ],
   "source": [
    "# you can \"deep copy\" to get around this\n",
    "import copy\n",
    "list_deepcopy = copy.deepcopy(test_list)\n",
    "list_deepcopy[0] = 'testing'\n",
    "print(list_deepcopy)\n",
    "print(test_list)"
   ]
  },
  {
   "cell_type": "code",
   "execution_count": 40,
   "metadata": {},
   "outputs": [],
   "source": [
    "# you can also copy via element access\n",
    "list1_actual_copy = test_list[:]"
   ]
  },
  {
   "cell_type": "code",
   "execution_count": 42,
   "metadata": {},
   "outputs": [
    {
     "name": "stdout",
     "output_type": "stream",
     "text": [
      "10\n",
      "['test', 1, 2]\n"
     ]
    }
   ],
   "source": [
    "def test_fn(x):\n",
    "    x = 2*x\n",
    "v = 10\n",
    "test_fn(v)\n",
    "print(v)\n",
    "def test_fn2(x):\n",
    "    x[0] = 'test'\n",
    "v2 = [0, 1, 2]\n",
    "test_fn2(v2)\n",
    "print(v2)"
   ]
  },
  {
   "cell_type": "markdown",
   "metadata": {},
   "source": [
    "## function definitions and lambda functions\n",
    "You can create functions using the `def` command, and lambda with the `lambda` command"
   ]
  },
  {
   "cell_type": "code",
   "execution_count": 43,
   "metadata": {},
   "outputs": [],
   "source": [
    "def test_fn(x):\n",
    "    return 2*x\n",
    "\n",
    "test_lamb = lambda x: x*2\n"
   ]
  },
  {
   "cell_type": "code",
   "execution_count": 44,
   "metadata": {},
   "outputs": [
    {
     "data": {
      "text/plain": [
       "4"
      ]
     },
     "execution_count": 44,
     "metadata": {},
     "output_type": "execute_result"
    }
   ],
   "source": [
    "test_fn(2)"
   ]
  },
  {
   "cell_type": "code",
   "execution_count": 45,
   "metadata": {},
   "outputs": [
    {
     "data": {
      "text/plain": [
       "4"
      ]
     },
     "execution_count": 45,
     "metadata": {},
     "output_type": "execute_result"
    }
   ],
   "source": [
    "test_lamb(2)"
   ]
  },
  {
   "cell_type": "markdown",
   "metadata": {},
   "source": [
    "Python is object oriented, functions and lambda are just objects. So you can pass function handles or lambdas just as you would a variable"
   ]
  },
  {
   "cell_type": "code",
   "execution_count": 46,
   "metadata": {},
   "outputs": [],
   "source": [
    "variable = test_fn"
   ]
  },
  {
   "cell_type": "code",
   "execution_count": 47,
   "metadata": {},
   "outputs": [
    {
     "data": {
      "text/plain": [
       "4"
      ]
     },
     "execution_count": 47,
     "metadata": {},
     "output_type": "execute_result"
    }
   ],
   "source": [
    "variable(2)"
   ]
  },
  {
   "cell_type": "markdown",
   "metadata": {},
   "source": [
    "# Named and Default Arguments"
   ]
  },
  {
   "cell_type": "markdown",
   "metadata": {},
   "source": [
    "You'll notice that we often mix different ways of providing arguments to python functions. This is because python is quite flexible in argument styles.\n",
    "\n",
    "```\n",
    "def test_function(x, v=0, y=7 **kwargs):\n",
    "```\n",
    "The `test_function` has a normal argument (`x`) which must be provided, as well as another argument `y` which has a default argument. You may also see things like `**kwargs`, which are for varargs, you're welcome to look into them but we won't be using them in this course.\n",
    "\n",
    "**Default Arguments** are as the name suggests, variables with a default value. You can overwrite the default argument by providing it in the function call.\n",
    "\n",
    "**Named Arguments** all arguments to a function can be referenced by their name if you want. This strategy is particularly useful when you want to overwrite some but not all of the default arguments. For example:\n",
    "`test_function(0, y=4)` is valid. Where `test_function(0, 4)` won't have the same effect (v will equal 4 in this case). "
   ]
  },
  {
   "cell_type": "markdown",
   "metadata": {},
   "source": [
    "## numpy\n",
    "- probably the most useful python library/module you will use\n",
    "- representions for arrays, such as vectors, matrices, and tensors as well as functions that operate on them\n",
    "- you will find pretty much all the matrix-based functions from matlab in the numpy module.\n",
    "\n",
    "In order to use it, you will have to import it:"
   ]
  },
  {
   "cell_type": "code",
   "execution_count": 48,
   "metadata": {},
   "outputs": [],
   "source": [
    "# you will practically always see numpy imported as the alias `np`. It's simply easier this way :)\n",
    "import numpy as np"
   ]
  },
  {
   "cell_type": "markdown",
   "metadata": {},
   "source": [
    "numpy has analogs of many matlab functions:"
   ]
  },
  {
   "cell_type": "code",
   "execution_count": 49,
   "metadata": {},
   "outputs": [
    {
     "data": {
      "text/plain": [
       "array([[1, 1, 1, 1, 1],\n",
       "       [1, 1, 1, 1, 1],\n",
       "       [1, 1, 1, 1, 1],\n",
       "       [1, 1, 1, 1, 1],\n",
       "       [1, 1, 1, 1, 1]])"
      ]
     },
     "execution_count": 49,
     "metadata": {},
     "output_type": "execute_result"
    }
   ],
   "source": [
    "np.ones([5, 5], dtype=np.int32)"
   ]
  },
  {
   "cell_type": "markdown",
   "metadata": {},
   "source": [
    "Dimensions or axes are often passed as tuples or lists; however, a notable exception:"
   ]
  },
  {
   "cell_type": "code",
   "execution_count": 50,
   "metadata": {},
   "outputs": [
    {
     "data": {
      "text/plain": [
       "array([[0.59572232, 0.75296698, 0.08730439, 0.66239545, 0.37464818],\n",
       "       [0.29370799, 0.02568164, 0.40969113, 0.60186538, 0.88372714],\n",
       "       [0.23684323, 0.20202319, 0.51747514, 0.98993651, 0.20112484],\n",
       "       [0.94505565, 0.1650209 , 0.23916241, 0.45986298, 0.92636101],\n",
       "       [0.0416922 , 0.8674462 , 0.90163073, 0.72657142, 0.43483016]])"
      ]
     },
     "execution_count": 50,
     "metadata": {},
     "output_type": "execute_result"
    }
   ],
   "source": [
    "np.random.rand(5, 5)"
   ]
  },
  {
   "cell_type": "markdown",
   "metadata": {},
   "source": [
    "However I prefer to be explicit"
   ]
  },
  {
   "cell_type": "code",
   "execution_count": 51,
   "metadata": {},
   "outputs": [
    {
     "data": {
      "text/plain": [
       "array([[0.85441068, 0.05547572, 0.30865295, 0.43574531, 0.09820772],\n",
       "       [0.22076206, 0.7561738 , 0.35201013, 0.70857017, 0.89510296],\n",
       "       [0.63624356, 0.47312813, 0.52780735, 0.60302319, 0.88186474],\n",
       "       [0.13799454, 0.41784204, 0.93926331, 0.02160425, 0.06879578],\n",
       "       [0.81368895, 0.14099976, 0.61602595, 0.42536788, 0.26329678]])"
      ]
     },
     "execution_count": 51,
     "metadata": {},
     "output_type": "execute_result"
    }
   ],
   "source": [
    "np.random.uniform(low=0, high=1, size=(5,5))"
   ]
  },
  {
   "cell_type": "markdown",
   "metadata": {},
   "source": [
    "#### submodules (?)\n",
    "- e.g.,  numpy.random, numpy.fft\n",
    "- Sometimes they need to be explicitly imported."
   ]
  },
  {
   "cell_type": "code",
   "execution_count": 52,
   "metadata": {},
   "outputs": [],
   "source": [
    "from numpy.fft import fft, ifft, ifftshift, fftshift, fft2, ifft2"
   ]
  },
  {
   "cell_type": "code",
   "execution_count": 53,
   "metadata": {},
   "outputs": [
    {
     "data": {
      "text/plain": [
       "array([[5.00000000e+00+0.j, 2.22044605e-16-0.j, 2.22044605e-16+0.j,\n",
       "        2.22044605e-16-0.j, 2.22044605e-16+0.j],\n",
       "       [5.00000000e+00+0.j, 2.22044605e-16-0.j, 2.22044605e-16+0.j,\n",
       "        2.22044605e-16-0.j, 2.22044605e-16+0.j],\n",
       "       [5.00000000e+00+0.j, 2.22044605e-16-0.j, 2.22044605e-16+0.j,\n",
       "        2.22044605e-16-0.j, 2.22044605e-16+0.j],\n",
       "       [5.00000000e+00+0.j, 2.22044605e-16-0.j, 2.22044605e-16+0.j,\n",
       "        2.22044605e-16-0.j, 2.22044605e-16+0.j],\n",
       "       [5.00000000e+00+0.j, 2.22044605e-16-0.j, 2.22044605e-16+0.j,\n",
       "        2.22044605e-16-0.j, 2.22044605e-16+0.j]])"
      ]
     },
     "execution_count": 53,
     "metadata": {},
     "output_type": "execute_result"
    }
   ],
   "source": [
    "fft(np.ones((5,5)))"
   ]
  },
  {
   "cell_type": "markdown",
   "metadata": {},
   "source": [
    "### some array operations\n",
    "Elementwise multplication: `*`"
   ]
  },
  {
   "cell_type": "code",
   "execution_count": 54,
   "metadata": {},
   "outputs": [
    {
     "name": "stdout",
     "output_type": "stream",
     "text": [
      "[[1. 1. 1. 1. 1.]\n",
      " [1. 1. 1. 1. 1.]\n",
      " [1. 1. 1. 1. 1.]\n",
      " [1. 1. 1. 1. 1.]\n",
      " [1. 1. 1. 1. 1.]]\n",
      "[[ 2.  7.  2.  3.  5.]\n",
      " [ 8.  4.  8.  9. 10.]\n",
      " [ 5.  5.  6.  1.  0.]\n",
      " [ 1.  4.  2.  9.  9.]\n",
      " [ 4.  0. 10. 10.  4.]]\n"
     ]
    }
   ],
   "source": [
    "# creating a simple 5x5 array of ones\n",
    "A = np.ones((5, 5))\n",
    "# creating a random array from zero to 10\n",
    "# the *10 is applied to all elements\n",
    "B = np.round(np.random.uniform(size=(5,5))*10)\n",
    "print(A)\n",
    "print(B)"
   ]
  },
  {
   "cell_type": "code",
   "execution_count": 55,
   "metadata": {},
   "outputs": [
    {
     "data": {
      "text/plain": [
       "array([[ 2.,  7.,  2.,  3.,  5.],\n",
       "       [ 8.,  4.,  8.,  9., 10.],\n",
       "       [ 5.,  5.,  6.,  1.,  0.],\n",
       "       [ 1.,  4.,  2.,  9.,  9.],\n",
       "       [ 4.,  0., 10., 10.,  4.]])"
      ]
     },
     "execution_count": 55,
     "metadata": {},
     "output_type": "execute_result"
    }
   ],
   "source": [
    "# you can perform elementwise multiplication with arrays\n",
    "A*B"
   ]
  },
  {
   "cell_type": "markdown",
   "metadata": {},
   "source": [
    "Matrix multiplication: `np.matmul`"
   ]
  },
  {
   "cell_type": "code",
   "execution_count": 56,
   "metadata": {},
   "outputs": [
    {
     "data": {
      "text/plain": [
       "array([[20., 20., 28., 32., 28.],\n",
       "       [20., 20., 28., 32., 28.],\n",
       "       [20., 20., 28., 32., 28.],\n",
       "       [20., 20., 28., 32., 28.],\n",
       "       [20., 20., 28., 32., 28.]])"
      ]
     },
     "execution_count": 56,
     "metadata": {},
     "output_type": "execute_result"
    }
   ],
   "source": [
    "np.matmul(A,B)"
   ]
  },
  {
   "cell_type": "code",
   "execution_count": 57,
   "metadata": {},
   "outputs": [
    {
     "data": {
      "text/plain": [
       "array([[20., 20., 28., 32., 28.],\n",
       "       [20., 20., 28., 32., 28.],\n",
       "       [20., 20., 28., 32., 28.],\n",
       "       [20., 20., 28., 32., 28.],\n",
       "       [20., 20., 28., 32., 28.]])"
      ]
     },
     "execution_count": 57,
     "metadata": {},
     "output_type": "execute_result"
    }
   ],
   "source": [
    "# there is also a shortcut\n",
    "A@B"
   ]
  },
  {
   "cell_type": "markdown",
   "metadata": {},
   "source": [
    "Other differences from matlab:\n",
    "- `**`, not `^`\n",
    "- `.T` or `np.transpose`, not `'`"
   ]
  },
  {
   "cell_type": "code",
   "execution_count": 58,
   "metadata": {},
   "outputs": [
    {
     "name": "stdout",
     "output_type": "stream",
     "text": [
      "[[ 2.  7.  2.  3.  5.]\n",
      " [ 8.  4.  8.  9. 10.]\n",
      " [ 5.  5.  6.  1.  0.]\n",
      " [ 1.  4.  2.  9.  9.]\n",
      " [ 4.  0. 10. 10.  4.]]\n",
      "[[  4.  49.   4.   9.  25.]\n",
      " [ 64.  16.  64.  81. 100.]\n",
      " [ 25.  25.  36.   1.   0.]\n",
      " [  1.  16.   4.  81.  81.]\n",
      " [ 16.   0. 100. 100.  16.]]\n"
     ]
    }
   ],
   "source": [
    "print(B)\n",
    "print(B**2)"
   ]
  },
  {
   "cell_type": "code",
   "execution_count": 59,
   "metadata": {},
   "outputs": [
    {
     "name": "stdout",
     "output_type": "stream",
     "text": [
      "[[ 2.  7.  2.  3.  5.]\n",
      " [ 8.  4.  8.  9. 10.]\n",
      " [ 5.  5.  6.  1.  0.]\n",
      " [ 1.  4.  2.  9.  9.]\n",
      " [ 4.  0. 10. 10.  4.]]\n",
      "[[ 2.  8.  5.  1.  4.]\n",
      " [ 7.  4.  5.  4.  0.]\n",
      " [ 2.  8.  6.  2. 10.]\n",
      " [ 3.  9.  1.  9. 10.]\n",
      " [ 5. 10.  0.  9.  4.]]\n",
      "[[ 2.  8.  5.  1.  4.]\n",
      " [ 7.  4.  5.  4.  0.]\n",
      " [ 2.  8.  6.  2. 10.]\n",
      " [ 3.  9.  1.  9. 10.]\n",
      " [ 5. 10.  0.  9.  4.]]\n"
     ]
    }
   ],
   "source": [
    "print(B)\n",
    "print(B.T)\n",
    "print(np.transpose(B))"
   ]
  },
  {
   "cell_type": "markdown",
   "metadata": {},
   "source": [
    "### broadcasting\n",
    "\n",
    "Broadcasting is where you can do operations between matrices whose dimensions don't match, but have the same number of dimensions (with the exception of the first dimension if the other matrix is lower dimensional).  c.f., matlab's `bsxfun`"
   ]
  },
  {
   "cell_type": "code",
   "execution_count": 60,
   "metadata": {},
   "outputs": [
    {
     "name": "stdout",
     "output_type": "stream",
     "text": [
      "[[[0.74136065 0.04118936 0.65404123]\n",
      "  [0.21749755 0.00189611 0.28163638]]\n",
      "\n",
      " [[0.13375797 0.11623139 0.19412794]\n",
      "  [0.09965046 0.1168299  0.1144693 ]]\n",
      "\n",
      " [[0.00478202 0.01987144 0.07063807]\n",
      "  [0.10891371 0.18716866 0.12553431]]]\n"
     ]
    },
    {
     "data": {
      "text/plain": [
       "(3, 2, 3)"
      ]
     },
     "execution_count": 60,
     "metadata": {},
     "output_type": "execute_result"
    }
   ],
   "source": [
    "A = np.random.uniform(size=(3, 2, 1))\n",
    "B = np.random.uniform(size=(3, 2, 3))\n",
    "print(A*B)\n",
    "(A*B).shape"
   ]
  },
  {
   "cell_type": "markdown",
   "metadata": {},
   "source": [
    "Singleton example"
   ]
  },
  {
   "cell_type": "code",
   "execution_count": 61,
   "metadata": {},
   "outputs": [
    {
     "name": "stdout",
     "output_type": "stream",
     "text": [
      "[[[0.25381652 0.14836922]\n",
      "  [0.15542283 0.35333465]\n",
      "  [0.00986552 0.05866508]]\n",
      "\n",
      " [[0.10480948 0.33278402]\n",
      "  [0.78698929 0.1808298 ]\n",
      "  [0.00920124 0.04773129]]]\n"
     ]
    },
    {
     "data": {
      "text/plain": [
       "(2, 3, 2)"
      ]
     },
     "execution_count": 61,
     "metadata": {},
     "output_type": "execute_result"
    }
   ],
   "source": [
    "A = np.random.uniform(size=(3, 2))\n",
    "B = np.random.uniform(size=(2, 3, 2))\n",
    "print(A*B)\n",
    "(A*B).shape"
   ]
  },
  {
   "cell_type": "markdown",
   "metadata": {},
   "source": [
    "## matplotlib\n",
    "This library contains all the plotting functions you will need."
   ]
  },
  {
   "cell_type": "code",
   "execution_count": 62,
   "metadata": {},
   "outputs": [],
   "source": [
    "# this is the customary import statement:\n",
    "import matplotlib.pyplot as plt"
   ]
  },
  {
   "cell_type": "markdown",
   "metadata": {},
   "source": [
    "There are interactive plots that you can pan/zoom too, like the ones in matlab. Use\n",
    "```python\n",
    "%matplotlib qt\n",
    "```\n",
    "\n",
    "But this won't work in colab"
   ]
  },
  {
   "cell_type": "markdown",
   "metadata": {},
   "source": [
    "### Example plotting"
   ]
  },
  {
   "cell_type": "code",
   "execution_count": 63,
   "metadata": {},
   "outputs": [
    {
     "data": {
      "text/plain": [
       "[<matplotlib.lines.Line2D at 0x1e5c0dd43c8>]"
      ]
     },
     "execution_count": 63,
     "metadata": {},
     "output_type": "execute_result"
    },
    {
     "data": {
      "image/png": "[encoded data removed]",
      "text/plain": [
       "<Figure size 432x288 with 1 Axes>"
      ]
     },
     "metadata": {
      "needs_background": "light"
     },
     "output_type": "display_data"
    }
   ],
   "source": [
    "# quick plot, if only a single varaible is passed in then it assumes x\n",
    "plt.plot(np.sin(np.arange(0, 100)))"
   ]
  },
  {
   "cell_type": "code",
   "execution_count": 64,
   "metadata": {},
   "outputs": [
    {
     "data": {
      "text/plain": [
       "[<matplotlib.lines.Line2D at 0x1e5c456ccf8>]"
      ]
     },
     "execution_count": 64,
     "metadata": {},
     "output_type": "execute_result"
    },
    {
     "data": {
      "image/png": "[encoded data removed]",
      "text/plain": [
       "<Figure size 432x288 with 1 Axes>"
      ]
     },
     "metadata": {
      "needs_background": "light"
     },
     "output_type": "display_data"
    }
   ],
   "source": [
    "# you can also specify x\n",
    "data = np.sin(np.arange(0, 100))\n",
    "plt.plot(data, data)"
   ]
  },
  {
   "cell_type": "code",
   "execution_count": 65,
   "metadata": {},
   "outputs": [
    {
     "data": {
      "text/plain": [
       "[<matplotlib.lines.Line2D at 0x1e5c45517b8>]"
      ]
     },
     "execution_count": 65,
     "metadata": {},
     "output_type": "execute_result"
    },
    {
     "data": {
      "image/png": "[encoded data removed]",
      "text/plain": [
       "<Figure size 432x288 with 1 Axes>"
      ]
     },
     "metadata": {
      "needs_background": "light"
     },
     "output_type": "display_data"
    }
   ],
   "source": [
    "# The object oriented interface is more powerful:\n",
    "fig, axs = plt.subplots(nrows=1, ncols=1)\n",
    "axs.plot(data)"
   ]
  },
  {
   "cell_type": "code",
   "execution_count": 66,
   "metadata": {},
   "outputs": [
    {
     "data": {
      "text/plain": [
       "array([[<matplotlib.axes._subplots.AxesSubplot object at 0x000001E5C4630780>,\n",
       "        <matplotlib.axes._subplots.AxesSubplot object at 0x000001E5C4652470>,\n",
       "        <matplotlib.axes._subplots.AxesSubplot object at 0x000001E5C4682A20>],\n",
       "       [<matplotlib.axes._subplots.AxesSubplot object at 0x000001E5C46B4FD0>,\n",
       "        <matplotlib.axes._subplots.AxesSubplot object at 0x000001E5C46EE5C0>,\n",
       "        <matplotlib.axes._subplots.AxesSubplot object at 0x000001E5C4721B70>],\n",
       "       [<matplotlib.axes._subplots.AxesSubplot object at 0x000001E5C4761160>,\n",
       "        <matplotlib.axes._subplots.AxesSubplot object at 0x000001E5C47916D8>,\n",
       "        <matplotlib.axes._subplots.AxesSubplot object at 0x000001E5C47C2CC0>]],\n",
       "      dtype=object)"
      ]
     },
     "execution_count": 66,
     "metadata": {},
     "output_type": "execute_result"
    },
    {
     "data": {
      "image/png": "[encoded data removed]",
      "text/plain": [
       "<Figure size 432x288 with 9 Axes>"
      ]
     },
     "metadata": {
      "needs_background": "light"
     },
     "output_type": "display_data"
    }
   ],
   "source": [
    "# you can create multi-axis plots using the subplot command, the axes objects are stored in an array\n",
    "fig, axs = plt.subplots(nrows=3, ncols=3)\n",
    "axs"
   ]
  },
  {
   "cell_type": "markdown",
   "metadata": {},
   "source": [
    "## More plotting resources\n",
    "- https://matplotlib.org/tutorials/introductory/pyplot.html"
   ]
  }
 ],
 "metadata": {
  "kernelspec": {
   "display_name": "Python 3",
   "language": "python",
   "name": "python3"
  },
  "language_info": {
   "codemirror_mode": {
    "name": "ipython",
    "version": 3
   },
   "file_extension": ".py",
   "mimetype": "text/x-python",
   "name": "python",
   "nbconvert_exporter": "python",
   "pygments_lexer": "ipython3",
   "version": "3.7.3"
  }
 },
 "nbformat": 4,
 "nbformat_minor": 2
}
