{
  "nbformat": 4,
  "nbformat_minor": 0,
  "metadata": {
    "colab": {
      "name": "weighted_image_sum_example.ipynb",
      "provenance": [],
      "collapsed_sections": []
    },
    "kernelspec": {
      "name": "python3",
      "display_name": "Python 3"
    }
  },
  "cells": [
    {
      "cell_type": "code",
      "metadata": {
        "id": "z921KiYv379o",
        "colab_type": "code",
        "colab": {}
      },
      "source": [
        "pip install tensorflow==2.0"
      ],
      "execution_count": 0,
      "outputs": []
    },
    {
      "cell_type": "code",
      "metadata": {
        "id": "xEdM5MYp3-ho",
        "colab_type": "code",
        "colab": {}
      },
      "source": [
        "import tensorflow as tf\n",
        "import numpy as np\n",
        "import matplotlib.pyplot as plt\n",
        "import scipy.io"
      ],
      "execution_count": 0,
      "outputs": []
    },
    {
      "cell_type": "code",
      "metadata": {
        "id": "vkqW7M9T1sy6",
        "colab_type": "code",
        "outputId": "96d3a4a3-cf55-4911-f154-86ec1f09350c",
        "colab": {
          "base_uri": "https://localhost:8080/",
          "height": 34
        }
      },
      "source": [
        "#Run this command to access data from google drive in CoLab notebook\n",
        "from google.colab import drive\n",
        "drive.mount('/content/drive')"
      ],
      "execution_count": 0,
      "outputs": [
        {
          "output_type": "stream",
          "text": [
            "Drive already mounted at /content/drive; to attempt to forcibly remount, call drive.mount(\"/content/drive\", force_remount=True).\n"
          ],
          "name": "stdout"
        }
      ]
    },
    {
      "cell_type": "code",
      "metadata": {
        "id": "6dcdKVPQ3dey",
        "colab_type": "code",
        "outputId": "8e022ba0-575a-404e-9a7c-5e341436a1db",
        "colab": {
          "base_uri": "https://localhost:8080/",
          "height": 34
        }
      },
      "source": [
        "#move to location where dataset of interest is\n",
        "cd '/content/drive/My Drive/'"
      ],
      "execution_count": 0,
      "outputs": [
        {
          "output_type": "stream",
          "text": [
            "/content/drive/My Drive\n"
          ],
          "name": "stdout"
        }
      ]
    },
    {
      "cell_type": "code",
      "metadata": {
        "id": "fEXgPsIo3__M",
        "colab_type": "code",
        "colab": {}
      },
      "source": [
        "#load example 3D datacube from matlab \n",
        "#this is an image cube with 28x28x96 dimensions, where 96 images are under variable-angle illumination\n",
        "matlab_files = scipy.io.loadmat('cube1.mat')\n",
        "stack = matlab_files['cube1']  # shape: x, y, k\n",
        "\n",
        "#Define weights vector for weighted sum along third dimension\n",
        "#This simulates an image captured under variable angle illumination with the brightness of illumination at the jth angle defined by w(j) - a random number here\n",
        "weights = np.random.randn(96)"
      ],
      "execution_count": 0,
      "outputs": []
    },
    {
      "cell_type": "code",
      "metadata": {
        "id": "coAO6L-V6m28",
        "colab_type": "code",
        "colab": {}
      },
      "source": [
        "stack_sum = tf.reduce_sum(stack * weights, axis=2)  # or, to be more explicit with dimensions: stack_sum = tf.reduce_sum(stack * weights[np.newaxis, np.newaxis, :], axis=2)\n"
      ],
      "execution_count": 0,
      "outputs": []
    },
    {
      "cell_type": "code",
      "metadata": {
        "id": "2tUiWHNL6Ktf",
        "colab_type": "code",
        "outputId": "70aeb573-71fd-4271-a0c9-d8053ef8506e",
        "colab": {
          "base_uri": "https://localhost:8080/",
          "height": 265
        }
      },
      "source": [
        "plt.imshow(stack_sum.numpy())\n",
        "plt.show()"
      ],
      "execution_count": 0,
      "outputs": [
        {
          "output_type": "display_data",
          "data": {
            "image/png": "[encoded data removed]",
            "text/plain": [
              "<Figure size 432x288 with 1 Axes>"
            ]
          },
          "metadata": {
            "tags": []
          }
        }
      ]
    }
  ]
}