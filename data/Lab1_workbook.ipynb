{
 "cells": [
  {
   "cell_type": "markdown",
   "metadata": {},
   "source": [
    "# Getting Started with Colab\n",
    "If you uploaded this notebook you're already in a good spot! Uploading notebooks is useful way to view someone elses code (or just start on a homework problem)."
   ]
  },
  {
   "cell_type": "markdown",
   "metadata": {},
   "source": [
    "# Different types of notebook cells\n",
    "Below this cell create a markdown/text cell and a code cell. \n",
    "- In the markdown cell use latex to write Newton's second law (F = ma)\n",
    "- In the code cell write code that prints `Hello World`"
   ]
  },
  {
   "cell_type": "code",
   "execution_count": null,
   "metadata": {},
   "outputs": [],
   "source": []
  },
  {
   "cell_type": "markdown",
   "metadata": {},
   "source": [
    "# Data Structures\n",
    "## Lists\n",
    "- Create a list using square brackets with three elements\n",
    "    - Print the list\n",
    "- Overwrite the second element with the string `\"cat\"`\n",
    "    - Diplay the list without using print\n",
    "- Delete the first element\n",
    "    - Diplay the list with a method of your choice\n",
    "- Create a new list with elements of 5, 10, 20, 35 and use list comprehension to get the values which are divisible by 10\n",
    "\n",
    "\n",
    "## Dictionaries (dicts)\n",
    "- Create a dictionary with three keys of your choice and values of 10, 20, and 30\n",
    "- Change the second entry to be the twice the value of the third entry\n",
    "- Create a dict using keys which are a mix of ints, floats, and strings\n",
    "\n",
    "\n",
    "## Tuples\n",
    "- Create a tuple with elements of your choice\n",
    "- Access the last value of the tuple using negative indexing\n",
    "- Update your previous dictionary using the tuple as a key and `\"BME548\"` as the value"
   ]
  },
  {
   "cell_type": "code",
   "execution_count": null,
   "metadata": {},
   "outputs": [],
   "source": []
  },
  {
   "cell_type": "markdown",
   "metadata": {},
   "source": [
    "## Loops\n",
    "Like other programming languages we have `for` and `while` loops.\n",
    "### For Loops\n",
    "- Write a for loop that goes from 0 to 10, printing the word \"loop\" every second iteration\n",
    "- Write a for loop that iterates through all of the elements in your first list\n",
    "- Write a for loop that iterates through your dictionary and prints the corresponding values\n",
    "\n",
    "### While Loops\n",
    "- Google the implementation for a while loop\n",
    "- Use a while loop in the code block below print the word \"fizz\" until the provided function produces \"buzz\" three times total\n",
    "    - Ask for help if you get stuck\n",
    "\n",
    "```\n",
    "import random\n",
    "\n",
    "def buzz_gen():\n",
    "    return random.choice([\"buzz\", \"fizz\"])\n",
    "\n",
    "buzz_counter = 0\n",
    "# put your loop structure here\n",
    "\n",
    "```"
   ]
  },
  {
   "cell_type": "markdown",
   "metadata": {},
   "source": [
    "## Variable Referencing, Functions and Lambdas\n",
    "### Functions\n",
    "Write and demonstrate the following functions\n",
    "\n",
    "- Write a function which returns double it's input\n",
    "- Write a function that changes the first element of a list\n",
    "- Write a function that returns a copy of a list with the first element deleted\n",
    "- Write a function with two inputs, the first a number (`x`), the second a function (`f`)\n",
    "    - From this function return `f(2*x)`\n",
    "\n",
    "### Lamdas\n",
    "- Repeat the three above functions but use lambdas instead\n",
    "- Create a lambda which calls one of your existing functions\n",
    "\n",
    "### Variable Referencing\n",
    "\n",
    "Using the function defined below produce the following outputs under the conditions given\n",
    "- Specifying only `x` get an output of `0`\n",
    "- Specifying `x` and `z` but not `y` get an output of `8`\n",
    "- Specifying `x` and `y` but not `z` get an output of `20`\n",
    "- Specifying all parameters get an output of `0`\n",
    "\n",
    "```\n",
    "def ref_fn(x, y=1, z=0):\n",
    "    return (10 ** x)*y + z\n",
    "```\n"
   ]
  },
  {
   "cell_type": "code",
   "execution_count": null,
   "metadata": {},
   "outputs": [],
   "source": []
  },
  {
   "cell_type": "markdown",
   "metadata": {},
   "source": [
    "# Numpy\n",
    "\n",
    "## Numpy arrays\n",
    "- Make an array that is all ones with a shape of (5)\n",
    "- Make a square matrix of all zeros that is 3x3\n",
    "- Create a 5x5 matrix with `2` on the diagonal\n",
    "- Create a random matrix that is 3x4 and matmul it with it's transpose\n",
    "- Do the same operation with the `@` operator\n",
    "\n",
    "## Broadcasting\n",
    "- Create a random matrix that is 5x5\n",
    "    - Multiply it by a numpy array that is of shape (5) and has values of `2` for all elements, is the the result what you expected?\n",
    "\n",
    "## Indexing\n",
    "Numpy arrays act like multi-dimensional lists. You can slice and index just like you would a list. You can specify multiple numbers to do multiple indexing operations simultaneously\n",
    "See: https://numpy.org/doc/stable/reference/arrays.indexing.html for examples\n",
    "\n",
    "- Create a random 5x5x3 matrix\n",
    "- Access the element from the position (2,2,1)\n",
    "- Access all the elements at position `2` of the first dimension (the output should be of shape `5x3`)\n",
    "\n",
    "## Useful functions\n",
    "Here are some useful numpy functions you will use in the next section\n",
    "- Trigometric functions: `np.sin`, `np.cos`, `np.tan`\n",
    "- Array generation `np.arange(start, stop)`, `np.linspace(start, stop, count)`"
   ]
  },
  {
   "cell_type": "code",
   "execution_count": null,
   "metadata": {},
   "outputs": [],
   "source": []
  },
  {
   "cell_type": "markdown",
   "metadata": {},
   "source": [
    "# Matplotlib\n",
    "Additional resources; https://matplotlib.org/tutorials/introductory/pyplot.html\n",
    "- Plot the function: $$ y = cos(x) $$\n",
    "- Plot the `cos(x)` on the y axis and `sin(x)` on the x axis\n",
    "- Plot side-by-side $$ y = cos(x), y = -cos(x)$$\n",
    "- Plot the following function with a log y scale $$ y= sin(x) $$"
   ]
  },
  {
   "cell_type": "code",
   "execution_count": null,
   "metadata": {},
   "outputs": [],
   "source": []
  },
  {
   "cell_type": "markdown",
   "metadata": {},
   "source": [
    "## Bonus plotting\n",
    "- Change the plot size\n",
    "- Plot a scatter plot\n"
   ]
  }
 ],
 "metadata": {
  "kernelspec": {
   "display_name": "Python 3",
   "language": "python",
   "name": "python3"
  },
  "language_info": {
   "codemirror_mode": {
    "name": "ipython",
    "version": 3
   },
   "file_extension": ".py",
   "mimetype": "text/x-python",
   "name": "python",
   "nbconvert_exporter": "python",
   "pygments_lexer": "ipython3",
   "version": "3.7.3"
  }
 },
 "nbformat": 4,
 "nbformat_minor": 2
}
