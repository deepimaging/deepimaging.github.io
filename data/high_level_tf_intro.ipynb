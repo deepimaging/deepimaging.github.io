{
  "nbformat": 4,
  "nbformat_minor": 0,
  "metadata": {
    "colab": {
      "name": "high_level_tf_intro.ipynb",
      "provenance": [],
      "collapsed_sections": []
    },
    "kernelspec": {
      "name": "python3",
      "display_name": "Python 3"
    }
  },
  "cells": [
    {
      "cell_type": "markdown",
      "metadata": {
        "id": "AH2wp6LYAeph",
        "colab_type": "text"
      },
      "source": [
        "# Introduction to high-level tensorflow 2.0 using keras\n",
        "(adapted from https://www.tensorflow.org/tutorials/quickstart/beginner)."
      ]
    },
    {
      "cell_type": "code",
      "metadata": {
        "id": "g-uEbvk2_g7n",
        "colab_type": "code",
        "colab": {}
      },
      "source": [
        "# get tensorflow 2.0 (run once per session)\n",
        "pip install tensorflow==2.0"
      ],
      "execution_count": 0,
      "outputs": []
    },
    {
      "cell_type": "code",
      "metadata": {
        "id": "982OTw7I_uxc",
        "colab_type": "code",
        "outputId": "a9658174-1827-4d7e-9e98-77b7f64518a0",
        "colab": {
          "base_uri": "https://localhost:8080/",
          "height": 34
        }
      },
      "source": [
        "import tensorflow as tf\n",
        "import numpy as np\n",
        "import matplotlib.pyplot as plt\n",
        "print('tensorflow version: ' + tf.__version__)"
      ],
      "execution_count": 13,
      "outputs": [
        {
          "output_type": "stream",
          "text": [
            "tensorflow version: 2.0.0\n"
          ],
          "name": "stdout"
        }
      ]
    },
    {
      "cell_type": "code",
      "metadata": {
        "id": "IIYgWeQl_6SS",
        "colab_type": "code",
        "outputId": "694210cf-3569-44e2-b5f8-d14f9463c581",
        "colab": {
          "base_uri": "https://localhost:8080/",
          "height": 51
        }
      },
      "source": [
        "# load mnist dataset\n",
        "mnist = tf.keras.datasets.mnist\n",
        "\n",
        "(x_train, y_train), (x_test, y_test) = mnist.load_data()\n",
        "x_train, x_test = x_train / 255.0, x_test / 255.0  # customary normalization to [0, 1]\n",
        "\n",
        "print(x_train.shape, y_train.shape)\n",
        "print(x_test.shape, y_test.shape)"
      ],
      "execution_count": 15,
      "outputs": [
        {
          "output_type": "stream",
          "text": [
            "(60000, 28, 28) (60000,)\n",
            "(10000, 28, 28) (10000,)\n"
          ],
          "name": "stdout"
        }
      ]
    },
    {
      "cell_type": "markdown",
      "metadata": {
        "id": "61LLcFDQE_j7",
        "colab_type": "text"
      },
      "source": [
        "## Simple, one-layer, fully-connected neural network"
      ]
    },
    {
      "cell_type": "code",
      "metadata": {
        "id": "HtburEP7ADpc",
        "colab_type": "code",
        "colab": {}
      },
      "source": [
        "# define the sequential model (i.e., each layer follows sequentially from the previous)\n",
        "simple_model = tf.keras.models.Sequential([\n",
        "    tf.keras.layers.Flatten(input_shape=(28, 28)),  # fully-connected, so flatten the image\n",
        "    tf.keras.layers.Dense(units=128, activation='relu'),  # hidden layer has 128 units\n",
        "    tf.keras.layers.Dense(10, activation='softmax')  # length-10 output for classification\n",
        "])\n",
        "\n",
        "simple_model.compile(optimizer='adam',  # pick an optimizer\n",
        "                     loss='sparse_categorical_crossentropy',  # pick a loss\n",
        "                     metrics=['accuracy'])  # pick a metric to monitor"
      ],
      "execution_count": 0,
      "outputs": []
    },
    {
      "cell_type": "code",
      "metadata": {
        "id": "iehUiIj8AYMq",
        "colab_type": "code",
        "outputId": "d64243fd-70f6-4517-87f8-38a0cf3e269b",
        "colab": {
          "base_uri": "https://localhost:8080/",
          "height": 241
        }
      },
      "source": [
        "# train model and track validation loss after each epoch:\n",
        "simple_model.fit(x_train, y_train,\n",
        "                 epochs=5,\n",
        "                 batch_size=32,\n",
        "                 validation_data=(x_test, y_test))"
      ],
      "execution_count": 17,
      "outputs": [
        {
          "output_type": "stream",
          "text": [
            "Train on 60000 samples, validate on 10000 samples\n",
            "Epoch 1/5\n",
            "60000/60000 [==============================] - 6s 93us/sample - loss: 0.2605 - accuracy: 0.9258 - val_loss: 0.1441 - val_accuracy: 0.9567\n",
            "Epoch 2/5\n",
            "60000/60000 [==============================] - 5s 84us/sample - loss: 0.1148 - accuracy: 0.9657 - val_loss: 0.0908 - val_accuracy: 0.9741\n",
            "Epoch 3/5\n",
            "60000/60000 [==============================] - 5s 86us/sample - loss: 0.0797 - accuracy: 0.9761 - val_loss: 0.0850 - val_accuracy: 0.9747\n",
            "Epoch 4/5\n",
            "60000/60000 [==============================] - 5s 86us/sample - loss: 0.0590 - accuracy: 0.9817 - val_loss: 0.0766 - val_accuracy: 0.9759\n",
            "Epoch 5/5\n",
            "60000/60000 [==============================] - 5s 86us/sample - loss: 0.0458 - accuracy: 0.9855 - val_loss: 0.0799 - val_accuracy: 0.9752\n"
          ],
          "name": "stdout"
        },
        {
          "output_type": "execute_result",
          "data": {
            "text/plain": [
              "<tensorflow.python.keras.callbacks.History at 0x7fd31e2b7208>"
            ]
          },
          "metadata": {
            "tags": []
          },
          "execution_count": 17
        }
      ]
    },
    {
      "cell_type": "code",
      "metadata": {
        "id": "racYUsrvBzZV",
        "colab_type": "code",
        "outputId": "444d6d28-2d73-4644-b98f-677cc7354ba4",
        "colab": {
          "base_uri": "https://localhost:8080/",
          "height": 357
        }
      },
      "source": [
        "# let's examine some sample predictions:\n",
        "prediction = simple_model.predict_classes(x_test)\n",
        "\n",
        "# incorrect predictions:\n",
        "incorrect = prediction != y_test\n",
        "incorrect_indices = np.where(incorrect)[0]\n",
        "print('error rate = ' + str(np.mean(incorrect)))  # should be 1 - val_accuracy\n",
        "print('These are the indices corresponding to the test samples that our model got wrong:')\n",
        "print(incorrect_indices)"
      ],
      "execution_count": 18,
      "outputs": [
        {
          "output_type": "stream",
          "text": [
            "error rate = 0.0248\n",
            "These are the indices corresponding to the test samples that our model got wrong:\n",
            "[   8   18  247  321  340  381  445  447  495  582  610  613  619  628\n",
            "  691  717  740  844  877  882  947  951  956  965  992 1003 1014 1039\n",
            " 1107 1112 1128 1178 1182 1226 1232 1242 1247 1260 1289 1299 1319 1393\n",
            " 1414 1425 1500 1522 1527 1530 1549 1553 1601 1609 1621 1637 1670 1678\n",
            " 1681 1709 1717 1790 1813 1828 1878 1901 1909 1984 2004 2018 2024 2035\n",
            " 2040 2043 2053 2098 2109 2118 2135 2182 2266 2272 2293 2369 2387 2414\n",
            " 2426 2488 2525 2573 2582 2589 2597 2648 2654 2769 2810 2854 2877 2927\n",
            " 2939 3060 3073 3102 3115 3117 3225 3503 3520 3558 3559 3597 3618 3718\n",
            " 3749 3751 3780 3796 3808 3811 3818 3850 3853 3869 3893 3902 3906 3941\n",
            " 3985 4065 4176 4199 4201 4224 4248 4289 4300 4306 4314 4355 4360 4369\n",
            " 4425 4437 4443 4497 4504 4534 4536 4567 4601 4731 4761 4807 4814 4823\n",
            " 4879 4880 4943 4956 4963 4989 4990 5140 5176 5209 5210 5331 5457 5600\n",
            " 5642 5676 5734 5749 5842 5887 5936 5937 5955 5972 5973 5982 6009 6011\n",
            " 6023 6028 6045 6046 6059 6071 6166 6505 6555 6571 6572 6597 6603 6625\n",
            " 6651 6755 6783 6817 6847 7081 7154 7472 7800 7812 7821 7847 7856 7899\n",
            " 7900 7905 7928 7990 8062 8094 8246 8255 8294 8325 8408 8522 8527 9009\n",
            " 9015 9022 9024 9071 9422 9544 9587 9642 9645 9664 9669 9679 9692 9698\n",
            " 9729 9745 9770 9792 9808 9811 9839 9858 9904 9940]\n"
          ],
          "name": "stdout"
        }
      ]
    },
    {
      "cell_type": "code",
      "metadata": {
        "id": "3qlfspfFFZZy",
        "colab_type": "code",
        "outputId": "3052d1ac-f456-4bd1-dcdf-e723ce68b2a5",
        "colab": {
          "base_uri": "https://localhost:8080/",
          "height": 276
        }
      },
      "source": [
        "# plot 5 examples of wrong classifications:\n",
        "plt.figure(figsize=(20, 5))\n",
        "for i, i_wrong in enumerate(incorrect_indices[:5]):\n",
        "  plt.subplot(1, 5, i + 1)\n",
        "  plt.imshow(x_test[i_wrong], cmap='gray')\n",
        "  plt.title('Prediction: ' + str(prediction[i_wrong]) + ', Truth: ' + str(y_test[i_wrong]))\n",
        "  plt.axis('off')\n",
        "plt.show()"
      ],
      "execution_count": 19,
      "outputs": [
        {
          "output_type": "display_data",
          "data": {
            "image/png": "[encoded data removed]",
            "text/plain": [
              "<Figure size 1440x360 with 5 Axes>"
            ]
          },
          "metadata": {
            "tags": []
          }
        }
      ]
    },
    {
      "cell_type": "markdown",
      "metadata": {
        "id": "zvdNOITtIML3",
        "colab_type": "text"
      },
      "source": [
        "## Convolutional neural network example"
      ]
    },
    {
      "cell_type": "code",
      "metadata": {
        "id": "9benkxclJPn6",
        "colab_type": "code",
        "colab": {}
      },
      "source": [
        "# because we're using CNNs, the data needs a channel dimension:\n",
        "x_train = x_train[..., None]\n",
        "x_test = x_test[..., None]"
      ],
      "execution_count": 0,
      "outputs": []
    },
    {
      "cell_type": "code",
      "metadata": {
        "id": "1fczsbMgHNCS",
        "colab_type": "code",
        "colab": {}
      },
      "source": [
        "cnn_model = tf.keras.models.Sequential([\n",
        "    # let's add some convolutional layers:\n",
        "    tf.keras.layers.Conv2D(filters=32, kernel_size=3, strides=1, padding='same', activation='relu'),\n",
        "    tf.keras.layers.Conv2D(filters=32, kernel_size=3, strides=2, padding='same', activation='relu'),\n",
        "    # now, let's transition into a fully-connected layer; first, we flatten:\n",
        "    tf.keras.layers.Flatten(),\n",
        "    tf.keras.layers.Dense(units=64, activation='relu'),\n",
        "    tf.keras.layers.Dense(10, activation='softmax')  # length-10 output for classification\n",
        "])\n",
        "\n",
        "cnn_model.compile(optimizer='adam',  # pick an optimizer\n",
        "                     loss='sparse_categorical_crossentropy',  # pick a loss\n",
        "                     metrics=['accuracy'])  # pick a metric to monitor"
      ],
      "execution_count": 0,
      "outputs": []
    },
    {
      "cell_type": "code",
      "metadata": {
        "id": "5ijRtGnrI51V",
        "colab_type": "code",
        "colab": {
          "base_uri": "https://localhost:8080/",
          "height": 139
        },
        "outputId": "f40e0838-7ea0-4c38-df20-6ad422f0002f"
      },
      "source": [
        "# train model and track validation loss after each epoch:\n",
        "cnn_model.fit(x_train, y_train,\n",
        "              epochs=2,\n",
        "              batch_size=32,\n",
        "              validation_data=(x_test, y_test))"
      ],
      "execution_count": 24,
      "outputs": [
        {
          "output_type": "stream",
          "text": [
            "Train on 60000 samples, validate on 10000 samples\n",
            "Epoch 1/2\n",
            "60000/60000 [==============================] - 63s 1ms/sample - loss: 0.1449 - accuracy: 0.9567 - val_loss: 0.0614 - val_accuracy: 0.9794\n",
            "Epoch 2/2\n",
            "60000/60000 [==============================] - 62s 1ms/sample - loss: 0.0490 - accuracy: 0.9848 - val_loss: 0.0541 - val_accuracy: 0.9839\n"
          ],
          "name": "stdout"
        },
        {
          "output_type": "execute_result",
          "data": {
            "text/plain": [
              "<tensorflow.python.keras.callbacks.History at 0x7fd31d3a05f8>"
            ]
          },
          "metadata": {
            "tags": []
          },
          "execution_count": 24
        }
      ]
    },
    {
      "cell_type": "code",
      "metadata": {
        "id": "6AUsJf_5I-u1",
        "colab_type": "code",
        "colab": {
          "base_uri": "https://localhost:8080/",
          "height": 323
        },
        "outputId": "c9ebc3c8-539a-421a-a25c-4c9ad21a602c"
      },
      "source": [
        "cnn_model.summary()"
      ],
      "execution_count": 28,
      "outputs": [
        {
          "output_type": "stream",
          "text": [
            "Model: \"sequential_4\"\n",
            "_________________________________________________________________\n",
            "Layer (type)                 Output Shape              Param #   \n",
            "=================================================================\n",
            "conv2d_4 (Conv2D)            multiple                  320       \n",
            "_________________________________________________________________\n",
            "conv2d_5 (Conv2D)            multiple                  9248      \n",
            "_________________________________________________________________\n",
            "flatten_4 (Flatten)          multiple                  0         \n",
            "_________________________________________________________________\n",
            "dense_8 (Dense)              multiple                  401472    \n",
            "_________________________________________________________________\n",
            "dense_9 (Dense)              multiple                  650       \n",
            "=================================================================\n",
            "Total params: 411,690\n",
            "Trainable params: 411,690\n",
            "Non-trainable params: 0\n",
            "_________________________________________________________________\n"
          ],
          "name": "stdout"
        }
      ]
    },
    {
      "cell_type": "code",
      "metadata": {
        "id": "GJzBEt3QVUxz",
        "colab_type": "code",
        "colab": {}
      },
      "source": [
        ""
      ],
      "execution_count": 0,
      "outputs": []
    }
  ]
}