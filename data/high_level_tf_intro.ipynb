{
  "nbformat": 4,
  "nbformat_minor": 0,
  "metadata": {
    "colab": {
      "name": "high_level_tf_intro.ipynb",
      "provenance": [],
      "collapsed_sections": []
    },
    "kernelspec": {
      "name": "python3",
      "display_name": "Python 3"
    },
    "accelerator": "GPU"
  },
  "cells": [
    {
      "cell_type": "markdown",
      "metadata": {
        "id": "AH2wp6LYAeph",
        "colab_type": "text"
      },
      "source": [
        "# Introduction to high-level tensorflow 2.0 using keras\n",
        "(adapted from https://www.tensorflow.org/tutorials/quickstart/beginner)."
      ]
    },
    {
      "cell_type": "code",
      "metadata": {
        "id": "g-uEbvk2_g7n",
        "colab_type": "code",
        "outputId": "7d02538c-1347-4942-a4cd-f1044863b0bd",
        "colab": {
          "base_uri": "https://localhost:8080/",
          "height": 374
        }
      },
      "source": [
        "# get tensorflow 2.0 (run once per session)\n",
        "pip install tensorflow==2.0"
      ],
      "execution_count": 1,
      "outputs": [
        {
          "output_type": "stream",
          "text": [
            "Requirement already satisfied: tensorflow==2.0 in /usr/local/lib/python3.6/dist-packages (2.0.0)\n",
            "Requirement already satisfied: wrapt>=1.11.1 in /usr/local/lib/python3.6/dist-packages (from tensorflow==2.0) (1.11.2)\n",
            "Requirement already satisfied: termcolor>=1.1.0 in /usr/local/lib/python3.6/dist-packages (from tensorflow==2.0) (1.1.0)\n",
            "Requirement already satisfied: tensorflow-estimator<2.1.0,>=2.0.0 in /usr/local/lib/python3.6/dist-packages (from tensorflow==2.0) (2.0.1)\n",
            "Requirement already satisfied: tensorboard<2.1.0,>=2.0.0 in /usr/local/lib/python3.6/dist-packages (from tensorflow==2.0) (2.0.0)\n",
            "Requirement already satisfied: wheel>=0.26 in /usr/local/lib/python3.6/dist-packages (from tensorflow==2.0) (0.33.6)\n",
            "Requirement already satisfied: keras-preprocessing>=1.0.5 in /usr/local/lib/python3.6/dist-packages (from tensorflow==2.0) (1.1.0)\n",
            "Requirement already satisfied: absl-py>=0.7.0 in /usr/local/lib/python3.6/dist-packages (from tensorflow==2.0) (0.8.1)\n",
            "Requirement already satisfied: six>=1.10.0 in /usr/local/lib/python3.6/dist-packages (from tensorflow==2.0) (1.12.0)\n",
            "Requirement already satisfied: numpy<2.0,>=1.16.0 in /usr/local/lib/python3.6/dist-packages (from tensorflow==2.0) (1.16.5)\n",
            "Requirement already satisfied: astor>=0.6.0 in /usr/local/lib/python3.6/dist-packages (from tensorflow==2.0) (0.8.0)\n",
            "Requirement already satisfied: keras-applications>=1.0.8 in /usr/local/lib/python3.6/dist-packages (from tensorflow==2.0) (1.0.8)\n",
            "Requirement already satisfied: opt-einsum>=2.3.2 in /usr/local/lib/python3.6/dist-packages (from tensorflow==2.0) (3.1.0)\n",
            "Requirement already satisfied: google-pasta>=0.1.6 in /usr/local/lib/python3.6/dist-packages (from tensorflow==2.0) (0.1.7)\n",
            "Requirement already satisfied: grpcio>=1.8.6 in /usr/local/lib/python3.6/dist-packages (from tensorflow==2.0) (1.15.0)\n",
            "Requirement already satisfied: gast==0.2.2 in /usr/local/lib/python3.6/dist-packages (from tensorflow==2.0) (0.2.2)\n",
            "Requirement already satisfied: protobuf>=3.6.1 in /usr/local/lib/python3.6/dist-packages (from tensorflow==2.0) (3.10.0)\n",
            "Requirement already satisfied: setuptools>=41.0.0 in /usr/local/lib/python3.6/dist-packages (from tensorboard<2.1.0,>=2.0.0->tensorflow==2.0) (41.4.0)\n",
            "Requirement already satisfied: markdown>=2.6.8 in /usr/local/lib/python3.6/dist-packages (from tensorboard<2.1.0,>=2.0.0->tensorflow==2.0) (3.1.1)\n",
            "Requirement already satisfied: werkzeug>=0.11.15 in /usr/local/lib/python3.6/dist-packages (from tensorboard<2.1.0,>=2.0.0->tensorflow==2.0) (0.16.0)\n",
            "Requirement already satisfied: h5py in /usr/local/lib/python3.6/dist-packages (from keras-applications>=1.0.8->tensorflow==2.0) (2.8.0)\n"
          ],
          "name": "stdout"
        }
      ]
    },
    {
      "cell_type": "code",
      "metadata": {
        "id": "982OTw7I_uxc",
        "colab_type": "code",
        "outputId": "37151fc9-51f7-444d-9cde-bf7504c6c05e",
        "colab": {
          "base_uri": "https://localhost:8080/",
          "height": 34
        }
      },
      "source": [
        "import tensorflow as tf\n",
        "import numpy as np\n",
        "import matplotlib.pyplot as plt\n",
        "print('tensorflow version: ' + tf.__version__)"
      ],
      "execution_count": 2,
      "outputs": [
        {
          "output_type": "stream",
          "text": [
            "tensorflow version: 2.0.0\n"
          ],
          "name": "stdout"
        }
      ]
    },
    {
      "cell_type": "code",
      "metadata": {
        "id": "IIYgWeQl_6SS",
        "colab_type": "code",
        "outputId": "5d5a3468-2489-42f6-b78b-66a35ad5d82d",
        "colab": {
          "base_uri": "https://localhost:8080/",
          "height": 119
        }
      },
      "source": [
        "# load mnist dataset\n",
        "mnist = tf.keras.datasets.mnist\n",
        "\n",
        "(x_train, y_train), (x_test, y_test) = mnist.load_data()\n",
        "x_train, x_test = x_train / 255.0, x_test / 255.0  # customary normalization to [0, 1]\n",
        "\n",
        "print(x_train.shape, y_train.shape)\n",
        "print(x_test.shape, y_test.shape)\n",
        "\n",
        "# Standard Scaling the data\n",
        "print('Train', x_train.min(), x_train.max(), x_train.mean(), x_train.std())\n",
        "print('Test', x_test.min(), x_test.max(), x_test.mean(), x_test.std())\n",
        "\n",
        "x_train = (x_train-x_train.mean())/x_train.std()\n",
        "x_test = (x_test-x_test.mean())/x_test.std()\n",
        "\n",
        "print('Train', x_train.min(), x_train.max(), x_train.mean(), x_train.std())\n",
        "print('Test', x_test.min(), x_test.max(), x_test.mean(), x_test.std())"
      ],
      "execution_count": 3,
      "outputs": [
        {
          "output_type": "stream",
          "text": [
            "(60000, 28, 28) (60000,)\n",
            "(10000, 28, 28) (10000,)\n",
            "Train 0.0 1.0 0.1306604762738429 0.3081078038564622\n",
            "Test 0.0 1.0 0.13251460584233699 0.3104802479305348\n",
            "Train -0.4240738943915667 2.8215433456893395 -8.196738828119618e-17 1.000000000000001\n",
            "Test -0.4268052693386959 2.794011535161327 -2.251287591722145e-16 1.0000000000000004\n"
          ],
          "name": "stdout"
        }
      ]
    },
    {
      "cell_type": "markdown",
      "metadata": {
        "id": "61LLcFDQE_j7",
        "colab_type": "text"
      },
      "source": [
        "## Simple, one-layer, fully-connected neural network"
      ]
    },
    {
      "cell_type": "code",
      "metadata": {
        "id": "HtburEP7ADpc",
        "colab_type": "code",
        "colab": {}
      },
      "source": [
        "# define the sequential model (i.e., each layer follows sequentially from the previous)\n",
        "simple_model = tf.keras.models.Sequential([\n",
        "    tf.keras.layers.Flatten(input_shape=(28, 28)),  # fully-connected, so flatten the image\n",
        "    tf.keras.layers.Dense(units=128, activation='relu'),  # hidden layer has 128 units\n",
        "    tf.keras.layers.Dropout(0.5),\n",
        "    tf.keras.layers.Dense(10, activation='softmax')  # length-10 output for classification\n",
        "])\n",
        "\n",
        "simple_model.compile(optimizer='adam',  # pick an optimizer\n",
        "                     loss='sparse_categorical_crossentropy',  # pick a loss\n",
        "                     metrics=['accuracy'])  # pick a metric to monitor"
      ],
      "execution_count": 0,
      "outputs": []
    },
    {
      "cell_type": "code",
      "metadata": {
        "id": "iehUiIj8AYMq",
        "colab_type": "code",
        "outputId": "8eb0c9d8-ca27-442e-c02f-86a3514b3125",
        "colab": {
          "base_uri": "https://localhost:8080/",
          "height": 221
        }
      },
      "source": [
        "# train model and track validation loss after each epoch:\n",
        "simple_model.fit(x_train, y_train,\n",
        "                 epochs=5,\n",
        "                 batch_size=32,\n",
        "                 validation_data=(x_test, y_test))"
      ],
      "execution_count": 5,
      "outputs": [
        {
          "output_type": "stream",
          "text": [
            "Train on 60000 samples, validate on 10000 samples\n",
            "Epoch 1/5\n",
            "60000/60000 [==============================] - 7s 119us/sample - loss: 0.4046 - accuracy: 0.8764 - val_loss: 0.1649 - val_accuracy: 0.9485\n",
            "Epoch 2/5\n",
            "60000/60000 [==============================] - 6s 104us/sample - loss: 0.2406 - accuracy: 0.9267 - val_loss: 0.1262 - val_accuracy: 0.9622\n",
            "Epoch 3/5\n",
            "60000/60000 [==============================] - 6s 98us/sample - loss: 0.2123 - accuracy: 0.9365 - val_loss: 0.1146 - val_accuracy: 0.9649\n",
            "Epoch 4/5\n",
            "60000/60000 [==============================] - 6s 98us/sample - loss: 0.1924 - accuracy: 0.9415 - val_loss: 0.1033 - val_accuracy: 0.9691\n",
            "Epoch 5/5\n",
            "60000/60000 [==============================] - 6s 103us/sample - loss: 0.1780 - accuracy: 0.9448 - val_loss: 0.1093 - val_accuracy: 0.9685\n"
          ],
          "name": "stdout"
        },
        {
          "output_type": "execute_result",
          "data": {
            "text/plain": [
              "<tensorflow.python.keras.callbacks.History at 0x7f6665fe4dd8>"
            ]
          },
          "metadata": {
            "tags": []
          },
          "execution_count": 5
        }
      ]
    },
    {
      "cell_type": "code",
      "metadata": {
        "id": "racYUsrvBzZV",
        "colab_type": "code",
        "outputId": "9e8bcd0f-a191-4f22-d21a-a52957701bb9",
        "colab": {
          "base_uri": "https://localhost:8080/",
          "height": 442
        }
      },
      "source": [
        "# let's examine some sample predictions:\n",
        "prediction = simple_model.predict_classes(x_test)\n",
        "\n",
        "# incorrect predictions:\n",
        "incorrect = prediction != y_test\n",
        "incorrect_indices = np.where(incorrect)[0]\n",
        "print('error rate = ' + str(np.mean(incorrect)))  # should be 1 - val_accuracy\n",
        "print('These are the indices corresponding to the test samples that our model got wrong:')\n",
        "print(incorrect_indices)"
      ],
      "execution_count": 6,
      "outputs": [
        {
          "output_type": "stream",
          "text": [
            "error rate = 0.0315\n",
            "These are the indices corresponding to the test samples that our model got wrong:\n",
            "[   8  149  151  233  241  247  259  300  320  321  362  381  412  445\n",
            "  448  449  478  479  495  551  582  619  646  659  684  691  707  720\n",
            "  726  740  839  844  881  924  956  965  982 1003 1014 1044 1107 1112\n",
            " 1181 1206 1226 1228 1232 1247 1260 1283 1319 1326 1364 1393 1414 1469\n",
            " 1494 1500 1522 1527 1530 1549 1553 1569 1609 1681 1709 1717 1737 1751\n",
            " 1754 1790 1800 1850 1878 1901 1952 1970 2004 2016 2035 2040 2043 2044\n",
            " 2053 2068 2093 2098 2109 2118 2129 2130 2135 2182 2186 2189 2224 2237\n",
            " 2266 2272 2293 2299 2325 2369 2380 2387 2393 2406 2414 2433 2462 2488\n",
            " 2578 2598 2607 2648 2654 2730 2760 2810 2877 2896 2921 2927 2939 2953\n",
            " 3005 3030 3060 3073 3100 3117 3206 3225 3240 3289 3329 3330 3336 3405\n",
            " 3422 3490 3503 3520 3549 3558 3559 3565 3567 3597 3604 3629 3662 3674\n",
            " 3716 3751 3767 3776 3780 3808 3811 3817 3821 3838 3853 3869 3893 3906\n",
            " 3926 3941 3968 3976 3985 4007 4065 4078 4163 4176 4201 4224 4228 4238\n",
            " 4256 4265 4271 4289 4306 4355 4369 4374 4433 4443 4497 4500 4567 4571\n",
            " 4578 4601 4635 4690 4731 4740 4751 4807 4814 4823 4837 4874 4879 4880\n",
            " 4886 4956 4966 4978 4990 5067 5068 5140 5159 5331 5409 5457 5495 5600\n",
            " 5617 5642 5734 5749 5835 5842 5887 5926 5936 5937 5955 5972 5973 5975\n",
            " 6024 6059 6071 6081 6091 6166 6168 6172 6421 6505 6555 6560 6568 6571\n",
            " 6577 6597 6625 6632 6651 6740 6744 6755 7208 7248 7338 7432 7434 7797\n",
            " 7800 7812 7821 7849 7886 7899 7990 8020 8062 8081 8094 8095 8183 8316\n",
            " 8325 8339 8520 8522 8527 9008 9009 9015 9019 9024 9036 9071 9280 9587\n",
            " 9634 9642 9669 9679 9698 9700 9729 9732 9741 9745 9749 9755 9768 9770\n",
            " 9779 9792 9808 9839 9888 9941 9982]\n"
          ],
          "name": "stdout"
        }
      ]
    },
    {
      "cell_type": "code",
      "metadata": {
        "id": "3qlfspfFFZZy",
        "colab_type": "code",
        "outputId": "776d6101-c8f1-426c-d5f7-d3c5553aa8f9",
        "colab": {
          "base_uri": "https://localhost:8080/",
          "height": 256
        }
      },
      "source": [
        "# plot 5 examples of wrong classifications:\n",
        "plt.figure(figsize=(20, 5))\n",
        "for i, i_wrong in enumerate(incorrect_indices[:5]):\n",
        "  plt.subplot(1, 5, i + 1)\n",
        "  plt.imshow(x_test[i_wrong], cmap='gray')\n",
        "  plt.title('Prediction: ' + str(prediction[i_wrong]) + ', Truth: ' + str(y_test[i_wrong]))\n",
        "  plt.axis('off')\n",
        "plt.show()"
      ],
      "execution_count": 7,
      "outputs": [
        {
          "output_type": "display_data",
          "data": {
            "image/png": "[encoded data removed]",
            "text/plain": [
              "<Figure size 1440x360 with 5 Axes>"
            ]
          },
          "metadata": {
            "tags": []
          }
        }
      ]
    },
    {
      "cell_type": "markdown",
      "metadata": {
        "id": "zvdNOITtIML3",
        "colab_type": "text"
      },
      "source": [
        "## Convolutional neural network example"
      ]
    },
    {
      "cell_type": "code",
      "metadata": {
        "id": "9benkxclJPn6",
        "colab_type": "code",
        "colab": {}
      },
      "source": [
        "# because we're using CNNs, the data needs a channel dimension:\n",
        "x_train = x_train[..., None]\n",
        "x_test = x_test[..., None]"
      ],
      "execution_count": 0,
      "outputs": []
    },
    {
      "cell_type": "code",
      "metadata": {
        "id": "1fczsbMgHNCS",
        "colab_type": "code",
        "colab": {}
      },
      "source": [
        "cnn_model = tf.keras.models.Sequential([\n",
        "    # let's add some convolutional layers:\n",
        "    tf.keras.layers.Conv2D(filters=32, kernel_size=3, strides=1, padding='same', activation='relu'),\n",
        "    tf.keras.layers.Conv2D(filters=32, kernel_size=3, strides=2, padding='same', activation='relu'),\n",
        "    # now, let's transition into a fully-connected layer; first, we flatten:\n",
        "    tf.keras.layers.Flatten(),\n",
        "    tf.keras.layers.Dense(units=64, activation='relu'),\n",
        "    #tf.keras.layers.Dropout(0.5),\n",
        "    tf.keras.layers.Dense(10, activation='softmax')  # length-10 output for classification\n",
        "])\n",
        "\n",
        "cnn_model.compile(optimizer='adam',  # pick an optimizer\n",
        "                     loss='sparse_categorical_crossentropy',  # pick a loss\n",
        "                     metrics=['accuracy'])  # pick a metric to monitor"
      ],
      "execution_count": 0,
      "outputs": []
    },
    {
      "cell_type": "code",
      "metadata": {
        "id": "5ijRtGnrI51V",
        "colab_type": "code",
        "outputId": "590c30ef-f75c-41d6-d240-67b2e78796df",
        "colab": {
          "base_uri": "https://localhost:8080/",
          "height": 119
        }
      },
      "source": [
        "# train model and track validation loss after each epoch:\n",
        "cnn_model.fit(x_train, y_train,\n",
        "              epochs=2,\n",
        "              batch_size=32,\n",
        "              validation_data=(x_test, y_test))"
      ],
      "execution_count": 10,
      "outputs": [
        {
          "output_type": "stream",
          "text": [
            "Train on 60000 samples, validate on 10000 samples\n",
            "Epoch 1/2\n",
            "60000/60000 [==============================] - 64s 1ms/sample - loss: 0.1334 - accuracy: 0.9592 - val_loss: 0.0520 - val_accuracy: 0.9832\n",
            "Epoch 2/2\n",
            "60000/60000 [==============================] - 64s 1ms/sample - loss: 0.0433 - accuracy: 0.9863 - val_loss: 0.0453 - val_accuracy: 0.9849\n"
          ],
          "name": "stdout"
        },
        {
          "output_type": "execute_result",
          "data": {
            "text/plain": [
              "<tensorflow.python.keras.callbacks.History at 0x7f6663fa2ac8>"
            ]
          },
          "metadata": {
            "tags": []
          },
          "execution_count": 10
        }
      ]
    },
    {
      "cell_type": "code",
      "metadata": {
        "id": "6AUsJf_5I-u1",
        "colab_type": "code",
        "outputId": "03a7bcb6-0197-4bb8-acbe-a9781ded0007",
        "colab": {
          "base_uri": "https://localhost:8080/",
          "height": 323
        }
      },
      "source": [
        "cnn_model.summary()"
      ],
      "execution_count": 11,
      "outputs": [
        {
          "output_type": "stream",
          "text": [
            "Model: \"sequential_1\"\n",
            "_________________________________________________________________\n",
            "Layer (type)                 Output Shape              Param #   \n",
            "=================================================================\n",
            "conv2d (Conv2D)              multiple                  320       \n",
            "_________________________________________________________________\n",
            "conv2d_1 (Conv2D)            multiple                  9248      \n",
            "_________________________________________________________________\n",
            "flatten_1 (Flatten)          multiple                  0         \n",
            "_________________________________________________________________\n",
            "dense_2 (Dense)              multiple                  401472    \n",
            "_________________________________________________________________\n",
            "dense_3 (Dense)              multiple                  650       \n",
            "=================================================================\n",
            "Total params: 411,690\n",
            "Trainable params: 411,690\n",
            "Non-trainable params: 0\n",
            "_________________________________________________________________\n"
          ],
          "name": "stdout"
        }
      ]
    },
    {
      "cell_type": "code",
      "metadata": {
        "id": "GJzBEt3QVUxz",
        "colab_type": "code",
        "colab": {}
      },
      "source": [
        ""
      ],
      "execution_count": 0,
      "outputs": []
    }
  ]
}