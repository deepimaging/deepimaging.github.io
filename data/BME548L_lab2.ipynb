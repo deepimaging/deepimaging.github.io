{
  "nbformat": 4,
  "nbformat_minor": 0,
  "metadata": {
    "colab": {
      "name": "BME548L_lab2.ipynb",
      "provenance": []
    },
    "kernelspec": {
      "name": "python3",
      "display_name": "Python 3"
    }
  },
  "cells": [
    {
      "cell_type": "markdown",
      "metadata": {
        "id": "1D-Zt0CM89l4"
      },
      "source": [
        "# Classes and Objects\n",
        "I will re-iterate that this is not a programming course, and I'm not here to teach you the basics of coding. However, there are some important concepts I will go over in lab that I expect you to work on on your own if you want to succeed in this class.\n",
        "\n",
        "Object oriented programming is one of them: the concept of classes and objects is incredibly important in Python (and many other languages). In this section we will review the basics of class definitions and demonstrate a few common cases."
      ]
    },
    {
      "cell_type": "markdown",
      "metadata": {
        "id": "A1IWtiH6-FWf"
      },
      "source": [
        "## Class Definitions"
      ]
    },
    {
      "cell_type": "code",
      "metadata": {
        "id": "Fe624lo0-EbN"
      },
      "source": [
        "# example class with lots going on\n",
        "class ExampleClass(object):\n",
        "    static_var = 'static'\n",
        "    def __init__(self, x, y):\n",
        "        super().__init__()\n",
        "        self.x = x\n",
        "        self.y = y\n",
        "    \n",
        "    def multiply(self):\n",
        "        return self.x * self.y\n",
        "\n",
        "    def swap(self):\n",
        "        temp_x = self.x\n",
        "        self.x = self.y\n",
        "        self.y = temp_x\n",
        "    \n",
        "    def replace(self, x=None, y=None):\n",
        "        if x is not None:\n",
        "            self.x = x\n",
        "        if y is not None:\n",
        "            self.y = y"
      ],
      "execution_count": 2,
      "outputs": []
    },
    {
      "cell_type": "code",
      "metadata": {
        "id": "kULSsGgqGqot",
        "colab": {
          "base_uri": "https://localhost:8080/"
        },
        "outputId": "9eee556e-c4fd-4414-9150-915ef1df484c"
      },
      "source": [
        "# before we break down whats going on, here is an example of usage:\n",
        "\n",
        "# instance create\n",
        "example_1 = ExampleClass(1, 2)\n",
        "example_2 = ExampleClass(3, 4)\n",
        "# now you can call methods on them\n",
        "print(example_1.multiply())\n",
        "print(example_2.multiply())\n",
        "\n",
        "# objects carry state\n",
        "example_1.replace(x=12)\n",
        "print(example_1.multiply())\n",
        "\n",
        "# classes, like lists, are mutable. So when you do an assignment you're working with a reference and don't automatically perform as deep copy\n",
        "example_1_copy = example_1\n",
        "print(example_1.x)\n",
        "example_1_copy.swap()\n",
        "print(example_1.x)"
      ],
      "execution_count": 3,
      "outputs": [
        {
          "output_type": "stream",
          "text": [
            "2\n",
            "12\n",
            "24\n",
            "12\n",
            "2\n"
          ],
          "name": "stdout"
        }
      ]
    },
    {
      "cell_type": "markdown",
      "metadata": {
        "id": "K2VQWkqOHj1p"
      },
      "source": [
        "Now let's get into the semantics of classes. Starting at the top:\n",
        "\n",
        "```\n",
        "class ExampleClass(object):\n",
        "```\n",
        "We have three key things here:\n",
        "1. `class` --> a keyword to indicate we are creating a class\n",
        "2. `ExampleClass` --> the name of the class. Although this isn't a rule it is good practice to use Upper CamelCase\n",
        "    - Sidenote: you'll see me use `snake_case` for variables and upper `CamelCase` for classes. See [PEP 8](https://www.python.org/dev/peps/pep-0008/#naming-conventions) for a full review of naming conventions\n",
        "3. `object` --> This is the class which we are inheriting from. Since in python everything is by default an `object`, inheriting from `object` is meaningless. I could have used `class ExampleClass:` for the same effect\n",
        "\n",
        "```\n",
        "class ExampleClass(object):\n",
        "    static_var = 'static'\n",
        "```\n",
        "\n",
        "Looking now at the next line, we can see `static_var` declared. This variable is a little tricky, as it is actually part of the class rather than the instance. This means that we can call `ExampleClass.static_var` and get the value.\n",
        "\n",
        "But what does this mean if we change the value of `static_var`?"
      ]
    },
    {
      "cell_type": "code",
      "metadata": {
        "id": "kY_DDW8PHjb9",
        "colab": {
          "base_uri": "https://localhost:8080/"
        },
        "outputId": "2c604bd7-229b-4551-b753-d38c11e3c83c"
      },
      "source": [
        "# looks normal, if we change the value of one of the instances the other remains the same\n",
        "print(example_1.static_var)\n",
        "print(example_2.static_var)\n",
        "ExampleClass.static_var = 'dynamic'\n",
        "print(example_1.static_var)\n",
        "print(example_2.static_var)"
      ],
      "execution_count": 5,
      "outputs": [
        {
          "output_type": "stream",
          "text": [
            "dynamic\n",
            "static\n",
            "dynamic\n",
            "dynamic\n"
          ],
          "name": "stdout"
        }
      ]
    },
    {
      "cell_type": "markdown",
      "metadata": {
        "id": "3A0wm_c7J3FL"
      },
      "source": [
        "However, this is one of those cases where variable mutability matters! Let's make static_var a list instead of a string and see what happens"
      ]
    },
    {
      "cell_type": "code",
      "metadata": {
        "id": "O0uFKZxsJ9pB"
      },
      "source": [
        "# example class with lots going on\n",
        "class ExampleClass(object):\n",
        "    static_var = ['static']\n",
        "    def __init__(self, x, y):\n",
        "        super().__init__()\n",
        "        self.x = x\n",
        "        self.y = y\n",
        "    \n",
        "    def multiply(self):\n",
        "        return self.x * self.y\n",
        "\n",
        "    def swap(self):\n",
        "        temp_x = self.x\n",
        "        self.x = self.y\n",
        "        self.y = temp_x\n",
        "    \n",
        "    def replace(self, x=None, y=None):\n",
        "        if x is not None:\n",
        "            self.x = x\n",
        "        if y is not None:\n",
        "            self.y = y"
      ],
      "execution_count": null,
      "outputs": []
    },
    {
      "cell_type": "code",
      "metadata": {
        "id": "l3-D8AFpHItc"
      },
      "source": [
        "example_3 = ExampleClass(1, 2)\n",
        "example_4 = ExampleClass(3, 4)"
      ],
      "execution_count": null,
      "outputs": []
    },
    {
      "cell_type": "code",
      "metadata": {
        "id": "ruczc7GsKH_h",
        "colab": {
          "base_uri": "https://localhost:8080/",
          "height": 87
        },
        "outputId": "e0edab67-db92-4d1a-cffe-975f886eb2ed"
      },
      "source": [
        "print(example_3.static_var)\n",
        "print(example_4.static_var)\n",
        "example_3.static_var.append(2)\n",
        "print(example_3.static_var)\n",
        "print(example_4.static_var)"
      ],
      "execution_count": null,
      "outputs": [
        {
          "output_type": "stream",
          "text": [
            "['static']\n",
            "['static']\n",
            "['static', 2]\n",
            "['static', 2]\n"
          ],
          "name": "stdout"
        }
      ]
    },
    {
      "cell_type": "markdown",
      "metadata": {
        "id": "uy780BrRKOkC"
      },
      "source": [
        "Now it changes. This is because when the instance of the class is created it only copies the **reference** to the variable. \n",
        "\n",
        "So what do you do with this information? My advice: be cautious.\n",
        "\n",
        "Only ever use class variables for static values that you don't expect to change. It isn't worth the hassle of remembering if the data type is mutable or not, and it may end up hurting you.\n",
        "\n",
        "---\n",
        "\n",
        "Back to the class:\n",
        "\n",
        "```\n",
        "class ExampleClass(object):\n",
        "    static_var = ['static']\n",
        "    def __init__(self, x, y):\n",
        "        super().__init__()\n",
        "        self.x = x\n",
        "        self.y = y\n",
        "```\n",
        " The `__init__` function is automatically called upon instance creation. The variable `self` is a reference to the internal object state and the other variables (in our case `x` and `y`) are used to initiaze the instance.\n",
        "\n",
        " You can see we call the `super().__init__()` function. What this does is intializes the parent class of our class. Now since the parent class of our class is the `object` class, this does nothing. The last two lines are simple assignments. Copying over the variables of `x` and `y` to the object's internal state so they can be used later.\n",
        "\n",
        "**Full Class**\n",
        " ```\n",
        " class ExampleClass(object):\n",
        "    static_var = ['static']\n",
        "    def __init__(self, x, y):\n",
        "        super().__init__()\n",
        "        self.x = x\n",
        "        self.y = y\n",
        "    \n",
        "    def multiply(self):\n",
        "        return self.x * self.y\n",
        "\n",
        "    def swap(self):\n",
        "        temp_x = self.x\n",
        "        self.x = self.y\n",
        "        self.y = temp_x\n",
        "    \n",
        "    def replace(self, x=None, y=None):\n",
        "        if x is not None:\n",
        "            self.x = x\n",
        "        if y is not None:\n",
        "            self.y = y\n",
        " ```\n",
        " You can see we defined a few functions here, some with inputs some without. You'll also see the keyword `self` a lot. `self` refers to the object it**self**. For most functions you'll have that as the first argument, and use that reference to access the object's internal state.\n",
        "\n",
        " **Note**:\n",
        " - `self` doesn't need to be called `self`, but you shouldn't call it anything else (it'll just be confusing). The meaning comes from it being the first variable rather than the name\n",
        " - There are things called *Static Methods* which don't need `self`, but we won't go into those.\n",
        " - Methods with `self` in them can't be called on the class, they must be called on an instance"
      ]
    },
    {
      "cell_type": "markdown",
      "metadata": {
        "id": "RrYxZ-KiOZ2J"
      },
      "source": [
        "## Class Exercise 1\n",
        "\n",
        "1. Create a class called `Person` which has the following characteristics\n",
        "    - Input variables which set the person's age and name\n",
        "    - A function returns the person's age categorization with the following condtionals:\n",
        "        - < 1 = infant\n",
        "        - < 11 = child\n",
        "        - < 18 = teenager\n",
        "        - otherwise: adult\n",
        "    - Write a function which updates the name\n",
        "    - Write a function called `birthday` which increases the person's age by `1` and returns the new age\n",
        "\n",
        "Create an instance of your class and test all your functions"
      ]
    },
    {
      "cell_type": "code",
      "metadata": {
        "id": "29JRxrhuKMqq"
      },
      "source": [
        ""
      ],
      "execution_count": null,
      "outputs": []
    },
    {
      "cell_type": "markdown",
      "metadata": {
        "id": "RKrsrUHDPtOt"
      },
      "source": [
        "## Class Exercise 2\n",
        "\n",
        "2. Create a class called `Student` which inherits from `Person` and has the following characteristics\n",
        "    - Input variables which set the student's major and university name\n",
        "    - A function returns a desciption of the student\n",
        "        - Their name, age, major and university\n",
        "\n",
        "**Aside**: String formatting\n",
        "- String formatting is super simple in python. You can insert variables directly into strings using \"f strings\":\n",
        "```\n",
        "x = 10\n",
        "y = 100\n",
        "v = \"hello\"\n",
        "new_str = f\"{v} world x is equal to {x}, Y is equal to {y}\"\n",
        "```\n"
      ]
    },
    {
      "cell_type": "code",
      "metadata": {
        "id": "3bNkcOq0QqhS"
      },
      "source": [
        ""
      ],
      "execution_count": null,
      "outputs": []
    }
  ]
}