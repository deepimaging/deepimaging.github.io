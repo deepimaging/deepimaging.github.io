{
 "cells": [
  {
   "cell_type": "code",
   "execution_count": 59,
   "metadata": {},
   "outputs": [],
   "source": [
    "import numpy as np\n",
    "import os\n",
    "import shutil"
   ]
  },
  {
   "cell_type": "code",
   "execution_count": 60,
   "metadata": {},
   "outputs": [],
   "source": [
    "# make directories\n",
    "olddir = 'ip102'\n",
    "newdir = 'ip102_splits'\n",
    "old_imagedir = 'images'\n",
    "\n",
    "splits = ['train', 'test', 'val']\n",
    "classes = [str(i) for i in np.arange(0,102)]\n",
    "\n",
    "for split in splits:\n",
    "    \n",
    "    path_split = os.path.join(newdir, split)\n",
    "    if not os.path.exists(path_split):\n",
    "        os.makedirs(path_split)\n",
    "    \n",
    "    for curr_class in classes:\n",
    "        path_class = os.path.join(path_split, curr_class)\n",
    "        if not os.path.exists(path_class):\n",
    "            os.makedirs(path_class)"
   ]
  },
  {
   "cell_type": "code",
   "execution_count": 62,
   "metadata": {},
   "outputs": [
    {
     "name": "stdout",
     "output_type": "stream",
     "text": [
      "ip102_splits/val/101/75221.jpggg\r"
     ]
    }
   ],
   "source": [
    "# move images to appropriate directory\n",
    "for split in splits:\n",
    "    \n",
    "    # get list of examples to be included in the current split\n",
    "    label_file = olddir + '/' + split + '.txt'\n",
    "    with open(label_file, 'r') as f:\n",
    "        examples = f.read().splitlines()\n",
    "\n",
    "    # copy each example to appropriate new folder\n",
    "    for example in examples:\n",
    "        example = example.split(' ')\n",
    "        curr_file = example[0]\n",
    "        curr_class = example[1]\n",
    "\n",
    "        src = os.path.join(olddir, old_imagedir, curr_file)\n",
    "        dest = os.path.join(newdir, split, curr_class, curr_file)\n",
    "        _ = shutil.copyfile(src, dest)\n",
    "        \n",
    "        print(dest, end='\\r')"
   ]
  },
  {
   "cell_type": "code",
   "execution_count": 82,
   "metadata": {},
   "outputs": [],
   "source": [
    "# correct the 'classes.txt' file and save in splits folder\n",
    "with open(os.path.join(olddir, 'classes.txt'), 'r') as f:\n",
    "        original_classes = f.read().splitlines()\n",
    "\n",
    "with open(os.path.join(newdir, 'classes.txt'), 'a') as f:\n",
    "    for curr in original_classes:\n",
    "        name_with_tabs = curr.split(' ',1)[-1]\n",
    "        name = name_with_tabs.split('\\t',1)[0]\n",
    "        if name[0] == ' ':\n",
    "            name = name[1:]\n",
    "        if name[-1] == ' ':\n",
    "            name = name[:-1]\n",
    "        f.write(name + '\\n')"
   ]
  },
  {
   "cell_type": "code",
   "execution_count": null,
   "metadata": {},
   "outputs": [],
   "source": []
  }
 ],
 "metadata": {
  "kernelspec": {
   "display_name": "Python [conda env:deeplearning] *",
   "language": "python",
   "name": "conda-env-deeplearning-py"
  },
  "language_info": {
   "codemirror_mode": {
    "name": "ipython",
    "version": 3
   },
   "file_extension": ".py",
   "mimetype": "text/x-python",
   "name": "python",
   "nbconvert_exporter": "python",
   "pygments_lexer": "ipython3",
   "version": "3.7.6"
  }
 },
 "nbformat": 4,
 "nbformat_minor": 2
}
