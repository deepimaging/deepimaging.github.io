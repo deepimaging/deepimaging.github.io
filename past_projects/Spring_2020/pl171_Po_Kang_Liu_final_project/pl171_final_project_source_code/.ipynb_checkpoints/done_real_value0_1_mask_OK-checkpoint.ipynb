{
 "cells": [
  {
   "cell_type": "code",
   "execution_count": 2,
   "metadata": {
    "colab": {
     "base_uri": "https://localhost:8080/",
     "height": 641
    },
    "colab_type": "code",
    "id": "fUqilK06EbsF",
    "outputId": "eabe8ff4-701a-4166-90ed-a6f11f3a04a7"
   },
   "outputs": [
    {
     "name": "stdout",
     "output_type": "stream",
     "text": [
      "Requirement already satisfied: tensorflow==2.0 in /usr/local/lib/python3.6/dist-packages (2.0.0)\n",
      "Requirement already satisfied: six>=1.10.0 in /usr/local/lib/python3.6/dist-packages (from tensorflow==2.0) (1.12.0)\n",
      "Requirement already satisfied: keras-preprocessing>=1.0.5 in /usr/local/lib/python3.6/dist-packages (from tensorflow==2.0) (1.1.0)\n",
      "Requirement already satisfied: numpy<2.0,>=1.16.0 in /usr/local/lib/python3.6/dist-packages (from tensorflow==2.0) (1.18.2)\n",
      "Requirement already satisfied: gast==0.2.2 in /usr/local/lib/python3.6/dist-packages (from tensorflow==2.0) (0.2.2)\n",
      "Requirement already satisfied: wheel>=0.26 in /usr/local/lib/python3.6/dist-packages (from tensorflow==2.0) (0.34.2)\n",
      "Requirement already satisfied: tensorboard<2.1.0,>=2.0.0 in /usr/local/lib/python3.6/dist-packages (from tensorflow==2.0) (2.0.2)\n",
      "Requirement already satisfied: tensorflow-estimator<2.1.0,>=2.0.0 in /usr/local/lib/python3.6/dist-packages (from tensorflow==2.0) (2.0.1)\n",
      "Requirement already satisfied: absl-py>=0.7.0 in /usr/local/lib/python3.6/dist-packages (from tensorflow==2.0) (0.9.0)\n",
      "Requirement already satisfied: grpcio>=1.8.6 in /usr/local/lib/python3.6/dist-packages (from tensorflow==2.0) (1.24.3)\n",
      "Requirement already satisfied: keras-applications>=1.0.8 in /usr/local/lib/python3.6/dist-packages (from tensorflow==2.0) (1.0.8)\n",
      "Requirement already satisfied: opt-einsum>=2.3.2 in /usr/local/lib/python3.6/dist-packages (from tensorflow==2.0) (3.2.0)\n",
      "Requirement already satisfied: termcolor>=1.1.0 in /usr/local/lib/python3.6/dist-packages (from tensorflow==2.0) (1.1.0)\n",
      "Requirement already satisfied: google-pasta>=0.1.6 in /usr/local/lib/python3.6/dist-packages (from tensorflow==2.0) (0.2.0)\n",
      "Requirement already satisfied: wrapt>=1.11.1 in /usr/local/lib/python3.6/dist-packages (from tensorflow==2.0) (1.12.1)\n",
      "Requirement already satisfied: astor>=0.6.0 in /usr/local/lib/python3.6/dist-packages (from tensorflow==2.0) (0.8.1)\n",
      "Requirement already satisfied: protobuf>=3.6.1 in /usr/local/lib/python3.6/dist-packages (from tensorflow==2.0) (3.10.0)\n",
      "Requirement already satisfied: markdown>=2.6.8 in /usr/local/lib/python3.6/dist-packages (from tensorboard<2.1.0,>=2.0.0->tensorflow==2.0) (3.2.1)\n",
      "Requirement already satisfied: requests<3,>=2.21.0 in /usr/local/lib/python3.6/dist-packages (from tensorboard<2.1.0,>=2.0.0->tensorflow==2.0) (2.21.0)\n",
      "Requirement already satisfied: google-auth<2,>=1.6.3 in /usr/local/lib/python3.6/dist-packages (from tensorboard<2.1.0,>=2.0.0->tensorflow==2.0) (1.7.2)\n",
      "Requirement already satisfied: google-auth-oauthlib<0.5,>=0.4.1 in /usr/local/lib/python3.6/dist-packages (from tensorboard<2.1.0,>=2.0.0->tensorflow==2.0) (0.4.1)\n",
      "Requirement already satisfied: setuptools>=41.0.0 in /usr/local/lib/python3.6/dist-packages (from tensorboard<2.1.0,>=2.0.0->tensorflow==2.0) (46.0.0)\n",
      "Requirement already satisfied: werkzeug>=0.11.15 in /usr/local/lib/python3.6/dist-packages (from tensorboard<2.1.0,>=2.0.0->tensorflow==2.0) (1.0.0)\n",
      "Requirement already satisfied: h5py in /usr/local/lib/python3.6/dist-packages (from keras-applications>=1.0.8->tensorflow==2.0) (2.8.0)\n",
      "Requirement already satisfied: certifi>=2017.4.17 in /usr/local/lib/python3.6/dist-packages (from requests<3,>=2.21.0->tensorboard<2.1.0,>=2.0.0->tensorflow==2.0) (2019.11.28)\n",
      "Requirement already satisfied: urllib3<1.25,>=1.21.1 in /usr/local/lib/python3.6/dist-packages (from requests<3,>=2.21.0->tensorboard<2.1.0,>=2.0.0->tensorflow==2.0) (1.24.3)\n",
      "Requirement already satisfied: chardet<3.1.0,>=3.0.2 in /usr/local/lib/python3.6/dist-packages (from requests<3,>=2.21.0->tensorboard<2.1.0,>=2.0.0->tensorflow==2.0) (3.0.4)\n",
      "Requirement already satisfied: idna<2.9,>=2.5 in /usr/local/lib/python3.6/dist-packages (from requests<3,>=2.21.0->tensorboard<2.1.0,>=2.0.0->tensorflow==2.0) (2.8)\n",
      "Requirement already satisfied: rsa<4.1,>=3.1.4 in /usr/local/lib/python3.6/dist-packages (from google-auth<2,>=1.6.3->tensorboard<2.1.0,>=2.0.0->tensorflow==2.0) (4.0)\n",
      "Requirement already satisfied: cachetools<3.2,>=2.0.0 in /usr/local/lib/python3.6/dist-packages (from google-auth<2,>=1.6.3->tensorboard<2.1.0,>=2.0.0->tensorflow==2.0) (3.1.1)\n",
      "Requirement already satisfied: pyasn1-modules>=0.2.1 in /usr/local/lib/python3.6/dist-packages (from google-auth<2,>=1.6.3->tensorboard<2.1.0,>=2.0.0->tensorflow==2.0) (0.2.8)\n",
      "Requirement already satisfied: requests-oauthlib>=0.7.0 in /usr/local/lib/python3.6/dist-packages (from google-auth-oauthlib<0.5,>=0.4.1->tensorboard<2.1.0,>=2.0.0->tensorflow==2.0) (1.3.0)\n",
      "Requirement already satisfied: pyasn1>=0.1.3 in /usr/local/lib/python3.6/dist-packages (from rsa<4.1,>=3.1.4->google-auth<2,>=1.6.3->tensorboard<2.1.0,>=2.0.0->tensorflow==2.0) (0.4.8)\n",
      "Requirement already satisfied: oauthlib>=3.0.0 in /usr/local/lib/python3.6/dist-packages (from requests-oauthlib>=0.7.0->google-auth-oauthlib<0.5,>=0.4.1->tensorboard<2.1.0,>=2.0.0->tensorflow==2.0) (3.1.0)\n"
     ]
    }
   ],
   "source": [
    "pip install tensorflow==2.0\n"
   ]
  },
  {
   "cell_type": "code",
   "execution_count": 1,
   "metadata": {
    "colab": {
     "base_uri": "https://localhost:8080/",
     "height": 35
    },
    "colab_type": "code",
    "id": "DtYJ1agDZ0OF",
    "outputId": "c26319bd-ca9e-4506-dc6f-27cc808d4f95"
   },
   "outputs": [
    {
     "name": "stdout",
     "output_type": "stream",
     "text": [
      "TensorFlow 2.x selected.\n"
     ]
    }
   ],
   "source": [
    "# if running in colab, this block chooses tf 2.0:\n",
    "try:\n",
    "  # %tensorflow_version only exists in Colab.\n",
    "  %tensorflow_version 2.x\n",
    "except Exception:\n",
    "  pass"
   ]
  },
  {
   "cell_type": "code",
   "execution_count": 3,
   "metadata": {
    "_cell_guid": "b1076dfc-b9ad-4769-8c92-a6c4dae69d19",
    "_uuid": "8f2839f25d086af736a60e9eeb907d3b93b6e0e5",
    "colab": {
     "base_uri": "https://localhost:8080/",
     "height": 35
    },
    "colab_type": "code",
    "id": "icWc4wm6AG53",
    "outputId": "98f29e6c-5ac7-4198-ca39-d3b09b8fc58f",
    "scrolled": true
   },
   "outputs": [
    {
     "name": "stderr",
     "output_type": "stream",
     "text": [
      "Using TensorFlow backend.\n"
     ]
    }
   ],
   "source": [
    "# https://www.pyimagesearch.com/2017/NUM_CLASSES/11/image-classification-with-keras-and-deep-learning/\n",
    "# https://machinelearningmastery.com/grid-search-hyperparameters-deep-learning-models-python-keras/\n",
    "# https://machinelearningmastery.com/save-load-keras-deep-learning-models/\n",
    "#https://www.learnopencv.com/image-classification-using-convolutional-neural-networks-in-keras/\n",
    "\n",
    "import numpy as np # linear algebra\n",
    "import pandas as pd # data processing, CSV file I/O (e.g. pd.read_csv)\n",
    "import os\n",
    "import random\n",
    "import sys\n",
    "import cv2\n",
    "import matplotlib\n",
    "from subprocess import check_output\n",
    "import tensorflow as tf\n",
    "import matplotlib.pyplot as plt\n",
    "import math as m\n",
    "\n",
    "from keras.models import Sequential\n",
    "from keras.layers import Dense, Conv2D, MaxPooling2D, Dropout, Flatten\n",
    "from keras.preprocessing.image import ImageDataGenerator, array_to_img, img_to_array, load_img\n",
    "from keras.optimizers import Adam\n",
    "from sklearn.model_selection import train_test_split\n",
    "from keras.utils import to_categorical\n",
    "\n"
   ]
  },
  {
   "cell_type": "code",
   "execution_count": 4,
   "metadata": {
    "colab": {
     "base_uri": "https://localhost:8080/",
     "height": 35
    },
    "colab_type": "code",
    "id": "XkPEyvJkJxmp",
    "outputId": "34a198b1-5d4d-433b-cac7-8d56cd59c307"
   },
   "outputs": [
    {
     "data": {
      "text/plain": [
       "'2.0.0'"
      ]
     },
     "execution_count": 4,
     "metadata": {
      "tags": []
     },
     "output_type": "execute_result"
    }
   ],
   "source": [
    "tf.__version__"
   ]
  },
  {
   "cell_type": "code",
   "execution_count": 5,
   "metadata": {
    "colab": {
     "base_uri": "https://localhost:8080/",
     "height": 70
    },
    "colab_type": "code",
    "id": "XSHGTLzz0k2L",
    "outputId": "46713479-1e7d-4b90-d519-426c6a4a228e"
   },
   "outputs": [
    {
     "name": "stdout",
     "output_type": "stream",
     "text": [
      "Requirement already satisfied: pynput in /usr/local/lib/python3.6/dist-packages (1.6.8)\n",
      "Requirement already satisfied: python-xlib>=0.17; \"linux\" in sys_platform in /usr/local/lib/python3.6/dist-packages (from pynput) (0.26)\n",
      "Requirement already satisfied: six in /usr/local/lib/python3.6/dist-packages (from pynput) (1.12.0)\n"
     ]
    }
   ],
   "source": [
    "pip install pynput"
   ]
  },
  {
   "cell_type": "code",
   "execution_count": 6,
   "metadata": {
    "colab": {
     "base_uri": "https://localhost:8080/",
     "height": 35
    },
    "colab_type": "code",
    "id": "XusiVcbbH0_3",
    "outputId": "d5e8717b-78a4-4982-a6bd-616b984902a6"
   },
   "outputs": [
    {
     "name": "stdout",
     "output_type": "stream",
     "text": [
      "Drive already mounted at /content/drive; to attempt to forcibly remount, call drive.mount(\"/content/drive\", force_remount=True).\n"
     ]
    }
   ],
   "source": [
    "from google.colab import drive\n",
    "drive.mount('/content/drive')"
   ]
  },
  {
   "cell_type": "markdown",
   "metadata": {
    "colab_type": "text",
    "id": "KlVJFMocug9x"
   },
   "source": [
    "## uncomment it if we want to redownload the data"
   ]
  },
  {
   "cell_type": "code",
   "execution_count": 7,
   "metadata": {
    "colab": {
     "base_uri": "https://localhost:8080/",
     "height": 55
    },
    "colab_type": "code",
    "id": "_jKY0S-QAVkT",
    "outputId": "d0343145-43f1-4df8-9f02-679a08bdef5a"
   },
   "outputs": [
    {
     "data": {
      "text/plain": [
       "'\\nimport tensorflow_datasets as tfds\\n#dataset = tfds.image.mnist\\n# https://www.tensorflow.org/datasets/api_docs/python/tfds/core/DatasetBuilder\\n\\nmalaria_builder = tfds.builder(\"colorectal_histology\")\\nmalaria_info = malaria_builder.info\\nmalaria_builder.download_and_prepare()\\ndatasets = malaria_builder.as_dataset()\\ndatasets\\n'"
      ]
     },
     "execution_count": 7,
     "metadata": {
      "tags": []
     },
     "output_type": "execute_result"
    }
   ],
   "source": [
    "'''\n",
    "import tensorflow_datasets as tfds\n",
    "#dataset = tfds.image.mnist\n",
    "# https://www.tensorflow.org/datasets/api_docs/python/tfds/core/DatasetBuilder\n",
    "\n",
    "malaria_builder = tfds.builder(\"colorectal_histology\")\n",
    "malaria_info = malaria_builder.info\n",
    "malaria_builder.download_and_prepare()\n",
    "datasets = malaria_builder.as_dataset()\n",
    "datasets\n",
    "'''"
   ]
  },
  {
   "cell_type": "code",
   "execution_count": 8,
   "metadata": {
    "colab": {
     "base_uri": "https://localhost:8080/",
     "height": 55
    },
    "colab_type": "code",
    "id": "pQaDY-H_Iv5C",
    "outputId": "6a6bca01-f3bc-41e8-dc2b-254536b79bbb"
   },
   "outputs": [
    {
     "data": {
      "text/plain": [
       "'\\ntrain_dataset = datasets[\"train\"]\\nimage_array = np.array([])\\nlabel_array = np.array([])\\nfor example in tfds.as_numpy(train_dataset):\\n  image, label = example[\\'image\\'], example[\\'label\\']\\n  label = np.expand_dims(label, axis=0)\\n  image = np.expand_dims(image, axis=0)\\n  \\n  #print(label.shape)\\n  #sample[\"image\"] = cv2.resize(image, dim, interpolation = cv2.INTER_AREA)\\n  image_array=np.vstack((image_array,image)) if image_array.size else image\\n  label_array = np.append(label_array,label, axis=0)\\n  #print(sample[\"image\"].shape)\\n  '"
      ]
     },
     "execution_count": 8,
     "metadata": {
      "tags": []
     },
     "output_type": "execute_result"
    }
   ],
   "source": [
    "'''\n",
    "train_dataset = datasets[\"train\"]\n",
    "image_array = np.array([])\n",
    "label_array = np.array([])\n",
    "for example in tfds.as_numpy(train_dataset):\n",
    "  image, label = example['image'], example['label']\n",
    "  label = np.expand_dims(label, axis=0)\n",
    "  image = np.expand_dims(image, axis=0)\n",
    "  \n",
    "  #print(label.shape)\n",
    "  #sample[\"image\"] = cv2.resize(image, dim, interpolation = cv2.INTER_AREA)\n",
    "  image_array=np.vstack((image_array,image)) if image_array.size else image\n",
    "  label_array = np.append(label_array,label, axis=0)\n",
    "  #print(sample[\"image\"].shape)\n",
    "  '''"
   ]
  },
  {
   "cell_type": "code",
   "execution_count": 0,
   "metadata": {
    "colab": {},
    "colab_type": "code",
    "id": "6BdSn6NMIFL0"
   },
   "outputs": [],
   "source": [
    "from google.colab import files\n"
   ]
  },
  {
   "cell_type": "markdown",
   "metadata": {
    "colab_type": "text",
    "id": "dhLPaS8_u0o9"
   },
   "source": [
    "#uncomment it if we want to redownload and save the data"
   ]
  },
  {
   "cell_type": "code",
   "execution_count": 11,
   "metadata": {
    "colab": {
     "base_uri": "https://localhost:8080/",
     "height": 55
    },
    "colab_type": "code",
    "id": "qiEX48qn9p7k",
    "outputId": "8a4d1f7d-c3e8-4291-ffd5-043ca833a521"
   },
   "outputs": [
    {
     "data": {
      "text/plain": [
       "\"\\nfrom numpy import save\\n# define data\\n# save to npy file\\nsave('/content/drive/My Drive/Colab Notebooks/machine learning in imaging/final project/image_array_colorectal2.npy', image_array)\\nfiles.download('/content/drive/My Drive/Colab Notebooks/machine learning in imaging/final project/image_array_colorectal2.npy')\\nsave('/content/drive/My Drive/Colab Notebooks/machine learning in imaging/final project/label_array_colorectal2.npy', label_array)\\nfiles.download('/content/drive/My Drive/Colab Notebooks/machine learning in imaging/final project/label_array_colorectal2.npy')\\n\""
      ]
     },
     "execution_count": 11,
     "metadata": {
      "tags": []
     },
     "output_type": "execute_result"
    }
   ],
   "source": [
    "'''\n",
    "from numpy import save\n",
    "# define data\n",
    "# save to npy file\n",
    "save('/content/drive/My Drive/Colab Notebooks/machine learning in imaging/final project/image_array_colorectal2.npy', image_array)\n",
    "files.download('/content/drive/My Drive/Colab Notebooks/machine learning in imaging/final project/image_array_colorectal2.npy')\n",
    "save('/content/drive/My Drive/Colab Notebooks/machine learning in imaging/final project/label_array_colorectal2.npy', label_array)\n",
    "files.download('/content/drive/My Drive/Colab Notebooks/machine learning in imaging/final project/label_array_colorectal2.npy')\n",
    "'''"
   ]
  },
  {
   "cell_type": "code",
   "execution_count": 0,
   "metadata": {
    "colab": {},
    "colab_type": "code",
    "id": "oPJ1TkRDl8Oz"
   },
   "outputs": [],
   "source": [
    "from numpy import load\n",
    "\n",
    "image_array = load('/content/drive/My Drive/Colab Notebooks/machine learning in imaging/final project/image_array_colorectal2.npy')\n"
   ]
  },
  {
   "cell_type": "code",
   "execution_count": 13,
   "metadata": {
    "colab": {
     "base_uri": "https://localhost:8080/",
     "height": 35
    },
    "colab_type": "code",
    "id": "p-UUhP9t4yey",
    "outputId": "d81f9bc9-93c7-4453-a1cb-a4ada94de964"
   },
   "outputs": [
    {
     "data": {
      "text/plain": [
       "(5000, 150, 150, 3)"
      ]
     },
     "execution_count": 13,
     "metadata": {
      "tags": []
     },
     "output_type": "execute_result"
    }
   ],
   "source": [
    "from numpy import load\n",
    "#image_array = load('/content/drive/My Drive/Colab Notebooks/machine learning in imaging/final project/image_array_colorectal.npy')\n",
    "label_array = load('/content/drive/My Drive/Colab Notebooks/machine learning in imaging/final project/label_array_colorectal2.npy')\n",
    "image_array = image_array/255\n",
    "# print the array\n",
    "image_array.shape"
   ]
  },
  {
   "cell_type": "code",
   "execution_count": 15,
   "metadata": {
    "colab": {
     "base_uri": "https://localhost:8080/",
     "height": 52
    },
    "colab_type": "code",
    "id": "L1Gb6hbZjNXw",
    "outputId": "3ed86563-b309-475c-ed5b-c7f8e4bf6195"
   },
   "outputs": [
    {
     "name": "stdout",
     "output_type": "stream",
     "text": [
      "(5000,)\n",
      "(5000, 150, 150, 3)\n"
     ]
    }
   ],
   "source": [
    "print(label_array.shape)\n",
    "print(image_array.shape)"
   ]
  },
  {
   "cell_type": "code",
   "execution_count": 0,
   "metadata": {
    "colab": {},
    "colab_type": "code",
    "id": "bkdXXcLrc9fq"
   },
   "outputs": [],
   "source": [
    "x_train, x_test, y_train, y_test = train_test_split( image_array, label_array, test_size=0.25, random_state=42)"
   ]
  },
  {
   "cell_type": "code",
   "execution_count": 18,
   "metadata": {
    "colab": {
     "base_uri": "https://localhost:8080/",
     "height": 52
    },
    "colab_type": "code",
    "id": "QD6lfzXOg_Zm",
    "outputId": "acef544c-d956-4467-c4a6-157aaca4bc08"
   },
   "outputs": [
    {
     "name": "stdout",
     "output_type": "stream",
     "text": [
      "(3750, 150, 150, 3) (3750,)\n",
      "(1250, 150, 150, 3) (1250,)\n"
     ]
    }
   ],
   "source": [
    "print(x_train.shape, y_train.shape)\n",
    "print(x_test.shape, y_test.shape)"
   ]
  },
  {
   "cell_type": "code",
   "execution_count": 0,
   "metadata": {
    "colab": {},
    "colab_type": "code",
    "id": "ca6-dUyyc9GZ"
   },
   "outputs": [],
   "source": [
    "train_ds = tf.data.Dataset.from_tensor_slices((x_train, y_train)).shuffle(10000).batch(32)\n",
    "test_ds = tf.data.Dataset.from_tensor_slices((x_test, y_test)).batch(32)"
   ]
  },
  {
   "cell_type": "markdown",
   "metadata": {
    "colab_type": "text",
    "id": "awV2fwrTwlSM"
   },
   "source": [
    "# some parameters"
   ]
  },
  {
   "cell_type": "code",
   "execution_count": 0,
   "metadata": {
    "colab": {},
    "colab_type": "code",
    "id": "mkCoyotPwled"
   },
   "outputs": [],
   "source": [
    "wavelength_ = .5e-3          # units are mm\n",
    "optical_thickness_ = 20 * wavelength_\n",
    "\n",
    "wavelength = tf.constant(wavelength_, dtype=tf.complex64)\n",
    "optical_thickness = tf.constant(optical_thickness_, dtype=tf.complex64)"
   ]
  },
  {
   "cell_type": "markdown",
   "metadata": {
    "colab_type": "text",
    "id": "2HVlpZIWrxFO"
   },
   "source": [
    "# RGB color filter"
   ]
  },
  {
   "cell_type": "code",
   "execution_count": 0,
   "metadata": {
    "colab": {},
    "colab_type": "code",
    "id": "ZLnA3hs-r1bs"
   },
   "outputs": [],
   "source": [
    "color_filter_tmp = np.ones([3,150,150])\n",
    "color_filter_ = tf.Variable(color_filter_tmp,dtype=tf.float32,trainable=True,name='color_filter_')\n",
    "#color_filter_ = tf.expand_dims(color_filter_, 0) # add extra axis for batch size\n"
   ]
  },
  {
   "cell_type": "markdown",
   "metadata": {
    "colab_type": "text",
    "id": "gWcFKxV9o84V"
   },
   "source": [
    "## Aperture"
   ]
  },
  {
   "cell_type": "code",
   "execution_count": 0,
   "metadata": {
    "colab": {},
    "colab_type": "code",
    "id": "uxM5VqZbpzLN"
   },
   "outputs": [],
   "source": [
    "\n",
    "num_samples = 150\n",
    "fxmax= 75\n",
    "fx = np.linspace(-fxmax, fxmax,num_samples)\n",
    "fy = fx\n",
    "[fxx,fyy] = np.meshgrid(fx, fy)\n",
    "# Take 2D fourier transform of sample\n"
   ]
  },
  {
   "cell_type": "code",
   "execution_count": 29,
   "metadata": {
    "colab": {
     "base_uri": "https://localhost:8080/",
     "height": 283
    },
    "colab_type": "code",
    "id": "WbMc4pAqqMwz",
    "outputId": "63ddf869-20e7-4a06-d48e-3a3c61987893"
   },
   "outputs": [
    {
     "data": {
      "image/png": "[encoded data removed]",
      "text/plain": [
       "<Figure size 432x288 with 1 Axes>"
      ]
     },
     "metadata": {
      "tags": []
     },
     "output_type": "display_data"
    }
   ],
   "source": [
    "na = .25 * fxmax\n",
    "lens_transfer_functiontmp = (np.sqrt(fxx**2+fyy**2))<na\n",
    "#lens_transfer_function = tf.cast(lens_transfer_function,tf.complex64)\n",
    "\n",
    "# Plot what the transfer function looks like\n",
    "plt.imshow(lens_transfer_functiontmp)\n",
    "plt.xlabel('spatial frequency (1/mm)')\n",
    "plt.ylabel('spatial frequency (1/mm)')\n",
    "plt.show()\n",
    "\n",
    "lens_transfer_function = tf.Variable(lens_transfer_functiontmp,dtype=tf.float32,trainable=False,name='lens_transfer_function')\n",
    "\n",
    "#lens_transfer_function = tf.cast(lens_transfer_function,tf.complex64)\n"
   ]
  },
  {
   "cell_type": "code",
   "execution_count": 0,
   "metadata": {
    "colab": {},
    "colab_type": "code",
    "id": "Hty0cO7ZV-09"
   },
   "outputs": [],
   "source": [
    "tmp = np.ones((150,150))\n",
    "tmp = tmp/2 # initial value would be 0.5 for all guys\n",
    "real_aperture_mask = tf.Variable(tmp,dtype=tf.float32,trainable=True,name='real_aperture_mask')\n",
    "#real_aperture_mask = tf.clip_by_value(real_aperture_mask,clip_value_max=)\n",
    "#real_aperture_mask = tf.Variable(initial_value = tf.initializers.GlorotNormal()(shape=(150,150)),dtype=tf.float32,trainable=True,name='real_aperture_mask')\n"
   ]
  },
  {
   "cell_type": "markdown",
   "metadata": {
    "colab_type": "text",
    "id": "nBYQsK6QWhXs"
   },
   "source": []
  },
  {
   "cell_type": "markdown",
   "metadata": {
    "colab_type": "text",
    "id": "XLvsWqJg-0fQ"
   },
   "source": [
    "## test physical layer"
   ]
  },
  {
   "cell_type": "code",
   "execution_count": 0,
   "metadata": {
    "colab": {},
    "colab_type": "code",
    "id": "Uzg5xxSeOOut"
   },
   "outputs": [],
   "source": []
  },
  {
   "cell_type": "code",
   "execution_count": 32,
   "metadata": {
    "colab": {
     "base_uri": "https://localhost:8080/",
     "height": 35
    },
    "colab_type": "code",
    "id": "EBa54Pi3-0sH",
    "outputId": "9ca507fc-87b6-4bdb-db85-55295a902e4f"
   },
   "outputs": [
    {
     "data": {
      "text/plain": [
       "(32, 150, 150, 3)"
      ]
     },
     "execution_count": 32,
     "metadata": {
      "tags": []
     },
     "output_type": "execute_result"
    }
   ],
   "source": [
    "x_batch_test = x_train [:32]\n",
    "x_batch_test.shape"
   ]
  },
  {
   "cell_type": "markdown",
   "metadata": {
    "colab_type": "text",
    "id": "4S6ERk1ipsZn"
   },
   "source": [
    "# physical layer RGB"
   ]
  },
  {
   "cell_type": "code",
   "execution_count": 0,
   "metadata": {
    "colab": {},
    "colab_type": "code",
    "id": "6n_oT63WxQ22"
   },
   "outputs": [],
   "source": [
    "from PIL import Image\n",
    "def physical_layer_RGB(x_batch):\n",
    "  print('123123123')\n",
    "  print('x_batch shape', x_batch.shape)\n",
    "\n",
    " \n",
    "  sample = tf.cast(x_batch, tf.complex64)\n",
    "  print('1111')\n",
    "\n",
    "  print('2222')\n",
    "\n",
    "  #### OPTICS #####\n",
    "\n",
    "  sample = tf.transpose(sample, perm=[0,3,1,2])\n",
    "\n",
    "  print('channel G sample 1')\n",
    "  \n",
    "\n",
    "  #plot_imshow(tf.cast((sample[1,1,:,:]),tf.float32))\n",
    "  print('channel G sample 1 original')\n",
    "\n",
    "  #plt.imshow(tf.cast((sample[1,1,:,:]),tf.float32))\n",
    "  #plt.show()\n",
    "\n",
    "  #FT_sample = tf.Variable(sample,dtype=tf.complex64,trainable=False)\n",
    "  FT_sample = tf.signal.fft2d(sample)\n",
    "  FT_sample_shift = tf.signal.fftshift(FT_sample,axes=(2,3))\n",
    "\n",
    "  print('after color filter')\n",
    "  color_filter_2 = tf.cast(color_filter_, tf.complex64)\n",
    "\n",
    "  filtered_FT_sample  =tf.multiply(color_filter_2,FT_sample_shift) \n",
    "  #plt.imshow(tf.cast(filtered_FT_sample[1,1,:,:],tf.float32))\n",
    "  #plt.show()\n",
    "  \n",
    "  aperture_phase2 = tf.cast(aperture_phase, tf.complex64)\n",
    "  aperture = lens_transfer_function * tf.exp(1j * 2* m.pi* aperture_phase2)\n",
    "  filtered_FT_sample  =tf.multiply(aperture,filtered_FT_sample) \n",
    "\n",
    "  print('after transfer function ')\n",
    "  filtered_FT_sample  =tf.multiply(lens_transfer_function,filtered_FT_sample) \n",
    "  #plt.imshow(tf.cast(filtered_FT_sample[1,1,:,:],tf.float32))\n",
    "  #plt.show()\n",
    "\n",
    "\n",
    "  print('after ifft2d ')\n",
    "  image = tf.signal.ifft2d(filtered_FT_sample)\n",
    "  #plt.imshow(abs(image[1,1,:,:]))\n",
    "  #plt.show()\n",
    "\n",
    "\n",
    "  print('after repermutation :tf.transpose(image, perm=[0,2,3,1]) ')\n",
    "  image = tf.transpose(image, perm=[0,2,3,1])\n",
    "  #plt.imshow(abs(image[1,:,:,1]))\n",
    "  #plt.show()\n",
    "\n",
    "  image = tf.square(tf.abs(image)) #convert it to intensity\n",
    "  #image = tf.square(((image) * tf.math.conj(image))) #convert it to intensity\n",
    "  image = tf.cast(image, tf.float32)\n",
    "  print('image shape after physical layer',image.shape)\n",
    "\n",
    "  return image"
   ]
  },
  {
   "cell_type": "markdown",
   "metadata": {
    "colab_type": "text",
    "id": "sU4RO4rn91v-"
   },
   "source": [
    "# physical layer phase mask"
   ]
  },
  {
   "cell_type": "code",
   "execution_count": 0,
   "metadata": {
    "colab": {},
    "colab_type": "code",
    "id": "kL4mk9ATmy5v"
   },
   "outputs": [],
   "source": [
    "def physical_layer_phase_mask(x_batch):\n",
    "  print('aaa')\n",
    "  x_batch = tf.cast(x_batch, tf.complex64)\n",
    "  print('ccc')\n",
    "  sample = x_batch\n",
    "\n",
    "\n",
    "#### OPTICS #####\n",
    "  sample = tf.transpose(sample, perm=[0,3,1,2])\n",
    "  print('ddd')\n",
    "\n",
    "  FT_sample  = tf.signal.fft2d(sample )\n",
    "  FT_sample_shift = tf.signal.fftshift(FT_sample,axes=(2,3))\n",
    "  print('eee')\n",
    "\n",
    "  #real_aperture_mask2 = tf.clip_by_value(real_aperture_mask, clip_value_min=0, clip_value_max=1) # [[1, 3, 3],[3, 3, 3]]\n",
    "  real_aperture_mask2 = tf.square(real_aperture_mask)\n",
    "  #aperture_phase2 = tf.cast(aperture_phase, tf.complex64)\n",
    "\n",
    "  #lens_transfer_function = tf.cast(lens_transfer_function,tf.float32)\n",
    "  aperture = tf.multiply(lens_transfer_function, real_aperture_mask2)\n",
    "  aperture2 = tf.cast(aperture,tf.complex64)\n",
    "  print('fff')\n",
    "\n",
    "  filtered_FT_sample  =tf.multiply(aperture2, FT_sample_shift) \n",
    "\n",
    "\n",
    "######## imshow test >?????\n",
    " ## plt.imshow(np.abs(filtered_FT_sample[1,1,:,:]))#.astype(np.float32))\n",
    " # plt.show()\n",
    "\n",
    "\n",
    "\n",
    "#### IFFT  and form the image!!! #################\n",
    "  image = tf.signal.ifft2d(filtered_FT_sample)\n",
    "  image = tf.transpose(image, perm=[0,2,3,1])\n",
    "\n",
    "  image = tf.square(tf.abs(image)) #convert it to intensity\n",
    "\n",
    "  #image = tf.square(((image) * tf.math.conj(image))) #convert it to intensity\n",
    "  image = tf.cast(image, tf.float32)\n",
    "  \n",
    " \n",
    "  return image"
   ]
  },
  {
   "cell_type": "markdown",
   "metadata": {
    "colab_type": "text",
    "id": "qpe_ccskpn2N"
   },
   "source": [
    "# alexnet"
   ]
  },
  {
   "cell_type": "code",
   "execution_count": 0,
   "metadata": {
    "colab": {},
    "colab_type": "code",
    "id": "8SF9jEaIzmI8"
   },
   "outputs": [],
   "source": [
    "# https://www.google.com/search?q=alexnet&sxsrf=ALeKk03nxwjPnSPq77l41iACT4nuWtF0nw:1584470777490&source=lnms&tbm=isch&sa=X&ved=2ahUKEwiGl-XOlaLoAhXtT98KHVwTCIIQ_AUoAXoECA0QAw&biw=1280&bih=529#imgrc=j8y8gy88lYqI-M\n",
    "#https://github.com/henrypowell87/AlexNet_TF2.0/blob/master/main.py\n",
    "\n",
    "\n",
    "class Alexnet(tf.keras.Model):\n",
    "  def __init__(self):\n",
    "    super(Alexnet, self).__init__()\n",
    "    self.conv_1 =    tf.keras.layers.Conv2D(filters=96, kernel_size=11, strides=4, padding='same', activation='relu')\n",
    "    self.pool_1 =    tf.keras.layers.MaxPooling2D(pool_size=(2, 2), strides=(2, 2),padding=\"valid\")\n",
    "    self.norm_1 =    tf.keras.layers.BatchNormalization()\n",
    "    \n",
    "    self.conv_2 =    tf.keras.layers.Conv2D(filters=256, kernel_size=5, strides=1, padding='same', activation='relu')\n",
    "    self.pool_2 =    tf.keras.layers.MaxPooling2D(pool_size=(2, 2), strides=(2, 2),padding=\"valid\")\n",
    "    self.norm_2 =    tf.keras.layers.BatchNormalization()\n",
    "\n",
    "    self.conv_3 =    tf.keras.layers.Conv2D(filters=384, kernel_size=3, strides=1, padding='valid', activation='relu')\n",
    "    self.norm_3 =    tf.keras.layers.BatchNormalization()\n",
    "\n",
    "    self.conv_4 =    tf.keras.layers.Conv2D(filters=384, kernel_size=3, strides=1, padding='valid', activation='relu')\n",
    "    self.norm_4 =    tf.keras.layers.BatchNormalization()\n",
    "\n",
    "\n",
    "    self.conv_5 =    tf.keras.layers.Conv2D(filters=256, kernel_size=3, strides=1, padding='same', activation='relu')\n",
    "    self.pool_5 =    tf.keras.layers.MaxPooling2D(pool_size=(2, 2), strides=(2, 2),padding=\"valid\")\n",
    "    self.norm_5 =    tf.keras.layers.BatchNormalization()\n",
    "\n",
    "\n",
    "\n",
    "\n",
    "    #self.block_5 =    tf.keras.layers.Conv2D(filters=64, kernel_size=3, strides=2, padding='same', activation='relu')\n",
    "    self.flat = tf.keras.layers.Flatten()\n",
    "\n",
    "    self.dense_6 = tf.keras.layers.Dense(units=4096, activation='relu')\n",
    "    self.drop_6 = tf.keras.layers.Dropout(rate=0.4)\n",
    "    self.norm_6 =    tf.keras.layers.BatchNormalization()\n",
    "\n",
    "    self.dense_7 = tf.keras.layers.Dense(units=4096, activation='relu')\n",
    "    self.drop_7 = tf.keras.layers.Dropout(rate=0.4)\n",
    "    self.norm_7 =    tf.keras.layers.BatchNormalization()\n",
    "\n",
    "    self.dense_8 = tf.keras.layers.Dense(units=1000, activation='relu')\n",
    "    self.drop_8 = tf.keras.layers.Dropout(rate=0.4)\n",
    "    self.norm_8 =    tf.keras.layers.BatchNormalization()\n",
    "\n",
    "    self.classifier =  tf.keras.layers.Dense(8, activation='softmax')  # length-10 output for classification\n",
    "\n",
    "\n",
    "  def call(self, x):\n",
    "    # ...\n",
    "\n",
    "    x= self.conv_1(x)\n",
    "    x= self.pool_1(x)\n",
    "    x= self.norm_1(x)\n",
    "    \n",
    "    x= self.conv_2(x)\n",
    "    x= self.pool_2(x)\n",
    "    x= self.norm_2(x)\n",
    "\n",
    "    x= self.conv_3(x)\n",
    "    x= self.norm_3(x)\n",
    "\n",
    "    x= self.conv_4(x)\n",
    "    x= self.norm_4(x)\n",
    "\n",
    "\n",
    "    x= self.conv_5(x)\n",
    "    x= self.pool_5(x)\n",
    "    x= self.norm_5(x)\n",
    "\n",
    "\n",
    "\n",
    "\n",
    "    #self.block_5 =    tf.keras.layers.Conv2D(filters=64, kernel_size=3, strides=2, padding='same', activation='relu')\n",
    "    x= self.flat(x)\n",
    "\n",
    "    x= self.dense_6(x)  \n",
    "    x= self.drop_6(x)  \n",
    "    x= self.norm_6(x)   \n",
    "\n",
    "    x= self.dense_7(x)  \n",
    "    x= self.drop_7(x)  \n",
    "    x= self.norm_7(x)   \n",
    "\n",
    "    x= self.dense_8(x) \n",
    "    x= self.drop_8(x)  \n",
    "    x= self.norm_8(x)    \n",
    "\n",
    "    x = self.classifier(x) \n",
    "\n",
    "    #x += input_tensor\n",
    "    return x\n",
    "\n",
    "\n",
    "\n",
    "alexnet = Alexnet()"
   ]
  },
  {
   "cell_type": "markdown",
   "metadata": {
    "colab_type": "text",
    "id": "ms1Fz9Bp_GC2"
   },
   "source": [
    "# VGG16"
   ]
  },
  {
   "cell_type": "code",
   "execution_count": 0,
   "metadata": {
    "colab": {},
    "colab_type": "code",
    "id": "wBFyF5xvceiB"
   },
   "outputs": [],
   "source": [
    "# https://www.kaggle.com/cdeotte/how-to-choose-cnn-architecture-mnist\n",
    "# best model classify mnist? 784 - [32C3-32C3-32C5S2] - [64C3-64C3-64C5S2] - 128 - 10\n",
    "\n",
    "\n",
    "class VGG16(tf.keras.Model):\n",
    "  def __init__(self):\n",
    "    super(VGG16, self).__init__()\n",
    "\n",
    "    self.conv_1 =    tf.keras.layers.Conv2D(filters=64, kernel_size=3, strides=1, padding='same', activation='relu')\n",
    "    self.conv_12 =    tf.keras.layers.Conv2D(filters=64, kernel_size=3, strides=1, padding='same', activation='relu')\n",
    "    self.pool_1 =    tf.keras.layers.MaxPooling2D(pool_size=(2, 2), strides=(2, 2),padding=\"valid\")\n",
    "    \n",
    "\n",
    "    self.conv_2 =    tf.keras.layers.Conv2D(filters=128, kernel_size=3, strides=1, padding='same', activation='relu')\n",
    "    self.conv_22 =    tf.keras.layers.Conv2D(filters=128, kernel_size=3, strides=1, padding='same', activation='relu')\n",
    "    self.pool_2 =    tf.keras.layers.MaxPooling2D(pool_size=(2, 2), strides=(2, 2),padding=\"valid\")\n",
    "\n",
    "\n",
    "    self.conv_3 =    tf.keras.layers.Conv2D(filters=256, kernel_size=3, strides=1, padding='same', activation='relu')\n",
    "    self.conv_32 =    tf.keras.layers.Conv2D(filters=256, kernel_size=3, strides=1, padding='same', activation='relu')\n",
    "    self.conv_33 =    tf.keras.layers.Conv2D(filters=256, kernel_size=3, strides=1, padding='same', activation='relu')\n",
    "    self.pool_3 =    tf.keras.layers.MaxPooling2D(pool_size=(2, 2), strides=(2, 2),padding=\"valid\")\n",
    "\n",
    "\n",
    "\n",
    "    self.conv_4 =    tf.keras.layers.Conv2D(filters=512, kernel_size=3, strides=1, padding='same', activation='relu')\n",
    "    self.conv_42 =    tf.keras.layers.Conv2D(filters=512, kernel_size=3, strides=1, padding='same', activation='relu')\n",
    "    self.conv_43 =    tf.keras.layers.Conv2D(filters=512, kernel_size=3, strides=1, padding='same', activation='relu')\n",
    "    self.pool_4 =    tf.keras.layers.MaxPooling2D(pool_size=(2, 2), strides=(2, 2),padding=\"valid\")\n",
    "\n",
    "\n",
    "\n",
    "    self.conv_5 =    tf.keras.layers.Conv2D(filters=512, kernel_size=3, strides=1, padding='same', activation='relu')\n",
    "    self.conv_52 =    tf.keras.layers.Conv2D(filters=512, kernel_size=3, strides=1, padding='same', activation='relu')\n",
    "    self.conv_53 =    tf.keras.layers.Conv2D(filters=512, kernel_size=3, strides=1, padding='same', activation='relu')\n",
    "    self.pool_5 =    tf.keras.layers.MaxPooling2D(pool_size=(2, 2), strides=(2, 2),padding=\"valid\")\n",
    "\n",
    "\n",
    "\n",
    "######################## dense ######################################\n",
    "\n",
    "    self.flat = tf.keras.layers.Flatten()\n",
    "\n",
    "    self.dense_6 = tf.keras.layers.Dense(units=4096, activation='relu')\n",
    "    self.drop_6 = tf.keras.layers.Dropout(rate=0.4)\n",
    "    self.norm_6 =    tf.keras.layers.BatchNormalization()\n",
    "\n",
    "    self.dense_7 = tf.keras.layers.Dense(units=4096, activation='relu')\n",
    "    self.drop_7 = tf.keras.layers.Dropout(rate=0.4)\n",
    "    self.norm_7 =    tf.keras.layers.BatchNormalization()\n",
    "\n",
    "    self.dense_8= tf.keras.layers.Dense(units=4096, activation='relu')\n",
    "    self.drop_8 = tf.keras.layers.Dropout(rate=0.4)\n",
    "    self.norm_8 = tf.keras.layers.BatchNormalization()\n",
    "\n",
    "    self.classifier =  tf.keras.layers.Dense(8, activation='softmax')  # length-10 output for classification\n",
    "\n",
    "\n",
    "  def call(self, x):\n",
    "    \n",
    "    x= self.conv_1(x)\n",
    "    x= self.conv_12(x)\n",
    "    x= self.pool_1(x)\n",
    "    \n",
    "    x= self.conv_2(x)\n",
    "    x= self.conv_22(x)\n",
    "    x= self.pool_2(x)\n",
    "    \n",
    "\n",
    "    x= self.conv_3(x)\n",
    "    x= self.conv_32(x)\n",
    "    x= self.conv_32(x)\n",
    "    x= self.pool_3(x)\n",
    "\n",
    "\n",
    "    x= self.conv_4(x)\n",
    "    x= self.conv_42(x)\n",
    "    x= self.conv_42(x)\n",
    "    x= self.pool_4(x)\n",
    "\n",
    "\n",
    "    x= self.conv_5(x)\n",
    "    x= self.conv_52(x)\n",
    "    x= self.conv_53(x)\n",
    "    x= self.pool_5(x)\n",
    "            \n",
    "  ######## flatten #################\n",
    "\n",
    "    x= self.flat(x)\n",
    "\n",
    "    x= self.dense_6(x)  \n",
    "    x= self.drop_6(x)  \n",
    "    x= self.norm_6(x)   \n",
    "\n",
    "    x= self.dense_7(x)  \n",
    "    x= self.drop_7(x)  \n",
    "    x= self.norm_7(x)   \n",
    "\n",
    "    x= self.dense_8(x) \n",
    "    x= self.drop_8(x)  \n",
    "    x= self.norm_8(x)    \n",
    "\n",
    "    x = self.classifier(x) \n",
    "\n",
    "    #x += input_tensor\n",
    "    return x\n",
    "\n",
    "\n",
    "\n",
    "vgg16 = VGG16()"
   ]
  },
  {
   "cell_type": "markdown",
   "metadata": {
    "colab_type": "text",
    "id": "oua5hc9kiYs9"
   },
   "source": [
    "# forward model "
   ]
  },
  {
   "cell_type": "code",
   "execution_count": 0,
   "metadata": {
    "colab": {},
    "colab_type": "code",
    "id": "1n80Zai2kwzX"
   },
   "outputs": [],
   "source": [
    "def forward_model_RGB(x_batch):\n",
    "\n",
    "  physical_out = physical_layer_RGB(x_batch)\n",
    "  return alexnet(physical_out)\n"
   ]
  },
  {
   "cell_type": "code",
   "execution_count": 0,
   "metadata": {
    "colab": {},
    "colab_type": "code",
    "id": "DctwEiyMkwow"
   },
   "outputs": [],
   "source": [
    "def forward_model_phase_mask(x_batch):\n",
    "  physical_out = physical_layer_phase_mask(x_batch)\n",
    "  return alexnet(physical_out)"
   ]
  },
  {
   "cell_type": "markdown",
   "metadata": {
    "colab_type": "text",
    "id": "LZ6wPlJvpwYx"
   },
   "source": [
    "# define loss and train test step "
   ]
  },
  {
   "cell_type": "code",
   "execution_count": 0,
   "metadata": {
    "colab": {},
    "colab_type": "code",
    "id": "FnSD6Kx9cehP"
   },
   "outputs": [],
   "source": [
    "loss_object = tf.keras.losses.SparseCategoricalCrossentropy()\n",
    "\n",
    "optimizer = tf.keras.optimizers.Adam()"
   ]
  },
  {
   "cell_type": "code",
   "execution_count": 0,
   "metadata": {
    "colab": {},
    "colab_type": "code",
    "id": "5B17Eer-cegR"
   },
   "outputs": [],
   "source": [
    "train_loss = tf.keras.metrics.Mean(name='train_loss')\n",
    "train_accuracy = tf.keras.metrics.SparseCategoricalAccuracy(name='train_accuracy')\n",
    "\n",
    "test_loss = tf.keras.metrics.Mean(name='test_loss')\n",
    "test_accuracy = tf.keras.metrics.SparseCategoricalAccuracy(name='test_accuracy')"
   ]
  },
  {
   "cell_type": "code",
   "execution_count": 0,
   "metadata": {
    "colab": {},
    "colab_type": "code",
    "id": "fXTsOCiHcea3"
   },
   "outputs": [],
   "source": [
    "@tf.function\n",
    "def train_step(images, labels):\n",
    "\n",
    "  ## add physical layer in here?????\n",
    "  #### i fix the physical layer for now, just to make sure the cnn is running\n",
    "  #print('aaa')\n",
    "\n",
    "  #####\n",
    "  with tf.GradientTape() as tape:    \n",
    "    print('bbb')\n",
    "    #tape.watch(input_illumination_phase)\n",
    "    tape.watch(real_aperture_mask)\n",
    "    #tape.watch(color_filter_)\n",
    "    #predictions = model(images)\n",
    "    print('ccc')\n",
    "\n",
    "    #predictions = forward_model(images,input_illumination_phase,aperture_phase)\n",
    "    predictions = forward_model_phase_mask(images)\n",
    "    #predictions = forward_model_RGB(images)\n",
    "    \n",
    "    print('ddd')\n",
    "  \n",
    "    #predictions = forward_model_RGB(images,aperture_phase)\n",
    "    #predictions = model(images)\n",
    "    loss = loss_object(labels, predictions)\n",
    "    #gradients_aperture = tf.gradients(loss, aperture_phase)\n",
    "    print('ggg')\n",
    "\n",
    "\n",
    "  gradients = tape.gradient(loss, alexnet.trainable_variables +[real_aperture_mask] )\n",
    "  optimizer.apply_gradients(zip(gradients, alexnet.trainable_variables+ [real_aperture_mask]))\n",
    "  #gradients = tape.gradient(loss,alexnet.trainable_variables + [ aperture_phase] )\n",
    "  #optimizer.apply_gradients(zip(gradients,alexnet.trainable_variables+[ aperture_phase]))\n",
    "  \n",
    "  print('fff')\n",
    "  #optimizer.apply_gradients(gradients_input_illum, input_illumination_phase)\n",
    "\n",
    "  train_loss(loss)\n",
    "  train_accuracy(labels, predictions)\n",
    "  "
   ]
  },
  {
   "cell_type": "code",
   "execution_count": 0,
   "metadata": {
    "colab": {},
    "colab_type": "code",
    "id": "I7oZCzF3ceW4"
   },
   "outputs": [],
   "source": [
    "@tf.function\n",
    "def test_step(images, labels):\n",
    "###  \n",
    "##\n",
    "  print('test step')\n",
    "  #predictions = forward_model(images,input_illumination,aperture)\n",
    "  #predictions = forward_model_RGB(images)\n",
    "\n",
    "  predictions = forward_model_phase_mask(images)\n",
    "  #predictions = model(images)\n",
    "  t_loss = loss_object(labels, predictions)\n",
    "\n",
    "  test_loss(t_loss)\n",
    "  test_accuracy(labels, predictions)\n",
    "  print(test_accuracy.result())\n",
    "  #print(test_accuracy.result().eval())"
   ]
  },
  {
   "cell_type": "code",
   "execution_count": 0,
   "metadata": {
    "colab": {},
    "colab_type": "code",
    "id": "24C6PazOceUV"
   },
   "outputs": [],
   "source": []
  },
  {
   "cell_type": "markdown",
   "metadata": {
    "colab_type": "text",
    "id": "M0FbllXJ7qfs"
   },
   "source": [
    "# training!!!!!!! gogogo\n"
   ]
  },
  {
   "cell_type": "code",
   "execution_count": 0,
   "metadata": {
    "colab": {
     "base_uri": "https://localhost:8080/",
     "height": 1000
    },
    "colab_type": "code",
    "id": "6711K7Y2c1RG",
    "outputId": "639273fb-068a-4980-bd28-4595f15a9e36"
   },
   "outputs": [
    {
     "name": "stdout",
     "output_type": "stream",
     "text": [
      "bbb\n",
      "ccc\n",
      "aaa\n",
      "ccc\n",
      "ddd\n",
      "eee\n",
      "fff\n",
      "ddd\n",
      "ggg\n",
      "fff\n",
      "bbb\n",
      "ccc\n",
      "aaa\n",
      "ccc\n",
      "ddd\n",
      "eee\n",
      "fff\n",
      "ddd\n",
      "ggg\n",
      "fff\n",
      "Epoch 1, Total iteration 20, Train Loss: 2.0580685138702393, Train Accuracy: 15.3125\n",
      "Epoch 1, Total iteration 40, Train Loss: 1.8643805980682373, Train Accuracy: 23.4375\n",
      "Epoch 1, Total iteration 60, Train Loss: 1.721089482307434, Train Accuracy: 26.92708396911621\n",
      "Epoch 1, Total iteration 80, Train Loss: 1.664673089981079, Train Accuracy: 29.570310592651367\n",
      "Epoch 1, Total iteration 100, Train Loss: 1.6099064350128174, Train Accuracy: 30.71875\n",
      "bbb\n",
      "ccc\n",
      "aaa\n",
      "ccc\n",
      "ddd\n",
      "eee\n",
      "fff\n",
      "ddd\n",
      "ggg\n",
      "fff\n",
      "test step\n",
      "aaa\n",
      "ccc\n",
      "ddd\n",
      "eee\n",
      "fff\n",
      "Tensor(\"Identity_2:0\", shape=(), dtype=float32)\n",
      "Epoch 1, Total iteration 20, Test Loss: 1.1972310543060303, Test Accuracy: 37.03125\n",
      "test step\n",
      "aaa\n",
      "ccc\n",
      "ddd\n",
      "eee\n",
      "fff\n",
      "Tensor(\"Identity_2:0\", shape=(), dtype=float32)\n",
      "Epoch 1, Total iteration 40, Test Loss: 1.1954905986785889, Test Accuracy: 39.439998626708984\n",
      "Epoch 1, Loss: 1.5568947792053223, Accuracy: 32.34666442871094, Test Loss: 1.1954905986785889, Test Accuracy: 39.439998626708984\n",
      "Epoch 2, Total iteration 20, Train Loss: 1.2888325452804565, Train Accuracy: 42.34375\n",
      "Epoch 2, Total iteration 40, Train Loss: 1.2458611726760864, Train Accuracy: 42.265625\n",
      "Epoch 2, Total iteration 60, Train Loss: 1.2196574211120605, Train Accuracy: 42.447914123535156\n",
      "Epoch 2, Total iteration 80, Train Loss: 1.2097476720809937, Train Accuracy: 43.4375\n",
      "Epoch 2, Total iteration 100, Train Loss: 1.198957920074463, Train Accuracy: 43.90625\n",
      "Epoch 2, Total iteration 20, Test Loss: 1.118416428565979, Test Accuracy: 52.03125\n",
      "Epoch 2, Total iteration 40, Test Loss: 1.1145397424697876, Test Accuracy: 51.36000061035156\n",
      "Epoch 2, Loss: 1.1841635704040527, Accuracy: 44.186668395996094, Test Loss: 1.1145397424697876, Test Accuracy: 51.36000061035156\n",
      "Epoch 3, Total iteration 20, Train Loss: 1.1250190734863281, Train Accuracy: 45.625\n",
      "Epoch 3, Total iteration 40, Train Loss: 1.1353552341461182, Train Accuracy: 45.46875\n",
      "Epoch 3, Total iteration 60, Train Loss: 1.1254409551620483, Train Accuracy: 46.40625\n",
      "Epoch 3, Total iteration 80, Train Loss: 1.0973753929138184, Train Accuracy: 48.125\n",
      "Epoch 3, Total iteration 100, Train Loss: 1.1011332273483276, Train Accuracy: 47.6875\n",
      "Epoch 3, Total iteration 20, Test Loss: 1.0726045370101929, Test Accuracy: 46.71875\n",
      "Epoch 3, Total iteration 40, Test Loss: 1.0873481035232544, Test Accuracy: 47.44000244140625\n",
      "Epoch 3, Loss: 1.094401240348816, Accuracy: 47.46666717529297, Test Loss: 1.0873481035232544, Test Accuracy: 47.44000244140625\n",
      "Epoch 4, Total iteration 20, Train Loss: 1.0654325485229492, Train Accuracy: 46.09375\n",
      "Epoch 4, Total iteration 40, Train Loss: 1.0607669353485107, Train Accuracy: 48.203125\n",
      "Epoch 4, Total iteration 60, Train Loss: 1.0452663898468018, Train Accuracy: 50.36458206176758\n",
      "Epoch 4, Total iteration 80, Train Loss: 1.0378059148788452, Train Accuracy: 50.5078125\n",
      "Epoch 4, Total iteration 100, Train Loss: 1.0376430749893188, Train Accuracy: 50.5625\n",
      "Epoch 4, Total iteration 20, Test Loss: 1.0123851299285889, Test Accuracy: 54.375\n",
      "Epoch 4, Total iteration 40, Test Loss: 1.0266685485839844, Test Accuracy: 52.560001373291016\n",
      "Epoch 4, Loss: 1.0213861465454102, Accuracy: 51.33333206176758, Test Loss: 1.0266685485839844, Test Accuracy: 52.560001373291016\n",
      "Epoch 5, Total iteration 20, Train Loss: 1.0676969289779663, Train Accuracy: 48.90625\n",
      "Epoch 5, Total iteration 40, Train Loss: 1.0376231670379639, Train Accuracy: 49.296875\n",
      "Epoch 5, Total iteration 60, Train Loss: 1.0326722860336304, Train Accuracy: 50.156246185302734\n",
      "Epoch 5, Total iteration 80, Train Loss: 1.016202688217163, Train Accuracy: 51.132808685302734\n",
      "Epoch 5, Total iteration 100, Train Loss: 1.00360107421875, Train Accuracy: 51.75\n",
      "Epoch 5, Total iteration 20, Test Loss: 0.9823102951049805, Test Accuracy: 59.0625\n",
      "Epoch 5, Total iteration 40, Test Loss: 0.9895283579826355, Test Accuracy: 57.92000198364258\n",
      "Epoch 5, Loss: 0.9958478808403015, Accuracy: 52.186668395996094, Test Loss: 0.9895283579826355, Test Accuracy: 57.92000198364258\n",
      "Epoch 6, Total iteration 20, Train Loss: 0.938437283039093, Train Accuracy: 56.093753814697266\n",
      "Epoch 6, Total iteration 40, Train Loss: 0.9652243852615356, Train Accuracy: 56.796871185302734\n",
      "Epoch 6, Total iteration 60, Train Loss: 0.9638788104057312, Train Accuracy: 55.46875\n",
      "Epoch 6, Total iteration 80, Train Loss: 0.9639765024185181, Train Accuracy: 55.703128814697266\n",
      "Epoch 6, Total iteration 100, Train Loss: 0.9557886719703674, Train Accuracy: 56.0625\n",
      "Epoch 6, Total iteration 20, Test Loss: 1.2879902124404907, Test Accuracy: 45.78125\n",
      "Epoch 6, Total iteration 40, Test Loss: 1.2630794048309326, Test Accuracy: 45.52000045776367\n",
      "Epoch 6, Loss: 0.9496995210647583, Accuracy: 56.37333297729492, Test Loss: 1.2630794048309326, Test Accuracy: 45.52000045776367\n",
      "Epoch 7, Total iteration 20, Train Loss: 0.9781732559204102, Train Accuracy: 57.34375\n",
      "Epoch 7, Total iteration 40, Train Loss: 0.9385896921157837, Train Accuracy: 58.046878814697266\n",
      "Epoch 7, Total iteration 60, Train Loss: 0.9268856048583984, Train Accuracy: 57.39583206176758\n",
      "Epoch 7, Total iteration 80, Train Loss: 0.936259388923645, Train Accuracy: 56.8359375\n",
      "Epoch 7, Total iteration 100, Train Loss: 0.9358673095703125, Train Accuracy: 57.3125\n",
      "Epoch 7, Total iteration 20, Test Loss: 1.7216989994049072, Test Accuracy: 35.15625\n",
      "Epoch 7, Total iteration 40, Test Loss: 1.7097692489624023, Test Accuracy: 35.28000259399414\n",
      "Epoch 7, Loss: 0.9471226930618286, Accuracy: 56.480003356933594, Test Loss: 1.7097692489624023, Test Accuracy: 35.28000259399414\n",
      "Epoch 8, Total iteration 20, Train Loss: 1.0032809972763062, Train Accuracy: 55.78125\n",
      "Epoch 8, Total iteration 40, Train Loss: 0.9814318418502808, Train Accuracy: 56.171875\n",
      "Epoch 8, Total iteration 60, Train Loss: 0.9528769254684448, Train Accuracy: 56.041664123535156\n",
      "Epoch 8, Total iteration 80, Train Loss: 0.9326342344284058, Train Accuracy: 56.953125\n",
      "Epoch 8, Total iteration 100, Train Loss: 0.9170512557029724, Train Accuracy: 57.656253814697266\n",
      "Epoch 8, Total iteration 20, Test Loss: 0.9810270071029663, Test Accuracy: 57.656253814697266\n",
      "Epoch 8, Total iteration 40, Test Loss: 0.9888337254524231, Test Accuracy: 57.12000274658203\n",
      "Epoch 8, Loss: 0.9084437489509583, Accuracy: 58.47999954223633, Test Loss: 0.9888337254524231, Test Accuracy: 57.12000274658203\n",
      "Epoch 9, Total iteration 20, Train Loss: 0.7993481755256653, Train Accuracy: 62.343753814697266\n",
      "Epoch 9, Total iteration 40, Train Loss: 0.79933762550354, Train Accuracy: 64.0625\n",
      "Epoch 9, Total iteration 60, Train Loss: 0.8342825770378113, Train Accuracy: 62.86458206176758\n",
      "Epoch 9, Total iteration 80, Train Loss: 0.8522356748580933, Train Accuracy: 61.953128814697266\n",
      "Epoch 9, Total iteration 100, Train Loss: 0.8602575659751892, Train Accuracy: 62.0\n",
      "Epoch 9, Total iteration 20, Test Loss: 0.8630713224411011, Test Accuracy: 65.625\n",
      "Epoch 9, Total iteration 40, Test Loss: 0.8696504831314087, Test Accuracy: 63.279998779296875\n",
      "Epoch 9, Loss: 0.8626867532730103, Accuracy: 61.733333587646484, Test Loss: 0.8696504831314087, Test Accuracy: 63.279998779296875\n",
      "Epoch 10, Total iteration 20, Train Loss: 0.8012934923171997, Train Accuracy: 64.21875\n",
      "Epoch 10, Total iteration 40, Train Loss: 0.8085185885429382, Train Accuracy: 63.671875\n",
      "Epoch 10, Total iteration 60, Train Loss: 0.8189858794212341, Train Accuracy: 63.489585876464844\n",
      "Epoch 10, Total iteration 80, Train Loss: 0.8118795156478882, Train Accuracy: 63.984375\n"
     ]
    }
   ],
   "source": [
    "EPOCHS = 10\n",
    "train_acc_list = []\n",
    "test_acc_list = []\n",
    "train_loss_list = []\n",
    "test_loss_list = []\n",
    "\n",
    "\n",
    "for epoch in range(EPOCHS):\n",
    "  # Reset the metrics at the start of the next epoch\n",
    "  train_loss.reset_states()\n",
    "  train_accuracy.reset_states()\n",
    "  test_loss.reset_states()\n",
    "  test_accuracy.reset_states()\n",
    "  i = 0\n",
    "  for images, labels in train_ds:\n",
    "    i = i+1 # total 1875 batches for training data\n",
    "    #print('i',i)\n",
    "    images = images.numpy()\n",
    "    labels = labels.numpy()\n",
    "    #images = tf.cast(images, tf.float32)\n",
    "    #print(images)\n",
    "    train_step(images, labels)\n",
    "    if i%20 == 0:\n",
    "      template_train = 'Epoch {}, Total iteration {}, Train Loss: {}, Train Accuracy: {}'\n",
    "      print(template_train.format(epoch+1, i, train_loss.result(), train_accuracy.result()*100))\n",
    "      ## monitor the illuminace phase and aperture phase\n",
    "  t = 0\n",
    "  for test_images, test_labels in test_ds:\n",
    "    t = t + 1 \n",
    "    #print('t',t)\n",
    "    test_step(test_images, test_labels)\n",
    "    if t%20 == 0:\n",
    "      template_test = 'Epoch {}, Total iteration {}, Test Loss: {}, Test Accuracy: {}'\n",
    "      print(template_test.format(epoch+1, t, test_loss.result(), test_accuracy.result()*100))\n",
    "  template = 'Epoch {}, Loss: {}, Accuracy: {}, Test Loss: {}, Test Accuracy: {}'\n",
    "  print(template.format(epoch+1,\n",
    "                        train_loss.result(),\n",
    "                        train_accuracy.result()*100,\n",
    "                        test_loss.result(),\n",
    "                        test_accuracy.result()*100))\n",
    "  test_acc_list.append(test_accuracy.result()*100)\n",
    "  train_acc_list.append(train_accuracy.result()*100)\n",
    "  test_loss_list.append(test_loss.result())\n",
    "  train_loss_list.append(train_loss.result())\n",
    "\n",
    "train_loss_arr = np.array(train_loss_list)\n",
    "test_loss_arr = np.array(test_loss_list)\n",
    "print('train_loss_arr',train_loss_arr)\n",
    "print('test_loss_arr',test_loss_arr)\n",
    "\n",
    "train_acc_arr = np.array(train_acc_list)\n",
    "test_acc_arr = np.array(test_acc_list)\n",
    "print('train_acc_arr',train_acc_arr)\n",
    "print('test_acc_arr',test_acc_arr)"
   ]
  },
  {
   "cell_type": "code",
   "execution_count": 6,
   "metadata": {
    "colab": {},
    "colab_type": "code",
    "id": "qwTg9gH2c1O_"
   },
   "outputs": [
    {
     "data": {
      "image/png": "[encoded data removed]",
      "text/plain": [
       "<Figure size 432x288 with 1 Axes>"
      ]
     },
     "metadata": {
      "needs_background": "light"
     },
     "output_type": "display_data"
    }
   ],
   "source": [
    "plt.plot(train_acc_arr)\n",
    "plt.plot(test_acc_arr)\n",
    "plt.title('model accuracy')\n",
    "plt.ylabel('accuracy')\n",
    "plt.xlabel('epoch')\n",
    "plt.legend(['training', 'validation'], loc='upper left')\n",
    "plt.show()"
   ]
  }
 ],
 "metadata": {
  "colab": {
   "collapsed_sections": [],
   "name": "colorectal_real_value0_1_mask_correct.ipynb",
   "provenance": []
  },
  "kernelspec": {
   "display_name": "Python 3",
   "language": "python",
   "name": "python3"
  },
  "language_info": {
   "codemirror_mode": {
    "name": "ipython",
    "version": 3
   },
   "file_extension": ".py",
   "mimetype": "text/x-python",
   "name": "python",
   "nbconvert_exporter": "python",
   "pygments_lexer": "ipython3",
   "version": "3.7.6"
  }
 },
 "nbformat": 4,
 "nbformat_minor": 1
}
