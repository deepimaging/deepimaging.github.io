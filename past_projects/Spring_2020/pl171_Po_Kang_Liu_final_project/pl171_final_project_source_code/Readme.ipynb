{
 "cells": [
  {
   "attachments": {},
   "cell_type": "markdown",
   "metadata": {},
   "source": [
    "# Code Description\n",
    "\n",
    "### read_large_image_OK: read the orignial image file (.tif) and covert it into .npy file.\n",
    "\n",
    "### crop_large_img_OK.ipynb: read the 10 5000 x 5000 large image .npy file, and apply sliding window to crop it to 150 x 150 small images, save it into .npy file\n",
    "\n",
    "### done_RGB_color_filter_OK: experiment of a RGB color filter mask \n",
    "\n",
    "### done_real_value_0_1_OK: experiment of a real value mask \n",
    "\n",
    "### done_unconstriant_phase_mask_OK: experiment of a phase mask without constraint weight magnitude \n",
    "\n",
    "### done_constriant1_phase_mask_OK: experiment of a phase mask with constraint weight magnitude = 1\n",
    "\n",
    "### done_10_segmentation:  Image segmentation of the 10 large image base on my best setting (unconstraint phase mask + alexnet), the segmentation result is in the end of the notebook, just scroll down to the end and see it\n",
    "\n",
    "### done_confusionmatrix_OK: Draw the confusion matrix base on my best setting (unconstraint phase mask + alexnet), the confusion matrix result is in the end of the notebook, just scroll down to the end to see \n",
    "\n"
   ]
  }
 ],
 "metadata": {
  "kernelspec": {
   "display_name": "Python 3",
   "language": "python",
   "name": "python3"
  },
  "language_info": {
   "codemirror_mode": {
    "name": "ipython",
    "version": 3
   },
   "file_extension": ".py",
   "mimetype": "text/x-python",
   "name": "python",
   "nbconvert_exporter": "python",
   "pygments_lexer": "ipython3",
   "version": "3.7.6"
  }
 },
 "nbformat": 4,
 "nbformat_minor": 2
}