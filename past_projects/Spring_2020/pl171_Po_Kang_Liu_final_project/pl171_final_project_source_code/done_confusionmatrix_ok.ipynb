{
 "cells": [
  {
   "cell_type": "code",
   "execution_count": 52,
   "metadata": {
    "colab": {
     "base_uri": "https://localhost:8080/",
     "height": 1000
    },
    "colab_type": "code",
    "id": "fUqilK06EbsF",
    "outputId": "29c3b1f2-fa14-4dd8-af61-818525176c7f"
   },
   "outputs": [
    {
     "name": "stdout",
     "output_type": "stream",
     "text": [
      "Requirement already satisfied: tensorflow==2.0 in c:\\users\\user\\anaconda3\\envs\\tf\\lib\\site-packages (2.0.0)\n",
      "Requirement already satisfied: keras-applications>=1.0.8 in c:\\users\\user\\anaconda3\\envs\\tf\\lib\\site-packages (from tensorflow==2.0) (1.0.8)\n",
      "Requirement already satisfied: wheel>=0.26 in c:\\users\\user\\anaconda3\\envs\\tf\\lib\\site-packages (from tensorflow==2.0) (0.33.6)\n",
      "Requirement already satisfied: six>=1.10.0 in c:\\users\\user\\anaconda3\\envs\\tf\\lib\\site-packages (from tensorflow==2.0) (1.13.0)\n",
      "Requirement already satisfied: termcolor>=1.1.0 in c:\\users\\user\\anaconda3\\envs\\tf\\lib\\site-packages (from tensorflow==2.0) (1.1.0)\n",
      "Requirement already satisfied: opt-einsum>=2.3.2 in c:\\users\\user\\anaconda3\\envs\\tf\\lib\\site-packages (from tensorflow==2.0) (3.1.0)\n",
      "Requirement already satisfied: protobuf>=3.6.1 in c:\\users\\user\\anaconda3\\envs\\tf\\lib\\site-packages (from tensorflow==2.0) (3.11.2)\n",
      "Requirement already satisfied: tensorflow-estimator<2.1.0,>=2.0.0 in c:\\users\\user\\anaconda3\\envs\\tf\\lib\\site-packages (from tensorflow==2.0) (2.0.0)\n",
      "Requirement already satisfied: grpcio>=1.8.6 in c:\\users\\user\\anaconda3\\envs\\tf\\lib\\site-packages (from tensorflow==2.0) (1.16.1)\n",
      "Requirement already satisfied: tensorboard<2.1.0,>=2.0.0 in c:\\users\\user\\anaconda3\\envs\\tf\\lib\\site-packages (from tensorflow==2.0) (2.0.0)\n",
      "Requirement already satisfied: google-pasta>=0.1.6 in c:\\users\\user\\anaconda3\\envs\\tf\\lib\\site-packages (from tensorflow==2.0) (0.1.8)\n",
      "Requirement already satisfied: numpy<2.0,>=1.16.0 in c:\\users\\user\\anaconda3\\envs\\tf\\lib\\site-packages (from tensorflow==2.0) (1.18.1)\n",
      "Requirement already satisfied: wrapt>=1.11.1 in c:\\users\\user\\anaconda3\\envs\\tf\\lib\\site-packages (from tensorflow==2.0) (1.11.2)\n",
      "Requirement already satisfied: gast==0.2.2 in c:\\users\\user\\anaconda3\\envs\\tf\\lib\\site-packages (from tensorflow==2.0) (0.2.2)\n",
      "Requirement already satisfied: astor>=0.6.0 in c:\\users\\user\\anaconda3\\envs\\tf\\lib\\site-packages (from tensorflow==2.0) (0.8.0)\n",
      "Requirement already satisfied: keras-preprocessing>=1.0.5 in c:\\users\\user\\anaconda3\\envs\\tf\\lib\\site-packages (from tensorflow==2.0) (1.1.0)\n",
      "Requirement already satisfied: absl-py>=0.7.0 in c:\\users\\user\\anaconda3\\envs\\tf\\lib\\site-packages (from tensorflow==2.0) (0.8.1)\n",
      "Requirement already satisfied: h5py in c:\\users\\user\\anaconda3\\envs\\tf\\lib\\site-packages (from keras-applications>=1.0.8->tensorflow==2.0) (2.9.0)\n",
      "Requirement already satisfied: setuptools in c:\\users\\user\\anaconda3\\envs\\tf\\lib\\site-packages (from protobuf>=3.6.1->tensorflow==2.0) (44.0.0.post20200106)\n",
      "Requirement already satisfied: markdown>=2.6.8 in c:\\users\\user\\anaconda3\\envs\\tf\\lib\\site-packages (from tensorboard<2.1.0,>=2.0.0->tensorflow==2.0) (3.1.1)\n",
      "Requirement already satisfied: werkzeug>=0.11.15 in c:\\users\\user\\anaconda3\\envs\\tf\\lib\\site-packages (from tensorboard<2.1.0,>=2.0.0->tensorflow==2.0) (0.16.0)\n",
      "Note: you may need to restart the kernel to use updated packages.\n"
     ]
    }
   ],
   "source": [
    "pip install tensorflow==2.0\n"
   ]
  },
  {
   "cell_type": "code",
   "execution_count": 53,
   "metadata": {
    "colab": {},
    "colab_type": "code",
    "id": "DtYJ1agDZ0OF"
   },
   "outputs": [],
   "source": [
    "# if running in colab, this block chooses tf 2.0:\n",
    "try:\n",
    "  # %tensorflow_version only exists in Colab.\n",
    "  %tensorflow_version 2.x\n",
    "except Exception:\n",
    "  pass"
   ]
  },
  {
   "cell_type": "code",
   "execution_count": 54,
   "metadata": {
    "_cell_guid": "b1076dfc-b9ad-4769-8c92-a6c4dae69d19",
    "_uuid": "8f2839f25d086af736a60e9eeb907d3b93b6e0e5",
    "colab": {},
    "colab_type": "code",
    "id": "icWc4wm6AG53",
    "scrolled": true
   },
   "outputs": [],
   "source": [
    "# https://www.pyimagesearch.com/2017/NUM_CLASSES/11/image-classification-with-keras-and-deep-learning/\n",
    "# https://machinelearningmastery.com/grid-search-hyperparameters-deep-learning-models-python-keras/\n",
    "# https://machinelearningmastery.com/save-load-keras-deep-learning-models/\n",
    "#https://www.learnopencv.com/image-classification-using-convolutional-neural-networks-in-keras/\n",
    "\n",
    "import numpy as np # linear algebra\n",
    "import pandas as pd # data processing, CSV file I/O (e.g. pd.read_csv)\n",
    "import os\n",
    "import random\n",
    "import sys\n",
    "#import cv2\n",
    "import matplotlib\n",
    "from subprocess import check_output\n",
    "import tensorflow as tf\n",
    "import matplotlib.pyplot as plt\n",
    "import math as m\n",
    "\n",
    "from keras.models import Sequential\n",
    "from keras.layers import Dense, Conv2D, MaxPooling2D, Dropout, Flatten\n",
    "from keras.preprocessing.image import ImageDataGenerator, array_to_img, img_to_array, load_img\n",
    "from keras.optimizers import Adam\n",
    "from sklearn.model_selection import train_test_split\n",
    "from keras.utils import to_categorical\n",
    "\n"
   ]
  },
  {
   "cell_type": "code",
   "execution_count": 55,
   "metadata": {
    "colab": {
     "base_uri": "https://localhost:8080/",
     "height": 35
    },
    "colab_type": "code",
    "id": "XkPEyvJkJxmp",
    "outputId": "0c0202cc-8f61-4260-ec9b-a4535c52f698"
   },
   "outputs": [
    {
     "data": {
      "text/plain": [
       "'2.0.0'"
      ]
     },
     "execution_count": 55,
     "metadata": {},
     "output_type": "execute_result"
    }
   ],
   "source": [
    "tf.__version__"
   ]
  },
  {
   "cell_type": "code",
   "execution_count": 56,
   "metadata": {
    "colab": {
     "base_uri": "https://localhost:8080/",
     "height": 35
    },
    "colab_type": "code",
    "id": "ZIfL_KXNH1zj",
    "outputId": "7ed4c3fb-886b-437b-aad4-3814bc9df968"
   },
   "outputs": [
    {
     "data": {
      "text/plain": [
       "\"\\nimport sys\\n\\nsys.path.append('/content/drive/My Drive/Colab Notebooks/machine learning in imaging/final project')\\n\""
      ]
     },
     "execution_count": 56,
     "metadata": {},
     "output_type": "execute_result"
    }
   ],
   "source": [
    "'''\n",
    "import sys\n",
    "\n",
    "sys.path.append('/content/drive/My Drive/Colab Notebooks/machine learning in imaging/final project')\n",
    "'''"
   ]
  },
  {
   "cell_type": "code",
   "execution_count": null,
   "metadata": {
    "colab": {},
    "colab_type": "code",
    "id": "doW8GNuSuZ2D"
   },
   "outputs": [],
   "source": []
  },
  {
   "cell_type": "markdown",
   "metadata": {
    "colab_type": "text",
    "id": "KlVJFMocug9x"
   },
   "source": [
    "## uncomment it if we want to redownload the data"
   ]
  },
  {
   "cell_type": "code",
   "execution_count": 57,
   "metadata": {
    "colab": {
     "base_uri": "https://localhost:8080/",
     "height": 55
    },
    "colab_type": "code",
    "id": "_jKY0S-QAVkT",
    "outputId": "724b67f3-a05b-4b3e-c731-3e8eada1696f"
   },
   "outputs": [
    {
     "data": {
      "text/plain": [
       "'\\nimport tensorflow_datasets as tfds\\n#dataset = tfds.image.mnist\\n# https://www.tensorflow.org/datasets/api_docs/python/tfds/core/DatasetBuilder\\n\\nmalaria_builder = tfds.builder(\"colorectal_histology\")\\nmalaria_info = malaria_builder.info\\nmalaria_builder.download_and_prepare()\\ndatasets = malaria_builder.as_dataset()\\ndatasets\\n'"
      ]
     },
     "execution_count": 57,
     "metadata": {},
     "output_type": "execute_result"
    }
   ],
   "source": [
    "'''\n",
    "import tensorflow_datasets as tfds\n",
    "#dataset = tfds.image.mnist\n",
    "# https://www.tensorflow.org/datasets/api_docs/python/tfds/core/DatasetBuilder\n",
    "\n",
    "malaria_builder = tfds.builder(\"colorectal_histology\")\n",
    "malaria_info = malaria_builder.info\n",
    "malaria_builder.download_and_prepare()\n",
    "datasets = malaria_builder.as_dataset()\n",
    "datasets\n",
    "'''"
   ]
  },
  {
   "cell_type": "code",
   "execution_count": 62,
   "metadata": {
    "colab": {},
    "colab_type": "code",
    "id": "oPJ1TkRDl8Oz"
   },
   "outputs": [],
   "source": [
    "from numpy import load\n",
    "\n",
    "image_array = load('image_array_colorectal2.npy')\n"
   ]
  },
  {
   "cell_type": "code",
   "execution_count": 63,
   "metadata": {
    "colab": {
     "base_uri": "https://localhost:8080/",
     "height": 35
    },
    "colab_type": "code",
    "id": "p-UUhP9t4yey",
    "outputId": "1939e464-23e6-4437-9e32-8ddbe8b0b3bd"
   },
   "outputs": [
    {
     "data": {
      "text/plain": [
       "(5000, 150, 150, 3)"
      ]
     },
     "execution_count": 63,
     "metadata": {},
     "output_type": "execute_result"
    }
   ],
   "source": [
    "from numpy import load\n",
    "#image_array = load('/content/drive/My Drive/Colab Notebooks/machine learning in imaging/final project/image_array_colorectal.npy')\n",
    "label_array = load('label_array_colorectal2.npy')\n",
    "image_array = image_array/255\n",
    "# print the array\n",
    "image_array.shape"
   ]
  },
  {
   "cell_type": "code",
   "execution_count": 64,
   "metadata": {
    "colab": {
     "base_uri": "https://localhost:8080/",
     "height": 888
    },
    "colab_type": "code",
    "id": "qtefGG36vmMT",
    "outputId": "778982f2-09fe-4e53-da42-562100b2e7a2"
   },
   "outputs": [
    {
     "data": {
      "text/plain": [
       "array([[[0.41568627, 0.18431373, 0.34117647],\n",
       "        [0.50196078, 0.27058824, 0.42745098],\n",
       "        [0.52941176, 0.28235294, 0.44705882],\n",
       "        ...,\n",
       "        [0.63137255, 0.34901961, 0.54509804],\n",
       "        [0.52941176, 0.31764706, 0.51372549],\n",
       "        [0.4745098 , 0.2627451 , 0.45882353]],\n",
       "\n",
       "       [[0.35686275, 0.1372549 , 0.3254902 ],\n",
       "        [0.45098039, 0.23137255, 0.41960784],\n",
       "        [0.49411765, 0.24705882, 0.44705882],\n",
       "        ...,\n",
       "        [0.6       , 0.36470588, 0.55294118],\n",
       "        [0.56078431, 0.3372549 , 0.5372549 ],\n",
       "        [0.51764706, 0.29411765, 0.49411765]],\n",
       "\n",
       "       [[0.27058824, 0.11764706, 0.27843137],\n",
       "        [0.34117647, 0.18823529, 0.34901961],\n",
       "        [0.46666667, 0.20392157, 0.40392157],\n",
       "        ...,\n",
       "        [0.57254902, 0.34509804, 0.54509804],\n",
       "        [0.59607843, 0.37254902, 0.58039216],\n",
       "        [0.55686275, 0.33333333, 0.54117647]],\n",
       "\n",
       "       ...,\n",
       "\n",
       "       [[0.90196078, 0.90980392, 0.89803922],\n",
       "        [0.92156863, 0.92941176, 0.91764706],\n",
       "        [0.92941176, 0.90588235, 0.94509804],\n",
       "        ...,\n",
       "        [0.81176471, 0.71764706, 0.81176471],\n",
       "        [0.77647059, 0.67058824, 0.8       ],\n",
       "        [0.69019608, 0.58431373, 0.71372549]],\n",
       "\n",
       "       [[0.90588235, 0.90588235, 0.90588235],\n",
       "        [0.92941176, 0.92941176, 0.92941176],\n",
       "        [0.93333333, 0.91372549, 0.9372549 ],\n",
       "        ...,\n",
       "        [0.83137255, 0.72941176, 0.83529412],\n",
       "        [0.78823529, 0.68235294, 0.80392157],\n",
       "        [0.69803922, 0.59215686, 0.71372549]],\n",
       "\n",
       "       [[0.91764706, 0.90980392, 0.92941176],\n",
       "        [0.92941176, 0.92156863, 0.94117647],\n",
       "        [0.93333333, 0.91372549, 0.92941176],\n",
       "        ...,\n",
       "        [0.8627451 , 0.75294118, 0.85098039],\n",
       "        [0.80784314, 0.69411765, 0.81176471],\n",
       "        [0.72156863, 0.60784314, 0.7254902 ]]])"
      ]
     },
     "execution_count": 64,
     "metadata": {},
     "output_type": "execute_result"
    }
   ],
   "source": [
    "image_array[1]"
   ]
  },
  {
   "cell_type": "code",
   "execution_count": 65,
   "metadata": {
    "colab": {
     "base_uri": "https://localhost:8080/",
     "height": 52
    },
    "colab_type": "code",
    "id": "L1Gb6hbZjNXw",
    "outputId": "91cda9a7-55e9-4e4c-8e3d-8406232af611"
   },
   "outputs": [
    {
     "name": "stdout",
     "output_type": "stream",
     "text": [
      "(5000,)\n",
      "(5000, 150, 150, 3)\n"
     ]
    }
   ],
   "source": [
    "print(label_array.shape)\n",
    "print(image_array.shape)"
   ]
  },
  {
   "cell_type": "code",
   "execution_count": 66,
   "metadata": {
    "colab": {},
    "colab_type": "code",
    "id": "bkdXXcLrc9fq"
   },
   "outputs": [],
   "source": [
    "x_train, x_test, y_train, y_test = train_test_split( image_array, label_array, test_size=0.25, random_state=42)"
   ]
  },
  {
   "cell_type": "code",
   "execution_count": 69,
   "metadata": {
    "colab": {
     "base_uri": "https://localhost:8080/",
     "height": 52
    },
    "colab_type": "code",
    "id": "QD6lfzXOg_Zm",
    "outputId": "ab14372d-92f2-47ee-85f1-cc13a292d96d"
   },
   "outputs": [
    {
     "name": "stdout",
     "output_type": "stream",
     "text": [
      "(3750, 150, 150, 3) (3750,)\n",
      "(1250, 150, 150, 3) (1250,)\n"
     ]
    }
   ],
   "source": [
    "print(x_train.shape, y_train.shape)\n",
    "print(x_test.shape, y_test.shape)"
   ]
  },
  {
   "cell_type": "code",
   "execution_count": 70,
   "metadata": {
    "colab": {},
    "colab_type": "code",
    "id": "ca6-dUyyc9GZ"
   },
   "outputs": [],
   "source": [
    "train_ds = tf.data.Dataset.from_tensor_slices((x_train, y_train)).shuffle(10000).batch(32)\n",
    "test_ds = tf.data.Dataset.from_tensor_slices((x_test, y_test)).batch(32)"
   ]
  },
  {
   "cell_type": "markdown",
   "metadata": {
    "colab_type": "text",
    "id": "awV2fwrTwlSM"
   },
   "source": [
    "# some parameters"
   ]
  },
  {
   "cell_type": "code",
   "execution_count": 75,
   "metadata": {
    "colab": {},
    "colab_type": "code",
    "id": "mkCoyotPwled"
   },
   "outputs": [],
   "source": [
    "wavelength_ = .5e-3          # units are mm\n",
    "optical_thickness_ = 20 * wavelength_\n",
    "\n",
    "wavelength = tf.constant(wavelength_, dtype=tf.complex64)\n",
    "optical_thickness = tf.constant(optical_thickness_, dtype=tf.complex64)"
   ]
  },
  {
   "cell_type": "markdown",
   "metadata": {
    "colab_type": "text",
    "id": "2HVlpZIWrxFO"
   },
   "source": [
    "# RGB color filter"
   ]
  },
  {
   "cell_type": "code",
   "execution_count": 77,
   "metadata": {
    "colab": {},
    "colab_type": "code",
    "id": "ZLnA3hs-r1bs"
   },
   "outputs": [],
   "source": [
    "color_filter_tmp = np.ones([3,150,150])\n",
    "color_filter_ = tf.Variable(color_filter_tmp,dtype=tf.float32,trainable=True,name='color_filter_')\n",
    "#color_filter_ = tf.expand_dims(color_filter_, 0) # add extra axis for batch size\n"
   ]
  },
  {
   "cell_type": "markdown",
   "metadata": {
    "colab_type": "text",
    "id": "gWcFKxV9o84V"
   },
   "source": [
    "## Aperture"
   ]
  },
  {
   "cell_type": "code",
   "execution_count": 78,
   "metadata": {
    "colab": {},
    "colab_type": "code",
    "id": "uxM5VqZbpzLN"
   },
   "outputs": [],
   "source": [
    "\n",
    "num_samples = 150\n",
    "fxmax= 75\n",
    "fx = np.linspace(-fxmax, fxmax,num_samples)\n",
    "fy = fx\n",
    "[fxx,fyy] = np.meshgrid(fx, fy)\n",
    "# Take 2D fourier transform of sample\n"
   ]
  },
  {
   "cell_type": "code",
   "execution_count": 79,
   "metadata": {
    "colab": {
     "base_uri": "https://localhost:8080/",
     "height": 283
    },
    "colab_type": "code",
    "id": "WbMc4pAqqMwz",
    "outputId": "33c129c3-89da-463d-eea5-977c3dc0e527"
   },
   "outputs": [
    {
     "data": {
      "image/png": "[encoded data removed]",
      "text/plain": [
       "<Figure size 432x288 with 1 Axes>"
      ]
     },
     "metadata": {
      "needs_background": "light"
     },
     "output_type": "display_data"
    }
   ],
   "source": [
    "na = .25 * fxmax\n",
    "lens_transfer_functiontmp = (np.sqrt(fxx**2+fyy**2))<na\n",
    "\n",
    "\n",
    "plt.imshow(lens_transfer_functiontmp)\n",
    "plt.xlabel('spatial frequency (1/mm)')\n",
    "plt.ylabel('spatial frequency (1/mm)')\n",
    "plt.show()\n",
    "\n",
    "lens_transfer_function = tf.Variable(lens_transfer_functiontmp,dtype=tf.float32)\n",
    "\n",
    "lens_transfer_function = tf.cast(lens_transfer_function,tf.complex64)\n"
   ]
  },
  {
   "cell_type": "code",
   "execution_count": 80,
   "metadata": {
    "colab": {},
    "colab_type": "code",
    "id": "apBHeYHS-0RC"
   },
   "outputs": [],
   "source": [
    "#aperture_phase = tf.Variable(tf.ones([150,150]),dtype=tf.float32,trainable=True,name='aperture_phase')\n",
    "aperture_phase = tf.Variable(initial_value = tf.initializers.GlorotNormal()(shape=(150,150)),dtype=tf.float32,trainable=True,name='aperture_phase')\n"
   ]
  },
  {
   "cell_type": "markdown",
   "metadata": {
    "colab_type": "text",
    "id": "4S6ERk1ipsZn"
   },
   "source": [
    "# physical layer RGB"
   ]
  },
  {
   "cell_type": "code",
   "execution_count": 87,
   "metadata": {
    "colab": {},
    "colab_type": "code",
    "id": "6n_oT63WxQ22"
   },
   "outputs": [],
   "source": [
    "#from PIL import Image\n",
    "def physical_layer_RGB(x_batch):\n",
    "  print('123123123')\n",
    "  print('x_batch shape', x_batch.shape)\n",
    "\n",
    "  sample = tf.cast(x_batch, tf.complex64)\n",
    "  print('1111')\n",
    "\n",
    "  print('2222')\n",
    "\n",
    "  #### OPTICS #####\n",
    "\n",
    "  sample = tf.transpose(sample, perm=[0,3,1,2])\n",
    "\n",
    "  print('channel G sample 1')\n",
    "  \n",
    "  #tfplot.plot(plt.imshow,sample[1,1,:,:])\n",
    "  ##ax.imshow(sample[1,1,:,:])  \n",
    "  #tfplot.show()\n",
    "  \n",
    "  \n",
    "  #plot_imshow(tf.cast((sample[1,1,:,:]),tf.float32))\n",
    "  print('channel G sample 1 original')\n",
    "\n",
    "  #plt.imshow(tf.cast((sample[1,1,:,:]),tf.float32))\n",
    "  #plt.show()\n",
    "\n",
    "  #FT_sample = tf.Variable(sample,dtype=tf.complex64,trainable=False)\n",
    "  FT_sample = tf.signal.fft2d(sample)\n",
    "  FT_sample_shift = tf.signal.fftshift(FT_sample,axes=(2,3))\n",
    "\n",
    "  print('after color filter')\n",
    "  color_filter_2 = tf.cast(color_filter_, tf.complex64)\n",
    "\n",
    "  filtered_FT_sample  =tf.multiply(color_filter_2,FT_sample_shift) \n",
    "  #plt.imshow(tf.cast(filtered_FT_sample[1,1,:,:],tf.float32))\n",
    "  #plt.show()\n",
    "  \n",
    "  aperture_phase2 = tf.cast(aperture_phase, tf.complex64)\n",
    "  aperture = lens_transfer_function * tf.exp(1j * 2* m.pi* aperture_phase2)\n",
    "  filtered_FT_sample  =tf.multiply(aperture,filtered_FT_sample) \n",
    "\n",
    "  print('after transfer function ')\n",
    "  filtered_FT_sample  =tf.multiply(lens_transfer_function,filtered_FT_sample) \n",
    "  #plt.imshow(tf.cast(filtered_FT_sample[1,1,:,:],tf.float32))\n",
    "  #plt.show()\n",
    "\n",
    "\n",
    "  print('after ifft2d ')\n",
    "  image = tf.signal.ifft2d(filtered_FT_sample)\n",
    "  #plt.imshow(abs(image[1,1,:,:]))\n",
    "  #plt.show()\n",
    "\n",
    "\n",
    "  print('after repermutation :tf.transpose(image, perm=[0,2,3,1]) ')\n",
    "  image = tf.transpose(image, perm=[0,2,3,1])\n",
    "  #plt.imshow(abs(image[1,:,:,1]))\n",
    "  #plt.show()\n",
    "\n",
    "  image = tf.square(tf.abs(image)) #convert it to intensity\n",
    "  #image = tf.square(((image) * tf.math.conj(image))) #convert it to intensity\n",
    "  image = tf.cast(image, tf.float32)\n",
    "  print('image shape after physical layer',image.shape)\n",
    "\n",
    "  return image"
   ]
  },
  {
   "cell_type": "markdown",
   "metadata": {
    "colab_type": "text",
    "id": "sU4RO4rn91v-"
   },
   "source": [
    "# physical layer phase mask"
   ]
  },
  {
   "cell_type": "code",
   "execution_count": 88,
   "metadata": {
    "colab": {},
    "colab_type": "code",
    "id": "kL4mk9ATmy5v"
   },
   "outputs": [],
   "source": [
    "def physical_layer_phase_mask(x_batch):\n",
    "  \n",
    "  x_batch = tf.cast(x_batch, tf.complex64)\n",
    "\n",
    "  sample = x_batch\n",
    "\n",
    "\n",
    "#### OPTICS #####\n",
    "  sample = tf.transpose(sample, perm=[0,3,1,2])\n",
    "\n",
    "  FT_sample  = tf.signal.fft2d(sample )\n",
    "  FT_sample_shift = tf.signal.fftshift(FT_sample,axes=(2,3))\n",
    "\n",
    "  #aperture_phase = tf.clip_by_value(aperture_phase, clip_value_min=0, clip_value_max=1) # [[1, 3, 3],[3, 3, 3]]\n",
    "\n",
    "  aperture_phase2 = tf.cast(aperture_phase, tf.complex64)\n",
    "\n",
    "  aperture = lens_transfer_function * tf.exp(1j * 2* m.pi* aperture_phase2)\n",
    "  filtered_FT_sample  =tf.multiply(aperture, FT_sample_shift) \n",
    "\n",
    "  \n",
    "\n",
    "\n",
    "#### IFFT  and form the image!!! #################\n",
    "  image = tf.signal.ifft2d(filtered_FT_sample)\n",
    "  image = tf.transpose(image, perm=[0,2,3,1])\n",
    "\n",
    "  image = tf.square(tf.abs(image)) #convert it to intensity\n",
    "\n",
    "  #image = tf.square(((image) * tf.math.conj(image))) #convert it to intensity\n",
    "  image = tf.cast(image, tf.float32)\n",
    "  \n",
    "\n",
    "  return image"
   ]
  },
  {
   "cell_type": "markdown",
   "metadata": {
    "colab_type": "text",
    "id": "qpe_ccskpn2N"
   },
   "source": [
    "# alexnet"
   ]
  },
  {
   "cell_type": "code",
   "execution_count": 89,
   "metadata": {
    "colab": {},
    "colab_type": "code",
    "id": "8SF9jEaIzmI8"
   },
   "outputs": [],
   "source": [
    "# https://www.google.com/search?q=alexnet&sxsrf=ALeKk03nxwjPnSPq77l41iACT4nuWtF0nw:1584470777490&source=lnms&tbm=isch&sa=X&ved=2ahUKEwiGl-XOlaLoAhXtT98KHVwTCIIQ_AUoAXoECA0QAw&biw=1280&bih=529#imgrc=j8y8gy88lYqI-M\n",
    "#https://github.com/henrypowell87/AlexNet_TF2.0/blob/master/main.py\n",
    "\n",
    "\n",
    "class Alexnet(tf.keras.Model):\n",
    "  def __init__(self):\n",
    "    super(Alexnet, self).__init__()\n",
    "    self.conv_1 =    tf.keras.layers.Conv2D(filters=96, kernel_size=11, strides=4, padding='same', activation='relu')\n",
    "    self.pool_1 =    tf.keras.layers.MaxPooling2D(pool_size=(2, 2), strides=(2, 2),padding=\"valid\")\n",
    "    self.norm_1 =    tf.keras.layers.BatchNormalization()\n",
    "    \n",
    "    self.conv_2 =    tf.keras.layers.Conv2D(filters=256, kernel_size=5, strides=1, padding='same', activation='relu')\n",
    "    self.pool_2 =    tf.keras.layers.MaxPooling2D(pool_size=(2, 2), strides=(2, 2),padding=\"valid\")\n",
    "    self.norm_2 =    tf.keras.layers.BatchNormalization()\n",
    "\n",
    "    self.conv_3 =    tf.keras.layers.Conv2D(filters=384, kernel_size=3, strides=1, padding='valid', activation='relu')\n",
    "    self.norm_3 =    tf.keras.layers.BatchNormalization()\n",
    "\n",
    "    self.conv_4 =    tf.keras.layers.Conv2D(filters=384, kernel_size=3, strides=1, padding='valid', activation='relu')\n",
    "    self.norm_4 =    tf.keras.layers.BatchNormalization()\n",
    "\n",
    "\n",
    "    self.conv_5 =    tf.keras.layers.Conv2D(filters=256, kernel_size=3, strides=1, padding='same', activation='relu')\n",
    "    self.pool_5 =    tf.keras.layers.MaxPooling2D(pool_size=(2, 2), strides=(2, 2),padding=\"valid\")\n",
    "    self.norm_5 =    tf.keras.layers.BatchNormalization()\n",
    "\n",
    "\n",
    "\n",
    "\n",
    "    #self.block_5 =    tf.keras.layers.Conv2D(filters=64, kernel_size=3, strides=2, padding='same', activation='relu')\n",
    "    self.flat = tf.keras.layers.Flatten()\n",
    "\n",
    "    self.dense_6 = tf.keras.layers.Dense(units=4096, activation='relu')\n",
    "    self.drop_6 = tf.keras.layers.Dropout(rate=0.4)\n",
    "    self.norm_6 =    tf.keras.layers.BatchNormalization()\n",
    "\n",
    "    self.dense_7 = tf.keras.layers.Dense(units=4096, activation='relu')\n",
    "    self.drop_7 = tf.keras.layers.Dropout(rate=0.4)\n",
    "    self.norm_7 =    tf.keras.layers.BatchNormalization()\n",
    "\n",
    "    self.dense_8 = tf.keras.layers.Dense(units=1000, activation='relu')\n",
    "    self.drop_8 = tf.keras.layers.Dropout(rate=0.4)\n",
    "    self.norm_8 =    tf.keras.layers.BatchNormalization()\n",
    "\n",
    "    self.classifier =  tf.keras.layers.Dense(8, activation='softmax')  # length-10 output for classification\n",
    "\n",
    "\n",
    "  def call(self, x):\n",
    "    # ...\n",
    "\n",
    "    x= self.conv_1(x)\n",
    "    x= self.pool_1(x)\n",
    "    x= self.norm_1(x)\n",
    "    \n",
    "    x= self.conv_2(x)\n",
    "    x= self.pool_2(x)\n",
    "    x= self.norm_2(x)\n",
    "\n",
    "    x= self.conv_3(x)\n",
    "    x= self.norm_3(x)\n",
    "\n",
    "    x= self.conv_4(x)\n",
    "    x= self.norm_4(x)\n",
    "\n",
    "\n",
    "    x= self.conv_5(x)\n",
    "    x= self.pool_5(x)\n",
    "    x= self.norm_5(x)\n",
    "\n",
    "\n",
    "\n",
    "\n",
    "    #self.block_5 =    tf.keras.layers.Conv2D(filters=64, kernel_size=3, strides=2, padding='same', activation='relu')\n",
    "    x= self.flat(x)\n",
    "\n",
    "    x= self.dense_6(x)  \n",
    "    x= self.drop_6(x)  \n",
    "    x= self.norm_6(x)   \n",
    "\n",
    "    x= self.dense_7(x)  \n",
    "    x= self.drop_7(x)  \n",
    "    x= self.norm_7(x)   \n",
    "\n",
    "    x= self.dense_8(x) \n",
    "    x= self.drop_8(x)  \n",
    "    x= self.norm_8(x)    \n",
    "\n",
    "    x = self.classifier(x) \n",
    "\n",
    "    return x\n",
    "\n",
    "\n",
    "\n",
    "alexnet = Alexnet()"
   ]
  },
  {
   "cell_type": "markdown",
   "metadata": {
    "colab_type": "text",
    "id": "ms1Fz9Bp_GC2"
   },
   "source": [
    "# VGG16"
   ]
  },
  {
   "cell_type": "code",
   "execution_count": 90,
   "metadata": {
    "colab": {},
    "colab_type": "code",
    "id": "wBFyF5xvceiB"
   },
   "outputs": [],
   "source": [
    "# https://www.kaggle.com/cdeotte/how-to-choose-cnn-architecture-mnist\n",
    "# best model classify mnist? 784 - [32C3-32C3-32C5S2] - [64C3-64C3-64C5S2] - 128 - 10\n",
    "\n",
    "\n",
    "class VGG16(tf.keras.Model):\n",
    "  def __init__(self):\n",
    "    super(VGG16, self).__init__()\n",
    "\n",
    "    self.conv_1 =    tf.keras.layers.Conv2D(filters=64, kernel_size=3, strides=1, padding='same', activation='relu')\n",
    "    self.conv_12 =    tf.keras.layers.Conv2D(filters=64, kernel_size=3, strides=1, padding='same', activation='relu')\n",
    "    self.pool_1 =    tf.keras.layers.MaxPooling2D(pool_size=(2, 2), strides=(2, 2),padding=\"valid\")\n",
    "    \n",
    "\n",
    "    self.conv_2 =    tf.keras.layers.Conv2D(filters=128, kernel_size=3, strides=1, padding='same', activation='relu')\n",
    "    self.conv_22 =    tf.keras.layers.Conv2D(filters=128, kernel_size=3, strides=1, padding='same', activation='relu')\n",
    "    self.pool_2 =    tf.keras.layers.MaxPooling2D(pool_size=(2, 2), strides=(2, 2),padding=\"valid\")\n",
    "\n",
    "\n",
    "    self.conv_3 =    tf.keras.layers.Conv2D(filters=256, kernel_size=3, strides=1, padding='same', activation='relu')\n",
    "    self.conv_32 =    tf.keras.layers.Conv2D(filters=256, kernel_size=3, strides=1, padding='same', activation='relu')\n",
    "    self.conv_33 =    tf.keras.layers.Conv2D(filters=256, kernel_size=3, strides=1, padding='same', activation='relu')\n",
    "    self.pool_3 =    tf.keras.layers.MaxPooling2D(pool_size=(2, 2), strides=(2, 2),padding=\"valid\")\n",
    "\n",
    "\n",
    "\n",
    "    self.conv_4 =    tf.keras.layers.Conv2D(filters=512, kernel_size=3, strides=1, padding='same', activation='relu')\n",
    "    self.conv_42 =    tf.keras.layers.Conv2D(filters=512, kernel_size=3, strides=1, padding='same', activation='relu')\n",
    "    self.conv_43 =    tf.keras.layers.Conv2D(filters=512, kernel_size=3, strides=1, padding='same', activation='relu')\n",
    "    self.pool_4 =    tf.keras.layers.MaxPooling2D(pool_size=(2, 2), strides=(2, 2),padding=\"valid\")\n",
    "\n",
    "\n",
    "\n",
    "    self.conv_5 =    tf.keras.layers.Conv2D(filters=512, kernel_size=3, strides=1, padding='same', activation='relu')\n",
    "    self.conv_52 =    tf.keras.layers.Conv2D(filters=512, kernel_size=3, strides=1, padding='same', activation='relu')\n",
    "    self.conv_53 =    tf.keras.layers.Conv2D(filters=512, kernel_size=3, strides=1, padding='same', activation='relu')\n",
    "    self.pool_5 =    tf.keras.layers.MaxPooling2D(pool_size=(2, 2), strides=(2, 2),padding=\"valid\")\n",
    "\n",
    "\n",
    "\n",
    "######################## dense ######################################\n",
    "\n",
    "    self.flat = tf.keras.layers.Flatten()\n",
    "\n",
    "    self.dense_6 = tf.keras.layers.Dense(units=4096, activation='relu')\n",
    "    self.drop_6 = tf.keras.layers.Dropout(rate=0.4)\n",
    "    self.norm_6 =    tf.keras.layers.BatchNormalization()\n",
    "\n",
    "    self.dense_7 = tf.keras.layers.Dense(units=4096, activation='relu')\n",
    "    self.drop_7 = tf.keras.layers.Dropout(rate=0.4)\n",
    "    self.norm_7 =    tf.keras.layers.BatchNormalization()\n",
    "\n",
    "    self.dense_8= tf.keras.layers.Dense(units=4096, activation='relu')\n",
    "    self.drop_8 = tf.keras.layers.Dropout(rate=0.4)\n",
    "    self.norm_8 = tf.keras.layers.BatchNormalization()\n",
    "\n",
    "    self.classifier =  tf.keras.layers.Dense(8, activation='softmax')  # length-10 output for classification\n",
    "\n",
    "\n",
    "  def call(self, x):\n",
    "    \n",
    "    x= self.conv_1(x)\n",
    "    x= self.conv_12(x)\n",
    "    x= self.pool_1(x)\n",
    "    \n",
    "    x= self.conv_2(x)\n",
    "    x= self.conv_22(x)\n",
    "    x= self.pool_2(x)\n",
    "    \n",
    "\n",
    "    x= self.conv_3(x)\n",
    "    x= self.conv_32(x)\n",
    "    x= self.conv_32(x)\n",
    "    x= self.pool_3(x)\n",
    "\n",
    "\n",
    "    x= self.conv_4(x)\n",
    "    x= self.conv_42(x)\n",
    "    x= self.conv_42(x)\n",
    "    x= self.pool_4(x)\n",
    "\n",
    "\n",
    "    x= self.conv_5(x)\n",
    "    x= self.conv_52(x)\n",
    "    x= self.conv_53(x)\n",
    "    x= self.pool_5(x)\n",
    "            \n",
    "  ######## flatten #################\n",
    "\n",
    "    x= self.flat(x)\n",
    "\n",
    "    x= self.dense_6(x)  \n",
    "    x= self.drop_6(x)  \n",
    "    x= self.norm_6(x)   \n",
    "\n",
    "    x= self.dense_7(x)  \n",
    "    x= self.drop_7(x)  \n",
    "    x= self.norm_7(x)   \n",
    "\n",
    "    x= self.dense_8(x) \n",
    "    x= self.drop_8(x)  \n",
    "    x= self.norm_8(x)    \n",
    "\n",
    "    x = self.classifier(x) \n",
    "\n",
    "    #x += input_tensor\n",
    "    return x\n",
    "\n",
    "\n",
    "\n",
    "vgg16 = VGG16()"
   ]
  },
  {
   "cell_type": "markdown",
   "metadata": {
    "colab_type": "text",
    "id": "oua5hc9kiYs9"
   },
   "source": [
    "# forward model "
   ]
  },
  {
   "cell_type": "code",
   "execution_count": 91,
   "metadata": {
    "colab": {},
    "colab_type": "code",
    "id": "1n80Zai2kwzX"
   },
   "outputs": [],
   "source": [
    "def forward_model_RGB(x_batch):\n",
    "\n",
    "  physical_out = physical_layer_RGB(x_batch)\n",
    "  return alexnet(physical_out)\n"
   ]
  },
  {
   "cell_type": "code",
   "execution_count": 92,
   "metadata": {
    "colab": {},
    "colab_type": "code",
    "id": "DctwEiyMkwow"
   },
   "outputs": [],
   "source": [
    "def forward_model_phase_mask(x_batch):\n",
    "  physical_out = physical_layer_phase_mask(x_batch)\n",
    "  return alexnet(physical_out)"
   ]
  },
  {
   "cell_type": "markdown",
   "metadata": {
    "colab_type": "text",
    "id": "LZ6wPlJvpwYx"
   },
   "source": [
    "# define loss and train test step "
   ]
  },
  {
   "cell_type": "code",
   "execution_count": 93,
   "metadata": {
    "colab": {},
    "colab_type": "code",
    "id": "FnSD6Kx9cehP"
   },
   "outputs": [],
   "source": [
    "loss_object = tf.keras.losses.SparseCategoricalCrossentropy()\n",
    "\n",
    "optimizer = tf.keras.optimizers.Adam()"
   ]
  },
  {
   "cell_type": "code",
   "execution_count": 94,
   "metadata": {
    "colab": {},
    "colab_type": "code",
    "id": "5B17Eer-cegR"
   },
   "outputs": [],
   "source": [
    "train_loss = tf.keras.metrics.Mean(name='train_loss')\n",
    "train_accuracy = tf.keras.metrics.SparseCategoricalAccuracy(name='train_accuracy')\n",
    "\n",
    "test_loss = tf.keras.metrics.Mean(name='test_loss')\n",
    "test_accuracy = tf.keras.metrics.SparseCategoricalAccuracy(name='test_accuracy')"
   ]
  },
  {
   "cell_type": "code",
   "execution_count": 95,
   "metadata": {
    "colab": {},
    "colab_type": "code",
    "id": "fXTsOCiHcea3"
   },
   "outputs": [],
   "source": [
    "@tf.function\n",
    "def train_step(images, labels):\n",
    "\n",
    "  ## add physical layer in here?????\n",
    "  #### i fix the physical layer for now, just to make sure the cnn is running\n",
    "  #print('aaa')\n",
    "\n",
    "  #####\n",
    "  with tf.GradientTape() as tape:    \n",
    "    print('bbb')\n",
    "    #tape.watch(input_illumination_phase)\n",
    "    tape.watch(aperture_phase)\n",
    "    #tape.watch(color_filter_)\n",
    "    #predictions = model(images)\n",
    "    print('ccc')\n",
    "\n",
    "    #predictions = forward_model(images,input_illumination_phase,aperture_phase)\n",
    "    predictions = forward_model_phase_mask(images)\n",
    "    #predictions = forward_model_RGB(images)\n",
    "    \n",
    "    print('ddd')\n",
    "  \n",
    "    #predictions = forward_model_RGB(images,aperture_phase)\n",
    "    #predictions = model(images)\n",
    "    loss = loss_object(labels, predictions)\n",
    "    #gradients_aperture = tf.gradients(loss, aperture_phase)\n",
    "    print('ggg')\n",
    "\n",
    "\n",
    "  gradients = tape.gradient(loss, alexnet.trainable_variables +[aperture_phase] )\n",
    "  optimizer.apply_gradients(zip(gradients, alexnet.trainable_variables+ [aperture_phase]))\n",
    "  #gradients = tape.gradient(loss,alexnet.trainable_variables + [ aperture_phase] )\n",
    "  #optimizer.apply_gradients(zip(gradients,alexnet.trainable_variables+[ aperture_phase]))\n",
    "  \n",
    "  print('fff')\n",
    "  #optimizer.apply_gradients(gradients_input_illum, input_illumination_phase)\n",
    "\n",
    "  train_loss(loss)\n",
    "  train_accuracy(labels, predictions)\n",
    "  "
   ]
  },
  {
   "cell_type": "code",
   "execution_count": 96,
   "metadata": {
    "colab": {},
    "colab_type": "code",
    "id": "I7oZCzF3ceW4"
   },
   "outputs": [],
   "source": [
    "@tf.function\n",
    "def test_step(images, labels):\n",
    "###  \n",
    "##\n",
    "  print('test step')\n",
    "  #predictions = forward_model(images,input_illumination,aperture)\n",
    "  #predictions = forward_model_RGB(images)\n",
    "\n",
    "  predictions = forward_model_phase_mask(images)\n",
    "  #predictions = model(images)\n",
    "  t_loss = loss_object(labels, predictions)\n",
    "\n",
    "  test_loss(t_loss)\n",
    "  test_accuracy(labels, predictions)\n",
    "  print(test_accuracy.result())\n",
    "  #print(test_accuracy.result().eval())\n",
    "  return predictions"
   ]
  },
  {
   "cell_type": "markdown",
   "metadata": {
    "colab_type": "text",
    "id": "M0FbllXJ7qfs"
   },
   "source": [
    "# training!!!!!!! gogogo\n"
   ]
  },
  {
   "cell_type": "code",
   "execution_count": 97,
   "metadata": {
    "colab": {
     "base_uri": "https://localhost:8080/",
     "height": 195
    },
    "colab_type": "code",
    "id": "6711K7Y2c1RG",
    "outputId": "4692f50b-3d2c-455b-c011-595a822e70a5"
   },
   "outputs": [
    {
     "name": "stdout",
     "output_type": "stream",
     "text": [
      "bbb\n",
      "ccc\n",
      "ddd\n",
      "ggg\n",
      "fff\n",
      "bbb\n",
      "ccc\n",
      "ddd\n",
      "ggg\n",
      "fff\n",
      "Epoch 1, Total iteration 20, Train Loss: 2.0556304454803467, Train Accuracy: 22.5\n",
      "Epoch 1, Total iteration 40, Train Loss: 1.7849299907684326, Train Accuracy: 27.734375\n",
      "Epoch 1, Total iteration 60, Train Loss: 1.6380354166030884, Train Accuracy: 30.416667938232422\n",
      "Epoch 1, Total iteration 80, Train Loss: 1.5648236274719238, Train Accuracy: 32.1484375\n",
      "Epoch 1, Total iteration 100, Train Loss: 1.519595742225647, Train Accuracy: 34.1875\n",
      "bbb\n",
      "ccc\n",
      "ddd\n",
      "ggg\n",
      "fff\n",
      "test step\n",
      "Tensor(\"Identity_2:0\", shape=(), dtype=float32)\n",
      "Epoch 1, Total iteration 20, Test Loss: 1.6565043926239014, Test Accuracy: 21.40625\n",
      "test step\n",
      "Tensor(\"Identity_2:0\", shape=(), dtype=float32)\n",
      "Epoch 1, Total iteration 40, Test Loss: 1.6343023777008057, Test Accuracy: 22.31999969482422\n",
      "predictions_arr []\n",
      "label_arr []\n",
      "Epoch 1, Loss: 1.4768261909484863, Accuracy: 35.36000061035156, Test Loss: 1.6343023777008057, Test Accuracy: 22.31999969482422\n",
      "Epoch 2, Total iteration 20, Train Loss: 1.3756825923919678, Train Accuracy: 39.21875\n",
      "Epoch 2, Total iteration 40, Train Loss: 1.3523310422897339, Train Accuracy: 37.1875\n",
      "Epoch 2, Total iteration 60, Train Loss: 1.299630045890808, Train Accuracy: 39.21875\n",
      "Epoch 2, Total iteration 80, Train Loss: 1.2646806240081787, Train Accuracy: 40.5859375\n",
      "Epoch 2, Total iteration 100, Train Loss: 1.2292150259017944, Train Accuracy: 42.8125\n",
      "Epoch 2, Total iteration 20, Test Loss: 1.2957098484039307, Test Accuracy: 44.0625\n",
      "Epoch 2, Total iteration 40, Test Loss: 1.3051944971084595, Test Accuracy: 43.52000045776367\n",
      "predictions_arr []\n",
      "label_arr []\n",
      "Epoch 2, Loss: 1.2174121141433716, Accuracy: 42.90666580200195, Test Loss: 1.3051944971084595, Test Accuracy: 43.52000045776367\n",
      "Epoch 3, Total iteration 20, Train Loss: 1.0737369060516357, Train Accuracy: 48.125\n",
      "Epoch 3, Total iteration 40, Train Loss: 1.0733281373977661, Train Accuracy: 47.65625\n",
      "Epoch 3, Total iteration 60, Train Loss: 1.0707465410232544, Train Accuracy: 48.64583206176758\n",
      "Epoch 3, Total iteration 80, Train Loss: 1.068784475326538, Train Accuracy: 48.75\n",
      "Epoch 3, Total iteration 100, Train Loss: 1.0610442161560059, Train Accuracy: 49.84375\n",
      "Epoch 3, Total iteration 20, Test Loss: 1.2034070491790771, Test Accuracy: 42.34375\n",
      "Epoch 3, Total iteration 40, Test Loss: 1.1888597011566162, Test Accuracy: 43.7599983215332\n",
      "predictions_arr []\n",
      "label_arr []\n",
      "Epoch 3, Loss: 1.0641541481018066, Accuracy: 49.84000015258789, Test Loss: 1.1888597011566162, Test Accuracy: 43.7599983215332\n",
      "Epoch 4, Total iteration 20, Train Loss: 1.0546324253082275, Train Accuracy: 49.6875\n",
      "Epoch 4, Total iteration 40, Train Loss: 1.0465888977050781, Train Accuracy: 50.3125\n",
      "Epoch 4, Total iteration 60, Train Loss: 1.029056429862976, Train Accuracy: 51.406253814697266\n",
      "Epoch 4, Total iteration 80, Train Loss: 1.0098445415496826, Train Accuracy: 52.03125\n",
      "Epoch 4, Total iteration 100, Train Loss: 1.0181591510772705, Train Accuracy: 52.09375\n",
      "Epoch 4, Total iteration 20, Test Loss: 1.0023739337921143, Test Accuracy: 64.375\n",
      "Epoch 4, Total iteration 40, Test Loss: 0.9839552640914917, Test Accuracy: 64.4800033569336\n",
      "predictions_arr []\n",
      "label_arr []\n",
      "Epoch 4, Loss: 1.016068458557129, Accuracy: 52.15999984741211, Test Loss: 0.9839552640914917, Test Accuracy: 64.4800033569336\n",
      "Epoch 5, Total iteration 20, Train Loss: 1.0660455226898193, Train Accuracy: 55.78125\n",
      "Epoch 5, Total iteration 40, Train Loss: 1.0338709354400635, Train Accuracy: 56.484378814697266\n",
      "Epoch 5, Total iteration 60, Train Loss: 1.0069959163665771, Train Accuracy: 56.77083206176758\n",
      "Epoch 5, Total iteration 80, Train Loss: 1.0221346616744995, Train Accuracy: 55.859375\n",
      "Epoch 5, Total iteration 100, Train Loss: 1.032254695892334, Train Accuracy: 55.062503814697266\n",
      "Epoch 5, Total iteration 20, Test Loss: 1.014967679977417, Test Accuracy: 59.0625\n",
      "Epoch 5, Total iteration 40, Test Loss: 0.9949836730957031, Test Accuracy: 59.28000259399414\n",
      "predictions_arr []\n",
      "label_arr []\n",
      "Epoch 5, Loss: 1.023998498916626, Accuracy: 55.62666702270508, Test Loss: 0.9949836730957031, Test Accuracy: 59.28000259399414\n",
      "Epoch 6, Total iteration 20, Train Loss: 1.0173537731170654, Train Accuracy: 56.25\n",
      "Epoch 6, Total iteration 40, Train Loss: 0.9583162069320679, Train Accuracy: 58.671875\n",
      "Epoch 6, Total iteration 60, Train Loss: 0.9531466960906982, Train Accuracy: 58.95833206176758\n",
      "Epoch 6, Total iteration 80, Train Loss: 0.9479435682296753, Train Accuracy: 57.8125\n",
      "Epoch 6, Total iteration 100, Train Loss: 0.9396296143531799, Train Accuracy: 57.875\n",
      "Epoch 6, Total iteration 20, Test Loss: 0.9488253593444824, Test Accuracy: 58.59375\n",
      "Epoch 6, Total iteration 40, Test Loss: 0.9652484655380249, Test Accuracy: 58.2400016784668\n",
      "predictions_arr []\n",
      "label_arr []\n",
      "Epoch 6, Loss: 0.9303452372550964, Accuracy: 58.186668395996094, Test Loss: 0.9652484655380249, Test Accuracy: 58.2400016784668\n",
      "Epoch 7, Total iteration 20, Train Loss: 0.9673396944999695, Train Accuracy: 57.187496185302734\n",
      "Epoch 7, Total iteration 40, Train Loss: 0.954193115234375, Train Accuracy: 57.34375\n",
      "Epoch 7, Total iteration 60, Train Loss: 0.9397276043891907, Train Accuracy: 57.39583206176758\n",
      "Epoch 7, Total iteration 80, Train Loss: 0.9087279438972473, Train Accuracy: 59.023441314697266\n",
      "Epoch 7, Total iteration 100, Train Loss: 0.8996025919914246, Train Accuracy: 59.375\n",
      "Epoch 7, Total iteration 20, Test Loss: 1.0878496170043945, Test Accuracy: 55.624996185302734\n",
      "Epoch 7, Total iteration 40, Test Loss: 1.0940144062042236, Test Accuracy: 54.63999938964844\n",
      "predictions_arr []\n",
      "label_arr []\n",
      "Epoch 7, Loss: 0.9082261323928833, Accuracy: 58.63999557495117, Test Loss: 1.0940144062042236, Test Accuracy: 54.63999938964844\n",
      "Epoch 8, Total iteration 20, Train Loss: 1.8975811004638672, Train Accuracy: 35.46875\n",
      "Epoch 8, Total iteration 40, Train Loss: 3.2325949668884277, Train Accuracy: 27.656251907348633\n",
      "Epoch 8, Total iteration 60, Train Loss: 2.609969139099121, Train Accuracy: 31.197917938232422\n",
      "Epoch 8, Total iteration 80, Train Loss: 2.284348726272583, Train Accuracy: 33.5546875\n",
      "Epoch 8, Total iteration 100, Train Loss: 2.055036783218384, Train Accuracy: 35.65625\n",
      "Epoch 8, Total iteration 20, Test Loss: 1.3956749439239502, Test Accuracy: 39.21875\n",
      "Epoch 8, Total iteration 40, Test Loss: 1.407254934310913, Test Accuracy: 38.08000183105469\n",
      "predictions_arr []\n",
      "label_arr []\n",
      "Epoch 8, Loss: 1.8943979740142822, Accuracy: 37.893333435058594, Test Loss: 1.407254934310913, Test Accuracy: 38.08000183105469\n",
      "Epoch 9, Total iteration 20, Train Loss: 1.1873277425765991, Train Accuracy: 44.53125\n",
      "Epoch 9, Total iteration 40, Train Loss: 1.1691944599151611, Train Accuracy: 45.15625\n",
      "Epoch 9, Total iteration 60, Train Loss: 1.1159714460372925, Train Accuracy: 47.03125\n",
      "Epoch 9, Total iteration 80, Train Loss: 1.0822044610977173, Train Accuracy: 48.4765625\n",
      "Epoch 9, Total iteration 100, Train Loss: 1.0639941692352295, Train Accuracy: 49.5625\n",
      "Epoch 9, Total iteration 20, Test Loss: 1.039353609085083, Test Accuracy: 51.875\n",
      "Epoch 9, Total iteration 40, Test Loss: 1.0285087823867798, Test Accuracy: 52.15999984741211\n",
      "predictions_arr []\n",
      "label_arr []\n",
      "Epoch 9, Loss: 1.0471160411834717, Accuracy: 50.986663818359375, Test Loss: 1.0285087823867798, Test Accuracy: 52.15999984741211\n",
      "Epoch 10, Total iteration 20, Train Loss: 1.0633769035339355, Train Accuracy: 49.84375\n",
      "Epoch 10, Total iteration 40, Train Loss: 1.0277222394943237, Train Accuracy: 49.375\n",
      "Epoch 10, Total iteration 60, Train Loss: 0.9976734519004822, Train Accuracy: 51.354164123535156\n",
      "Epoch 10, Total iteration 80, Train Loss: 0.982945442199707, Train Accuracy: 52.578128814697266\n",
      "Epoch 10, Total iteration 100, Train Loss: 0.9634409546852112, Train Accuracy: 53.625\n",
      "label_arr.shape (32,)\n",
      "label_arr.shape (64,)\n",
      "label_arr.shape (96,)\n",
      "label_arr.shape (128,)\n",
      "label_arr.shape (160,)\n",
      "label_arr.shape (192,)\n",
      "label_arr.shape (224,)\n",
      "label_arr.shape (256,)\n",
      "label_arr.shape (288,)\n",
      "label_arr.shape (320,)\n",
      "label_arr.shape (352,)\n",
      "label_arr.shape (384,)\n",
      "label_arr.shape (416,)\n",
      "label_arr.shape (448,)\n",
      "label_arr.shape (480,)\n",
      "label_arr.shape (512,)\n",
      "label_arr.shape (544,)\n",
      "label_arr.shape (576,)\n",
      "label_arr.shape (608,)\n",
      "label_arr.shape (640,)\n",
      "Epoch 10, Total iteration 20, Test Loss: 1.0839855670928955, Test Accuracy: 52.499996185302734\n",
      "label_arr.shape (672,)\n"
     ]
    },
    {
     "name": "stdout",
     "output_type": "stream",
     "text": [
      "label_arr.shape (704,)\n",
      "label_arr.shape (736,)\n",
      "label_arr.shape (768,)\n",
      "label_arr.shape (800,)\n",
      "label_arr.shape (832,)\n",
      "label_arr.shape (864,)\n",
      "label_arr.shape (896,)\n",
      "label_arr.shape (928,)\n",
      "label_arr.shape (960,)\n",
      "label_arr.shape (992,)\n",
      "label_arr.shape (1024,)\n",
      "label_arr.shape (1056,)\n",
      "label_arr.shape (1088,)\n",
      "label_arr.shape (1120,)\n",
      "label_arr.shape (1152,)\n",
      "label_arr.shape (1184,)\n",
      "label_arr.shape (1216,)\n",
      "label_arr.shape (1248,)\n",
      "label_arr.shape (1250,)\n",
      "Epoch 10, Total iteration 40, Test Loss: 1.0853089094161987, Test Accuracy: 52.0\n",
      "predictions_arr [4.86682547e-05 6.58564508e-01 1.05827771e-01 ... 2.48536631e-03\n",
      " 6.31285226e-03 4.91832092e-04]\n",
      "label_arr [1. 5. 0. ... 3. 6. 1.]\n",
      "Epoch 10, Loss: 0.9453462362289429, Accuracy: 54.720001220703125, Test Loss: 1.0853089094161987, Test Accuracy: 52.0\n",
      "train_loss_arr [1.4768262  1.2174121  1.0641541  1.0160685  1.0239985  0.93034524\n",
      " 0.90822613 1.894398   1.047116   0.94534624]\n",
      "test_loss_arr [1.6343024  1.3051945  1.1888597  0.98395526 0.9949837  0.96524847\n",
      " 1.0940144  1.4072549  1.0285088  1.0853089 ]\n",
      "train_acc_arr [35.36     42.906666 49.84     52.16     55.626667 58.18667  58.639996\n",
      " 37.893333 50.986664 54.72    ]\n",
      "test_acc_arr [22.32     43.52     43.76     64.48     59.280003 58.24     54.64\n",
      " 38.08     52.16     52.      ]\n"
     ]
    }
   ],
   "source": [
    "EPOCHS = 10\n",
    "train_acc_list = []\n",
    "test_acc_list = []\n",
    "train_loss_list = []\n",
    "test_loss_list = []\n",
    "\n",
    "predictions_arr = np.array([])\n",
    "label_arr = np.array([])\n",
    "\n",
    "\n",
    "for epoch in range(EPOCHS):\n",
    "  # Reset the metrics at the start of the next epoch\n",
    "  train_loss.reset_states()\n",
    "  train_accuracy.reset_states()\n",
    "  test_loss.reset_states()\n",
    "  test_accuracy.reset_states()\n",
    "  i = 0\n",
    "  for images, labels in train_ds:\n",
    "    i = i+1 # total 1875 batches for training data\n",
    "    #print('i',i)\n",
    "    images = images.numpy()\n",
    "    labels = labels.numpy()\n",
    "    #images = tf.cast(images, tf.float32)\n",
    "    #print(images)\n",
    "    train_step(images, labels)\n",
    "    if i%20 == 0:\n",
    "      template_train = 'Epoch {}, Total iteration {}, Train Loss: {}, Train Accuracy: {}'\n",
    "      print(template_train.format(epoch+1, i, train_loss.result(), train_accuracy.result()*100))\n",
    "      ## monitor the illuminace phase and aperture phase\n",
    "  t = 0\n",
    "  for test_images, test_labels in test_ds:\n",
    "    predictions =  test_step(test_images, test_labels)\n",
    "\n",
    "    if (epoch == 9):\n",
    "  # only biuld the confusion matrix by the last epoch\n",
    "      predictions_arr = np.append(predictions_arr , predictions)\n",
    "      label_arr = np.append(label_arr, test_labels)\n",
    "      print('label_arr.shape',label_arr.shape)\n",
    "    t = t + 1 \n",
    "    #print('t',t)\n",
    "    if t%20 == 0:\n",
    "      template_test = 'Epoch {}, Total iteration {}, Test Loss: {}, Test Accuracy: {}'\n",
    "      print(template_test.format(epoch+1, t, test_loss.result(), test_accuracy.result()*100))\n",
    "  template = 'Epoch {}, Loss: {}, Accuracy: {}, Test Loss: {}, Test Accuracy: {}'\n",
    "  print('predictions_arr',predictions_arr)\n",
    "  print('label_arr',label_arr)\n",
    "  print(template.format(epoch+1,\n",
    "                        train_loss.result(),\n",
    "                        train_accuracy.result()*100,\n",
    "                        test_loss.result(),\n",
    "                        test_accuracy.result()*100))\n",
    "  \n",
    "  \n",
    "  test_acc_list.append(test_accuracy.result()*100)\n",
    "  train_acc_list.append(train_accuracy.result()*100)\n",
    "  test_loss_list.append(test_loss.result())\n",
    "  train_loss_list.append(train_loss.result())\n",
    "\n",
    "train_loss_arr = np.array(train_loss_list)\n",
    "test_loss_arr = np.array(test_loss_list)\n",
    "print('train_loss_arr',train_loss_arr)\n",
    "print('test_loss_arr',test_loss_arr)\n",
    "\n",
    "train_acc_arr = np.array(train_acc_list)\n",
    "test_acc_arr = np.array(test_acc_list)\n",
    "print('train_acc_arr',train_acc_arr)\n",
    "print('test_acc_arr',test_acc_arr)"
   ]
  },
  {
   "cell_type": "code",
   "execution_count": 98,
   "metadata": {},
   "outputs": [
    {
     "name": "stdout",
     "output_type": "stream",
     "text": [
      "10000\n",
      "(1250, 8)\n"
     ]
    }
   ],
   "source": [
    "lens = predictions_arr.shape[0]\n",
    "print(lens)\n",
    "predictions_arr = np.reshape(predictions_arr, (int(lens/8),8))\n",
    "print(predictions_arr.shape)"
   ]
  },
  {
   "cell_type": "code",
   "execution_count": 99,
   "metadata": {},
   "outputs": [
    {
     "name": "stdout",
     "output_type": "stream",
     "text": [
      "(1250,)\n",
      "[1 5 3 ... 0 7 4]\n"
     ]
    }
   ],
   "source": [
    "\n",
    "predictions_arr_real = np.zeros(predictions_arr.shape[0])\n",
    "#for i in range(predictions_arr2.shape[0]):\n",
    "predictions_arr_real = np.argmax(predictions_arr,axis = 1)\n",
    "\n",
    "print(predictions_arr_real.shape)\n",
    "print(predictions_arr_real)"
   ]
  },
  {
   "cell_type": "code",
   "execution_count": 108,
   "metadata": {},
   "outputs": [
    {
     "data": {
      "image/png": "[encoded data removed]",
      "text/plain": [
       "<Figure size 720x504 with 2 Axes>"
      ]
     },
     "metadata": {
      "needs_background": "light"
     },
     "output_type": "display_data"
    }
   ],
   "source": [
    "from sklearn.metrics import confusion_matrix\n",
    "import seaborn as sns\n",
    "cm = confusion_matrix(label_arr, predictions_arr_real)\n",
    "df_cm = pd.DataFrame(cm, index = [i for i in \"01234567\"],\n",
    "                  columns = [i for i in \"01234567\"])\n",
    "plt.figure(figsize = (10,7))\n",
    "\n",
    "ax = sns.heatmap(df_cm, annot=True)\n",
    "ax.set(xlabel=\"Predict Label\", ylabel = \"True Label\")\n",
    "plt.show()"
   ]
  }
 ],
 "metadata": {
  "accelerator": "GPU",
  "colab": {
   "collapsed_sections": [],
   "name": "Alex_lets_do_confusion_matrix_true_constriant1_phase_mask_correct.ipynb",
   "provenance": []
  },
  "kernelspec": {
   "display_name": "Python 3",
   "language": "python",
   "name": "python3"
  },
  "language_info": {
   "codemirror_mode": {
    "name": "ipython",
    "version": 3
   },
   "file_extension": ".py",
   "mimetype": "text/x-python",
   "name": "python",
   "nbconvert_exporter": "python",
   "pygments_lexer": "ipython3",
   "version": "3.7.6"
  }
 },
 "nbformat": 4,
 "nbformat_minor": 1
}
